{
  "nbformat": 4,
  "nbformat_minor": 0,
  "metadata": {
    "colab": {
      "provenance": []
    },
    "kernelspec": {
      "name": "python3",
      "display_name": "Python 3"
    },
    "language_info": {
      "name": "python"
    }
  },
  "cells": [
    {
      "cell_type": "code",
      "execution_count": null,
      "metadata": {
        "id": "fq75fEqjoMNc"
      },
      "outputs": [],
      "source": [
        "# Installing gTTS library\n",
        "!pip install gTTS"
      ]
    },
    {
      "cell_type": "code",
      "source": [
        "# After installing gTTS let's load and work with it from gtts import gTTS\n",
        "from gtts import gTTS\n",
        "input_text = \"I like NLP and now this is machine voice\"\n",
        "convert = gTTS(text= input_text, lang='en')"
      ],
      "metadata": {
        "id": "dhbIZ6mmoN98"
      },
      "execution_count": 4,
      "outputs": []
    },
    {
      "cell_type": "code",
      "source": [
        "# Saving the converted audio into an mp3 file\n",
        "convert.save('audio.mp3')"
      ],
      "metadata": {
        "id": "2hhqqHyOoqCr"
      },
      "execution_count": 5,
      "outputs": []
    },
    {
      "cell_type": "code",
      "source": [],
      "metadata": {
        "id": "jz58fNZKo7_D"
      },
      "execution_count": null,
      "outputs": []
    }
  ]
}