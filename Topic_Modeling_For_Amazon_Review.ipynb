{
  "nbformat": 4,
  "nbformat_minor": 0,
  "metadata": {
    "colab": {
      "provenance": []
    },
    "kernelspec": {
      "name": "python3",
      "display_name": "Python 3"
    },
    "language_info": {
      "name": "python"
    }
  },
  "cells": [
    {
      "cell_type": "markdown",
      "source": [
        "**Tasks -**\n",
        "\n",
        "1. Normalize case\n",
        "\n",
        "2. Tokenize (using word_tokenize from NLTK)\n",
        "\n",
        "3. POS tagging using the NLTK pos tagger\n",
        "\n",
        "4. For the topic model, we would want to include only nouns\n",
        "\n",
        "      * First, find out all the POS tags that correspond to nouns\n",
        "\n",
        "5. Lemmatize (you want different forms of the terms to be treated as one, don't worry about providing POS tag to lemmatizer for now)\n",
        "\n",
        "6. Remove stop words and punctuation\n",
        "\n",
        "7. Create a topic model using LDA on the cleaned up data with 10 topics\n",
        "\n",
        "     ⚫ choose the topic model parameters carefully\n",
        "\n",
        "      * what is the coherence of the model?\n",
        "\n",
        "8. Analyze the topics, which pairs of topics can be combined?\n",
        "\n",
        "9. Create topic model using LDA with what you think is the optimal number of topics\n",
        "\n",
        "      ⚫ choose the topic model parameters carefully\n",
        "\n",
        "      ⚫is the coherence better now?\n",
        "10. The business finally needs to be able to interpret the topics\n",
        "      \n",
        "      * name each of the identified topics\n",
        "\n",
        "      * create a table with the topic name and the top 10 terms in each to present to business\n",
        "        "
      ],
      "metadata": {
        "id": "mOma4w2WJlxS"
      }
    },
    {
      "cell_type": "markdown",
      "source": [
        "**Some code to get you** **started**"
      ],
      "metadata": {
        "id": "HjlAOEztKUFZ"
      }
    },
    {
      "cell_type": "code",
      "source": [
        "import warnings\n",
        "warnings.filterwarnings(\"ignore\")\n",
        "\n",
        "# Importing the usual utilities\n",
        "\n",
        "import numpy as np, pandas as pd\n",
        "import re, random, os, string\n",
        "from pprint import pprint #pretty print\n",
        "from nltk.tokenize import word_tokenize\n",
        "from nltk.stem import WordNetLemmatizer"
      ],
      "metadata": {
        "id": "VdiBah85JvXZ"
      },
      "execution_count": 2,
      "outputs": []
    },
    {
      "cell_type": "markdown",
      "source": [
        "**Reading in the reviews file**"
      ],
      "metadata": {
        "id": "hlH44tAhK6n7"
      }
    },
    {
      "cell_type": "code",
      "source": [
        "# Import the dataset\n",
        "\n",
        "reviews = pd.read_csv(\"/content/K8 Reviews v0.2.csv\")\n",
        "reviews.head()"
      ],
      "metadata": {
        "colab": {
          "base_uri": "https://localhost:8080/",
          "height": 206
        },
        "id": "1aZW4aJ4KxGE",
        "outputId": "36639a36-7087-4c50-bf87-d448e7c2c6a2"
      },
      "execution_count": 3,
      "outputs": [
        {
          "output_type": "execute_result",
          "data": {
            "text/plain": [
              "   sentiment                                             review\n",
              "0          1             Good but need updates and improvements\n",
              "1          0  Worst mobile i have bought ever, Battery is dr...\n",
              "2          1  when I will get my 10% cash back.... its alrea...\n",
              "3          1                                               Good\n",
              "4          0  The worst phone everThey have changed the last..."
            ],
            "text/html": [
              "\n",
              "  <div id=\"df-d8b4cc84-d827-46fc-9ce2-5543e18148f1\" class=\"colab-df-container\">\n",
              "    <div>\n",
              "<style scoped>\n",
              "    .dataframe tbody tr th:only-of-type {\n",
              "        vertical-align: middle;\n",
              "    }\n",
              "\n",
              "    .dataframe tbody tr th {\n",
              "        vertical-align: top;\n",
              "    }\n",
              "\n",
              "    .dataframe thead th {\n",
              "        text-align: right;\n",
              "    }\n",
              "</style>\n",
              "<table border=\"1\" class=\"dataframe\">\n",
              "  <thead>\n",
              "    <tr style=\"text-align: right;\">\n",
              "      <th></th>\n",
              "      <th>sentiment</th>\n",
              "      <th>review</th>\n",
              "    </tr>\n",
              "  </thead>\n",
              "  <tbody>\n",
              "    <tr>\n",
              "      <th>0</th>\n",
              "      <td>1</td>\n",
              "      <td>Good but need updates and improvements</td>\n",
              "    </tr>\n",
              "    <tr>\n",
              "      <th>1</th>\n",
              "      <td>0</td>\n",
              "      <td>Worst mobile i have bought ever, Battery is dr...</td>\n",
              "    </tr>\n",
              "    <tr>\n",
              "      <th>2</th>\n",
              "      <td>1</td>\n",
              "      <td>when I will get my 10% cash back.... its alrea...</td>\n",
              "    </tr>\n",
              "    <tr>\n",
              "      <th>3</th>\n",
              "      <td>1</td>\n",
              "      <td>Good</td>\n",
              "    </tr>\n",
              "    <tr>\n",
              "      <th>4</th>\n",
              "      <td>0</td>\n",
              "      <td>The worst phone everThey have changed the last...</td>\n",
              "    </tr>\n",
              "  </tbody>\n",
              "</table>\n",
              "</div>\n",
              "    <div class=\"colab-df-buttons\">\n",
              "\n",
              "  <div class=\"colab-df-container\">\n",
              "    <button class=\"colab-df-convert\" onclick=\"convertToInteractive('df-d8b4cc84-d827-46fc-9ce2-5543e18148f1')\"\n",
              "            title=\"Convert this dataframe to an interactive table.\"\n",
              "            style=\"display:none;\">\n",
              "\n",
              "  <svg xmlns=\"http://www.w3.org/2000/svg\" height=\"24px\" viewBox=\"0 -960 960 960\">\n",
              "    <path d=\"M120-120v-720h720v720H120Zm60-500h600v-160H180v160Zm220 220h160v-160H400v160Zm0 220h160v-160H400v160ZM180-400h160v-160H180v160Zm440 0h160v-160H620v160ZM180-180h160v-160H180v160Zm440 0h160v-160H620v160Z\"/>\n",
              "  </svg>\n",
              "    </button>\n",
              "\n",
              "  <style>\n",
              "    .colab-df-container {\n",
              "      display:flex;\n",
              "      gap: 12px;\n",
              "    }\n",
              "\n",
              "    .colab-df-convert {\n",
              "      background-color: #E8F0FE;\n",
              "      border: none;\n",
              "      border-radius: 50%;\n",
              "      cursor: pointer;\n",
              "      display: none;\n",
              "      fill: #1967D2;\n",
              "      height: 32px;\n",
              "      padding: 0 0 0 0;\n",
              "      width: 32px;\n",
              "    }\n",
              "\n",
              "    .colab-df-convert:hover {\n",
              "      background-color: #E2EBFA;\n",
              "      box-shadow: 0px 1px 2px rgba(60, 64, 67, 0.3), 0px 1px 3px 1px rgba(60, 64, 67, 0.15);\n",
              "      fill: #174EA6;\n",
              "    }\n",
              "\n",
              "    .colab-df-buttons div {\n",
              "      margin-bottom: 4px;\n",
              "    }\n",
              "\n",
              "    [theme=dark] .colab-df-convert {\n",
              "      background-color: #3B4455;\n",
              "      fill: #D2E3FC;\n",
              "    }\n",
              "\n",
              "    [theme=dark] .colab-df-convert:hover {\n",
              "      background-color: #434B5C;\n",
              "      box-shadow: 0px 1px 3px 1px rgba(0, 0, 0, 0.15);\n",
              "      filter: drop-shadow(0px 1px 2px rgba(0, 0, 0, 0.3));\n",
              "      fill: #FFFFFF;\n",
              "    }\n",
              "  </style>\n",
              "\n",
              "    <script>\n",
              "      const buttonEl =\n",
              "        document.querySelector('#df-d8b4cc84-d827-46fc-9ce2-5543e18148f1 button.colab-df-convert');\n",
              "      buttonEl.style.display =\n",
              "        google.colab.kernel.accessAllowed ? 'block' : 'none';\n",
              "\n",
              "      async function convertToInteractive(key) {\n",
              "        const element = document.querySelector('#df-d8b4cc84-d827-46fc-9ce2-5543e18148f1');\n",
              "        const dataTable =\n",
              "          await google.colab.kernel.invokeFunction('convertToInteractive',\n",
              "                                                    [key], {});\n",
              "        if (!dataTable) return;\n",
              "\n",
              "        const docLinkHtml = 'Like what you see? Visit the ' +\n",
              "          '<a target=\"_blank\" href=https://colab.research.google.com/notebooks/data_table.ipynb>data table notebook</a>'\n",
              "          + ' to learn more about interactive tables.';\n",
              "        element.innerHTML = '';\n",
              "        dataTable['output_type'] = 'display_data';\n",
              "        await google.colab.output.renderOutput(dataTable, element);\n",
              "        const docLink = document.createElement('div');\n",
              "        docLink.innerHTML = docLinkHtml;\n",
              "        element.appendChild(docLink);\n",
              "      }\n",
              "    </script>\n",
              "  </div>\n",
              "\n",
              "\n",
              "<div id=\"df-3645a90d-51b7-4ff4-af4f-82913f5c7b80\">\n",
              "  <button class=\"colab-df-quickchart\" onclick=\"quickchart('df-3645a90d-51b7-4ff4-af4f-82913f5c7b80')\"\n",
              "            title=\"Suggest charts\"\n",
              "            style=\"display:none;\">\n",
              "\n",
              "<svg xmlns=\"http://www.w3.org/2000/svg\" height=\"24px\"viewBox=\"0 0 24 24\"\n",
              "     width=\"24px\">\n",
              "    <g>\n",
              "        <path d=\"M19 3H5c-1.1 0-2 .9-2 2v14c0 1.1.9 2 2 2h14c1.1 0 2-.9 2-2V5c0-1.1-.9-2-2-2zM9 17H7v-7h2v7zm4 0h-2V7h2v10zm4 0h-2v-4h2v4z\"/>\n",
              "    </g>\n",
              "</svg>\n",
              "  </button>\n",
              "\n",
              "<style>\n",
              "  .colab-df-quickchart {\n",
              "      --bg-color: #E8F0FE;\n",
              "      --fill-color: #1967D2;\n",
              "      --hover-bg-color: #E2EBFA;\n",
              "      --hover-fill-color: #174EA6;\n",
              "      --disabled-fill-color: #AAA;\n",
              "      --disabled-bg-color: #DDD;\n",
              "  }\n",
              "\n",
              "  [theme=dark] .colab-df-quickchart {\n",
              "      --bg-color: #3B4455;\n",
              "      --fill-color: #D2E3FC;\n",
              "      --hover-bg-color: #434B5C;\n",
              "      --hover-fill-color: #FFFFFF;\n",
              "      --disabled-bg-color: #3B4455;\n",
              "      --disabled-fill-color: #666;\n",
              "  }\n",
              "\n",
              "  .colab-df-quickchart {\n",
              "    background-color: var(--bg-color);\n",
              "    border: none;\n",
              "    border-radius: 50%;\n",
              "    cursor: pointer;\n",
              "    display: none;\n",
              "    fill: var(--fill-color);\n",
              "    height: 32px;\n",
              "    padding: 0;\n",
              "    width: 32px;\n",
              "  }\n",
              "\n",
              "  .colab-df-quickchart:hover {\n",
              "    background-color: var(--hover-bg-color);\n",
              "    box-shadow: 0 1px 2px rgba(60, 64, 67, 0.3), 0 1px 3px 1px rgba(60, 64, 67, 0.15);\n",
              "    fill: var(--button-hover-fill-color);\n",
              "  }\n",
              "\n",
              "  .colab-df-quickchart-complete:disabled,\n",
              "  .colab-df-quickchart-complete:disabled:hover {\n",
              "    background-color: var(--disabled-bg-color);\n",
              "    fill: var(--disabled-fill-color);\n",
              "    box-shadow: none;\n",
              "  }\n",
              "\n",
              "  .colab-df-spinner {\n",
              "    border: 2px solid var(--fill-color);\n",
              "    border-color: transparent;\n",
              "    border-bottom-color: var(--fill-color);\n",
              "    animation:\n",
              "      spin 1s steps(1) infinite;\n",
              "  }\n",
              "\n",
              "  @keyframes spin {\n",
              "    0% {\n",
              "      border-color: transparent;\n",
              "      border-bottom-color: var(--fill-color);\n",
              "      border-left-color: var(--fill-color);\n",
              "    }\n",
              "    20% {\n",
              "      border-color: transparent;\n",
              "      border-left-color: var(--fill-color);\n",
              "      border-top-color: var(--fill-color);\n",
              "    }\n",
              "    30% {\n",
              "      border-color: transparent;\n",
              "      border-left-color: var(--fill-color);\n",
              "      border-top-color: var(--fill-color);\n",
              "      border-right-color: var(--fill-color);\n",
              "    }\n",
              "    40% {\n",
              "      border-color: transparent;\n",
              "      border-right-color: var(--fill-color);\n",
              "      border-top-color: var(--fill-color);\n",
              "    }\n",
              "    60% {\n",
              "      border-color: transparent;\n",
              "      border-right-color: var(--fill-color);\n",
              "    }\n",
              "    80% {\n",
              "      border-color: transparent;\n",
              "      border-right-color: var(--fill-color);\n",
              "      border-bottom-color: var(--fill-color);\n",
              "    }\n",
              "    90% {\n",
              "      border-color: transparent;\n",
              "      border-bottom-color: var(--fill-color);\n",
              "    }\n",
              "  }\n",
              "</style>\n",
              "\n",
              "  <script>\n",
              "    async function quickchart(key) {\n",
              "      const quickchartButtonEl =\n",
              "        document.querySelector('#' + key + ' button');\n",
              "      quickchartButtonEl.disabled = true;  // To prevent multiple clicks.\n",
              "      quickchartButtonEl.classList.add('colab-df-spinner');\n",
              "      try {\n",
              "        const charts = await google.colab.kernel.invokeFunction(\n",
              "            'suggestCharts', [key], {});\n",
              "      } catch (error) {\n",
              "        console.error('Error during call to suggestCharts:', error);\n",
              "      }\n",
              "      quickchartButtonEl.classList.remove('colab-df-spinner');\n",
              "      quickchartButtonEl.classList.add('colab-df-quickchart-complete');\n",
              "    }\n",
              "    (() => {\n",
              "      let quickchartButtonEl =\n",
              "        document.querySelector('#df-3645a90d-51b7-4ff4-af4f-82913f5c7b80 button');\n",
              "      quickchartButtonEl.style.display =\n",
              "        google.colab.kernel.accessAllowed ? 'block' : 'none';\n",
              "    })();\n",
              "  </script>\n",
              "</div>\n",
              "\n",
              "    </div>\n",
              "  </div>\n"
            ],
            "application/vnd.google.colaboratory.intrinsic+json": {
              "type": "dataframe",
              "variable_name": "reviews",
              "summary": "{\n  \"name\": \"reviews\",\n  \"rows\": 14675,\n  \"fields\": [\n    {\n      \"column\": \"sentiment\",\n      \"properties\": {\n        \"dtype\": \"number\",\n        \"std\": 0,\n        \"min\": 0,\n        \"max\": 1,\n        \"num_unique_values\": 2,\n        \"samples\": [\n          0,\n          1\n        ],\n        \"semantic_type\": \"\",\n        \"description\": \"\"\n      }\n    },\n    {\n      \"column\": \"review\",\n      \"properties\": {\n        \"dtype\": \"string\",\n        \"num_unique_values\": 12967,\n        \"samples\": [\n          \"excellent one. All in one. Nice battery back up...\",\n          \"In this price rate it's a very decent phone. Everything works fine but 4 stars rating because of dual camera depth mode is ok not so good. Better also works fine and turbo support charger works perfectly . In the last I love this phone\"\n        ],\n        \"semantic_type\": \"\",\n        \"description\": \"\"\n      }\n    }\n  ]\n}"
            }
          },
          "metadata": {},
          "execution_count": 3
        }
      ]
    },
    {
      "cell_type": "code",
      "source": [
        "reviews.shape"
      ],
      "metadata": {
        "colab": {
          "base_uri": "https://localhost:8080/"
        },
        "id": "yphaUYnOLzA-",
        "outputId": "220ed724-c47b-4c4a-90a8-9eae8aceabd7"
      },
      "execution_count": 4,
      "outputs": [
        {
          "output_type": "execute_result",
          "data": {
            "text/plain": [
              "(14675, 2)"
            ]
          },
          "metadata": {},
          "execution_count": 4
        }
      ]
    },
    {
      "cell_type": "markdown",
      "source": [
        "**Task 1. Normalize case**"
      ],
      "metadata": {
        "id": "ujs-DDRZWH1D"
      }
    },
    {
      "cell_type": "code",
      "source": [
        "reviews_lower = [sent.lower() for sent in reviews.review.values]\n",
        "reviews_lower[0]"
      ],
      "metadata": {
        "colab": {
          "base_uri": "https://localhost:8080/",
          "height": 35
        },
        "id": "mJccI8jlWKAb",
        "outputId": "97286489-9ce6-4525-a46e-410fe403af26"
      },
      "execution_count": 5,
      "outputs": [
        {
          "output_type": "execute_result",
          "data": {
            "text/plain": [
              "'good but need updates and improvements'"
            ],
            "application/vnd.google.colaboratory.intrinsic+json": {
              "type": "string"
            }
          },
          "metadata": {},
          "execution_count": 5
        }
      ]
    },
    {
      "cell_type": "markdown",
      "source": [
        "**Task 2. Tokenize (using word_tokenize from NLTK)**"
      ],
      "metadata": {
        "id": "Y46q7d46WVJT"
      }
    },
    {
      "cell_type": "code",
      "source": [
        "import nltk\n",
        "nltk.download('punkt_tab')\n",
        "reviews_token = [word_tokenize(sent) for sent in reviews_lower]\n",
        "reviews_token [0]"
      ],
      "metadata": {
        "colab": {
          "base_uri": "https://localhost:8080/"
        },
        "id": "SV4l-OH9WSFG",
        "outputId": "69acb7c8-68d3-4105-825d-204cbcb328de"
      },
      "execution_count": 7,
      "outputs": [
        {
          "output_type": "stream",
          "name": "stderr",
          "text": [
            "[nltk_data] Downloading package punkt_tab to /root/nltk_data...\n",
            "[nltk_data]   Unzipping tokenizers/punkt_tab.zip.\n"
          ]
        },
        {
          "output_type": "execute_result",
          "data": {
            "text/plain": [
              "['good', 'but', 'need', 'updates', 'and', 'improvements']"
            ]
          },
          "metadata": {},
          "execution_count": 7
        }
      ]
    },
    {
      "cell_type": "markdown",
      "source": [
        "**Task 3. POS tagging using the NLTK pos tagger**\n",
        "\n",
        "Check out the POS tagging chapter from the NLTK book\n",
        "\n",
        "http://www.nltk.org/book/ch05.html\n",
        "\n",
        "Examples -"
      ],
      "metadata": {
        "id": "qmZDvqBbZNea"
      }
    },
    {
      "cell_type": "code",
      "source": [
        "import nltk\n",
        "nltk.download('averaged_perceptron_tagger')"
      ],
      "metadata": {
        "colab": {
          "base_uri": "https://localhost:8080/"
        },
        "id": "ZIB-N9hJW5QN",
        "outputId": "1beb8fe5-3475-4b50-d1c9-ffaa4b14c344"
      },
      "execution_count": 8,
      "outputs": [
        {
          "output_type": "stream",
          "name": "stderr",
          "text": [
            "[nltk_data] Downloading package averaged_perceptron_tagger to\n",
            "[nltk_data]     /root/nltk_data...\n",
            "[nltk_data]   Unzipping taggers/averaged_perceptron_tagger.zip.\n"
          ]
        },
        {
          "output_type": "execute_result",
          "data": {
            "text/plain": [
              "True"
            ]
          },
          "metadata": {},
          "execution_count": 8
        }
      ]
    },
    {
      "cell_type": "code",
      "source": [
        "# Get the list of tag\n",
        "nltk.download('tagsets_json')\n",
        "nltk.download('tagsets')\n",
        "nltk.help.brown_tagset()"
      ],
      "metadata": {
        "id": "sHCroVAoZeGP"
      },
      "execution_count": null,
      "outputs": []
    },
    {
      "cell_type": "code",
      "source": [
        "nltk.download('averaged_perceptron_tagger_eng')\n",
        "nltk.pos_tag(reviews_token [0])"
      ],
      "metadata": {
        "colab": {
          "base_uri": "https://localhost:8080/"
        },
        "id": "fhJQY3FSZp6y",
        "outputId": "c5481908-01ad-4c31-ee13-a68bd27eccd7"
      },
      "execution_count": 12,
      "outputs": [
        {
          "output_type": "stream",
          "name": "stderr",
          "text": [
            "[nltk_data] Downloading package averaged_perceptron_tagger_eng to\n",
            "[nltk_data]     /root/nltk_data...\n",
            "[nltk_data]   Unzipping taggers/averaged_perceptron_tagger_eng.zip.\n"
          ]
        },
        {
          "output_type": "execute_result",
          "data": {
            "text/plain": [
              "[('good', 'JJ'),\n",
              " ('but', 'CC'),\n",
              " ('need', 'VBP'),\n",
              " ('updates', 'NNS'),\n",
              " ('and', 'CC'),\n",
              " ('improvements', 'NNS')]"
            ]
          },
          "metadata": {},
          "execution_count": 12
        }
      ]
    },
    {
      "cell_type": "code",
      "source": [
        "sent = \"I like to move it\".split()\n",
        "sent_tagged = nltk.pos_tag(sent)"
      ],
      "metadata": {
        "id": "db5XX3fIaQxK"
      },
      "execution_count": 13,
      "outputs": []
    },
    {
      "cell_type": "code",
      "source": [
        "sent_tagged"
      ],
      "metadata": {
        "colab": {
          "base_uri": "https://localhost:8080/"
        },
        "id": "FnK4XDSZa-y7",
        "outputId": "37e75d08-8b7e-410d-bf6c-bd02f00aa5ae"
      },
      "execution_count": 14,
      "outputs": [
        {
          "output_type": "execute_result",
          "data": {
            "text/plain": [
              "[('I', 'PRP'), ('like', 'VBP'), ('to', 'TO'), ('move', 'VB'), ('it', 'PRP')]"
            ]
          },
          "metadata": {},
          "execution_count": 14
        }
      ]
    },
    {
      "cell_type": "code",
      "source": [
        "# Apply on the dataset\n",
        "reviews_tagged = [nltk.pos_tag(tokens) for tokens in reviews_token]\n",
        "reviews_tagged[0]"
      ],
      "metadata": {
        "colab": {
          "base_uri": "https://localhost:8080/"
        },
        "id": "XZXwAcAlbC2d",
        "outputId": "784d5eed-56e5-4eeb-c3ab-1bd2b8f2b5a2"
      },
      "execution_count": 15,
      "outputs": [
        {
          "output_type": "execute_result",
          "data": {
            "text/plain": [
              "[('good', 'JJ'),\n",
              " ('but', 'CC'),\n",
              " ('need', 'VBP'),\n",
              " ('updates', 'NNS'),\n",
              " ('and', 'CC'),\n",
              " ('improvements', 'NNS')]"
            ]
          },
          "metadata": {},
          "execution_count": 15
        }
      ]
    },
    {
      "cell_type": "markdown",
      "source": [
        "**Task 4. For the topic model, we would want to include only nouns**\n",
        "\n",
        "* First, find out all the POS tags that correspond to nouns\n",
        "\n",
        "* Limit the data to only terms with these tags"
      ],
      "metadata": {
        "id": "b9-3S6Cbbft7"
      }
    },
    {
      "cell_type": "code",
      "source": [
        "nltk.download('tagsets')\n",
        "nltk.help.upenn_tagset()"
      ],
      "metadata": {
        "id": "kQnpHyFHbSFr"
      },
      "execution_count": null,
      "outputs": []
    },
    {
      "cell_type": "markdown",
      "source": [
        "You see that for each term, the POS taggger returns a tuple. The first element of the tuple being the term, the second being the tag."
      ],
      "metadata": {
        "id": "1KOoZP_lcIcQ"
      }
    },
    {
      "cell_type": "code",
      "source": [
        "tagged_tuple = nltk.pos_tag(['great'])\n",
        "tagged_tuple[0]"
      ],
      "metadata": {
        "colab": {
          "base_uri": "https://localhost:8080/"
        },
        "id": "lewm3pcCbtVp",
        "outputId": "2caabbcb-113d-4557-a073-7000511ed8e0"
      },
      "execution_count": 17,
      "outputs": [
        {
          "output_type": "execute_result",
          "data": {
            "text/plain": [
              "('great', 'JJ')"
            ]
          },
          "metadata": {},
          "execution_count": 17
        }
      ]
    },
    {
      "cell_type": "code",
      "source": [
        "pprint(tagged_tuple[0][0])\n",
        "pprint(tagged_tuple[0][1])"
      ],
      "metadata": {
        "colab": {
          "base_uri": "https://localhost:8080/"
        },
        "id": "mhuiNRtWcZFr",
        "outputId": "1652570f-b21b-42eb-d63c-5c418281df9d"
      },
      "execution_count": 18,
      "outputs": [
        {
          "output_type": "stream",
          "name": "stdout",
          "text": [
            "'great'\n",
            "'JJ'\n"
          ]
        }
      ]
    },
    {
      "cell_type": "code",
      "source": [
        "reviews_noun=[]\n",
        "for sent in reviews_tagged:\n",
        "  reviews_noun.append([token for token in sent if re.search(\"NN.*\", token[1])])\n",
        "\n",
        "reviews_noun[0]"
      ],
      "metadata": {
        "colab": {
          "base_uri": "https://localhost:8080/"
        },
        "id": "nSvSjEpMccl2",
        "outputId": "e86b8a63-ebd5-415d-f880-c409d8ac10e3"
      },
      "execution_count": 21,
      "outputs": [
        {
          "output_type": "execute_result",
          "data": {
            "text/plain": [
              "[('updates', 'NNS'), ('improvements', 'NNS')]"
            ]
          },
          "metadata": {},
          "execution_count": 21
        }
      ]
    },
    {
      "cell_type": "markdown",
      "source": [
        "**5.Lemmatize (you want different forms of the terms to be treated as one,  don't worry about providing POS tag to lemmatizer for now)**"
      ],
      "metadata": {
        "id": "I56FNT69eHUn"
      }
    },
    {
      "cell_type": "code",
      "source": [
        "# Apply lemmatization\n",
        "nltk.download('wordnet')\n",
        "\n",
        "lemm = WordNetLemmatizer()\n",
        "reviews_lemm=[]\n",
        "\n",
        "for sent in reviews_noun:\n",
        "  reviews_lemm.append([lemm.lemmatize(word[0]) for word in sent])"
      ],
      "metadata": {
        "colab": {
          "base_uri": "https://localhost:8080/"
        },
        "id": "ruB2obKxch-3",
        "outputId": "d7450a5a-710d-4cba-d557-30d4b40c5221"
      },
      "execution_count": 22,
      "outputs": [
        {
          "output_type": "stream",
          "name": "stderr",
          "text": [
            "[nltk_data] Downloading package wordnet to /root/nltk_data...\n"
          ]
        }
      ]
    },
    {
      "cell_type": "code",
      "source": [
        "reviews_lemm[0]"
      ],
      "metadata": {
        "colab": {
          "base_uri": "https://localhost:8080/"
        },
        "id": "lCFj_FG5dzrN",
        "outputId": "24997fd9-1125-441d-ae05-e78eed0e8833"
      },
      "execution_count": 23,
      "outputs": [
        {
          "output_type": "execute_result",
          "data": {
            "text/plain": [
              "['update', 'improvement']"
            ]
          },
          "metadata": {},
          "execution_count": 23
        }
      ]
    },
    {
      "cell_type": "markdown",
      "source": [
        "**Task 6. Remove stop words and punctuation (if there are any at all after the POS tagging)**\n",
        "\n",
        "Use NLTK standard stop word list and the punctuations"
      ],
      "metadata": {
        "id": "_rUpOlWleoYQ"
      }
    },
    {
      "cell_type": "code",
      "source": [
        "nltk.download('stopwords')\n",
        "from string import punctuation\n",
        "from nltk.corpus import stopwords\n",
        "stop_nltk = stopwords.words(\"english\")"
      ],
      "metadata": {
        "colab": {
          "base_uri": "https://localhost:8080/"
        },
        "id": "F0oSuU_md69-",
        "outputId": "1493a86e-3652-42e5-8388-ce27f92554e3"
      },
      "execution_count": 25,
      "outputs": [
        {
          "output_type": "stream",
          "name": "stderr",
          "text": [
            "[nltk_data] Downloading package stopwords to /root/nltk_data...\n",
            "[nltk_data]   Package stopwords is already up-to-date!\n"
          ]
        }
      ]
    },
    {
      "cell_type": "code",
      "source": [
        "list(punctuation)"
      ],
      "metadata": {
        "id": "hTXeQ-0xfEbA"
      },
      "execution_count": null,
      "outputs": []
    },
    {
      "cell_type": "code",
      "source": [
        "stop_updated = stop_nltk + list(punctuation) + [\"...\"] + [\"..\"]\n",
        "reviews_sw_removed=[]\n",
        "for sent in reviews_lemm:\n",
        "  reviews_sw_removed.append([term for term in sent if term not in stop_updated])"
      ],
      "metadata": {
        "id": "W8QItdyhevyp"
      },
      "execution_count": 28,
      "outputs": []
    },
    {
      "cell_type": "code",
      "source": [
        "reviews_sw_removed[1]"
      ],
      "metadata": {
        "colab": {
          "base_uri": "https://localhost:8080/"
        },
        "id": "GHmGQLnOf2iC",
        "outputId": "05229764-3f2c-4cd2-dd36-18d507be7fe7"
      },
      "execution_count": 29,
      "outputs": [
        {
          "output_type": "execute_result",
          "data": {
            "text/plain": [
              "['mobile',\n",
              " 'battery',\n",
              " 'hell',\n",
              " 'backup',\n",
              " 'hour',\n",
              " 'us',\n",
              " 'idle',\n",
              " 'discharged.this',\n",
              " 'lie',\n",
              " 'amazon',\n",
              " 'lenove',\n",
              " 'battery',\n",
              " 'charger',\n",
              " 'hour']"
            ]
          },
          "metadata": {},
          "execution_count": 29
        }
      ]
    },
    {
      "cell_type": "markdown",
      "source": [
        "**Task 7. Create a topic model using LDA on the cleaned up data with 10 topics**\n",
        "\n",
        "* what is the coherence of the model?\n",
        "\n",
        "Use gensim for this task"
      ],
      "metadata": {
        "id": "jtVh098FgoJx"
      }
    },
    {
      "cell_type": "code",
      "source": [
        "import gensim\n",
        "import gensim.corpora as corpora\n",
        "from gensim.models import CoherenceModel\n",
        "from gensim.models import ldamodel"
      ],
      "metadata": {
        "id": "bKtdOAJsgAdj"
      },
      "execution_count": 30,
      "outputs": []
    },
    {
      "cell_type": "code",
      "source": [
        "# Create a Dictionary\n",
        "id2word = corpora.Dictionary(reviews_sw_removed)\n",
        "print(len(id2word))\n",
        "\n",
        "#get the words in Dictionary\n",
        "print(id2word)"
      ],
      "metadata": {
        "colab": {
          "base_uri": "https://localhost:8080/"
        },
        "id": "-7yUkfqEgyZh",
        "outputId": "ee510ee2-9ffb-4887-a49b-a94dacab7ada"
      },
      "execution_count": 31,
      "outputs": [
        {
          "output_type": "stream",
          "name": "stdout",
          "text": [
            "9266\n",
            "Dictionary<9266 unique tokens: ['improvement', 'update', 'amazon', 'backup', 'battery']...>\n"
          ]
        }
      ]
    },
    {
      "cell_type": "code",
      "source": [
        "# Convert document (a list of words) into the bag-of-words format\n",
        "# It contains the word id and its frequency in each document.\n",
        "\n",
        "texts = reviews_sw_removed\n",
        "corpus = [id2word.doc2bow(text) for text in texts]\n",
        "print(corpus [200])"
      ],
      "metadata": {
        "colab": {
          "base_uri": "https://localhost:8080/"
        },
        "id": "tYsbLb2Vg35C",
        "outputId": "adf79ee8-81e4-465e-fffe-1eabaf8d6d00"
      },
      "execution_count": 32,
      "outputs": [
        {
          "output_type": "stream",
          "name": "stdout",
          "text": [
            "[(36, 1), (143, 1), (314, 1), (415, 1), (416, 1)]\n"
          ]
        }
      ]
    },
    {
      "cell_type": "code",
      "source": [
        "#Apply the LDA model\n",
        "\n",
        "lda_model = gensim.models.ldamodel.LdaModel(corpus=corpus,\n",
        "                                              id2word=id2word,\n",
        "                                              num_topics=10,\n",
        "                                              passes=10) # Number of passes through the corpus during training.\n",
        "#alpha= 0.2,\n",
        "#eta= 8.1\n",
        "#chunksize=100, #chunksize controls how many documents are processed at a time in the training algorithm"
      ],
      "metadata": {
        "id": "4ufzqsVkhTl1"
      },
      "execution_count": 34,
      "outputs": []
    },
    {
      "cell_type": "code",
      "source": [
        "# show the first 10 words belonging to each topic\n",
        "\n",
        "for idx, topic in lda_model.show_topics(formatted=False, num_words= 10):\n",
        "  print(\"Topic: {} \\nwords: {}\".format(idx, [w[0] for w in topic]))\n",
        "  print(\"\\n\")"
      ],
      "metadata": {
        "colab": {
          "base_uri": "https://localhost:8080/"
        },
        "id": "syn1N8wehuEo",
        "outputId": "8964e67c-a662-40d8-f77c-ddb7ca52e649"
      },
      "execution_count": 37,
      "outputs": [
        {
          "output_type": "stream",
          "name": "stdout",
          "text": [
            "Topic: 0 \n",
            "words: ['phone', 'device', 'music', 'software', 'issue', 'ram', 'android', 'camera', 'apps', 'stock']\n",
            "\n",
            "\n",
            "Topic: 1 \n",
            "words: ['product', 'money', 'amazon', 'service', 'waste', 'value', 'lenovo', 'customer', 'replacement', 'day']\n",
            "\n",
            "\n",
            "Topic: 2 \n",
            "words: ['phone', '....', '.....', 'screen', 'cast', 'box', 'smartphone', 'set', 'thanks', 'month']\n",
            "\n",
            "\n",
            "Topic: 3 \n",
            "words: ['network', 'call', 'phone', 'feature', 'problem', 'sim', 'issue', 'option', 'jio', 'support']\n",
            "\n",
            "\n",
            "Topic: 4 \n",
            "words: ['camera', 'quality', 'phone', 'performance', 'display', 'mode', 'feature', 'sound', 'budget', 'glass']\n",
            "\n",
            "\n",
            "Topic: 5 \n",
            "words: ['note', 'k8', 'lenovo', 'mobile', 'handset', 'system', 'feature', 'speed', 'model', 'update']\n",
            "\n",
            "\n",
            "Topic: 6 \n",
            "words: ['price', 'range', 'speaker', 'mobile', 'work', 'condition', 'offer', 'purchase', 'order', 'thank']\n",
            "\n",
            "\n",
            "Topic: 7 \n",
            "words: ['delivery', 'hai', 'h', 'charger', 'super', 'heat', 'ho', 'cell', 'complaint', 'gud']\n",
            "\n",
            "\n",
            "Topic: 8 \n",
            "words: ['battery', 'phone', 'mobile', 'problem', 'issue', 'day', 'backup', 'heating', 'time', 'hour']\n",
            "\n",
            "\n",
            "Topic: 9 \n",
            "words: ['processor', 'superb', 'expectation', 'core', 'experience', 'worth', '......', 'message', 'ok', 'class']\n",
            "\n",
            "\n"
          ]
        }
      ]
    },
    {
      "cell_type": "code",
      "source": [
        "#Compute Coherence Score\n",
        "coherence_model_lda = CoherenceModel(model=lda_model, texts=reviews_sw_removed, dictionary=id2word, coherence='c_v') #\n",
        "# Get the coherence score using get_coherence() method\n",
        "coherence_lda = coherence_model_lda.get_coherence()\n",
        "print('\\nCoherence Score: ', coherence_lda)"
      ],
      "metadata": {
        "colab": {
          "base_uri": "https://localhost:8080/"
        },
        "id": "nSJPth6gipwv",
        "outputId": "082e29f8-c508-46a5-a9c0-b22517f6cdfe"
      },
      "execution_count": 40,
      "outputs": [
        {
          "output_type": "stream",
          "name": "stdout",
          "text": [
            "\n",
            "Coherence Score:  0.5819247409386898\n"
          ]
        }
      ]
    },
    {
      "cell_type": "code",
      "source": [
        "!pip install pyLDAvis==3.4.1 # To visualize lda model"
      ],
      "metadata": {
        "colab": {
          "base_uri": "https://localhost:8080/"
        },
        "id": "MBjCgA_wjyR9",
        "outputId": "09a3cd37-73f5-4efc-ce0f-e0d44909030a"
      },
      "execution_count": 41,
      "outputs": [
        {
          "output_type": "stream",
          "name": "stdout",
          "text": [
            "Collecting pyLDAvis==3.4.1\n",
            "  Downloading pyLDAvis-3.4.1-py3-none-any.whl.metadata (4.2 kB)\n",
            "Requirement already satisfied: numpy>=1.24.2 in /usr/local/lib/python3.10/dist-packages (from pyLDAvis==3.4.1) (1.26.4)\n",
            "Requirement already satisfied: scipy in /usr/local/lib/python3.10/dist-packages (from pyLDAvis==3.4.1) (1.13.1)\n",
            "Requirement already satisfied: pandas>=2.0.0 in /usr/local/lib/python3.10/dist-packages (from pyLDAvis==3.4.1) (2.2.2)\n",
            "Requirement already satisfied: joblib>=1.2.0 in /usr/local/lib/python3.10/dist-packages (from pyLDAvis==3.4.1) (1.4.2)\n",
            "Requirement already satisfied: jinja2 in /usr/local/lib/python3.10/dist-packages (from pyLDAvis==3.4.1) (3.1.4)\n",
            "Requirement already satisfied: numexpr in /usr/local/lib/python3.10/dist-packages (from pyLDAvis==3.4.1) (2.10.2)\n",
            "Collecting funcy (from pyLDAvis==3.4.1)\n",
            "  Downloading funcy-2.0-py2.py3-none-any.whl.metadata (5.9 kB)\n",
            "Requirement already satisfied: scikit-learn>=1.0.0 in /usr/local/lib/python3.10/dist-packages (from pyLDAvis==3.4.1) (1.5.2)\n",
            "Requirement already satisfied: gensim in /usr/local/lib/python3.10/dist-packages (from pyLDAvis==3.4.1) (4.3.3)\n",
            "Requirement already satisfied: setuptools in /usr/local/lib/python3.10/dist-packages (from pyLDAvis==3.4.1) (75.1.0)\n",
            "Requirement already satisfied: python-dateutil>=2.8.2 in /usr/local/lib/python3.10/dist-packages (from pandas>=2.0.0->pyLDAvis==3.4.1) (2.8.2)\n",
            "Requirement already satisfied: pytz>=2020.1 in /usr/local/lib/python3.10/dist-packages (from pandas>=2.0.0->pyLDAvis==3.4.1) (2024.2)\n",
            "Requirement already satisfied: tzdata>=2022.7 in /usr/local/lib/python3.10/dist-packages (from pandas>=2.0.0->pyLDAvis==3.4.1) (2024.2)\n",
            "Requirement already satisfied: threadpoolctl>=3.1.0 in /usr/local/lib/python3.10/dist-packages (from scikit-learn>=1.0.0->pyLDAvis==3.4.1) (3.5.0)\n",
            "Requirement already satisfied: smart-open>=1.8.1 in /usr/local/lib/python3.10/dist-packages (from gensim->pyLDAvis==3.4.1) (7.0.5)\n",
            "Requirement already satisfied: MarkupSafe>=2.0 in /usr/local/lib/python3.10/dist-packages (from jinja2->pyLDAvis==3.4.1) (3.0.2)\n",
            "Requirement already satisfied: six>=1.5 in /usr/local/lib/python3.10/dist-packages (from python-dateutil>=2.8.2->pandas>=2.0.0->pyLDAvis==3.4.1) (1.16.0)\n",
            "Requirement already satisfied: wrapt in /usr/local/lib/python3.10/dist-packages (from smart-open>=1.8.1->gensim->pyLDAvis==3.4.1) (1.17.0)\n",
            "Downloading pyLDAvis-3.4.1-py3-none-any.whl (2.6 MB)\n",
            "\u001b[2K   \u001b[90m━━━━━━━━━━━━━━━━━━━━━━━━━━━━━━━━━━━━━━━━\u001b[0m \u001b[32m2.6/2.6 MB\u001b[0m \u001b[31m22.5 MB/s\u001b[0m eta \u001b[36m0:00:00\u001b[0m\n",
            "\u001b[?25hDownloading funcy-2.0-py2.py3-none-any.whl (30 kB)\n",
            "Installing collected packages: funcy, pyLDAvis\n",
            "Successfully installed funcy-2.0 pyLDAvis-3.4.1\n"
          ]
        }
      ]
    },
    {
      "cell_type": "code",
      "source": [
        "# Visualization\n",
        "\n",
        "import pyLDAvis\n",
        "import pyLDAvis.gensim\n",
        "pyLDAvis.enable_notebook()\n",
        "\n",
        "#vis = pyLDAvis.gensim_models.prepare(lda_model,corpus,id2word)\n",
        "vis = pyLDAvis.gensim.prepare(lda_model, corpus, id2word)\n",
        "vis"
      ],
      "metadata": {
        "colab": {
          "base_uri": "https://localhost:8080/",
          "height": 861
        },
        "id": "n-4MlegDkSxK",
        "outputId": "b3fb4e66-cf5b-44cb-8b05-59b212a4a063"
      },
      "execution_count": 42,
      "outputs": [
        {
          "output_type": "execute_result",
          "data": {
            "text/plain": [
              "PreparedData(topic_coordinates=              x         y  topics  cluster       Freq\n",
              "topic                                                \n",
              "8      0.146929 -0.129357       1        1  19.766322\n",
              "0      0.144498 -0.007154       2        1  13.782691\n",
              "4      0.148807  0.240014       3        1  13.684826\n",
              "1     -0.011568 -0.306580       4        1  11.930890\n",
              "5     -0.060383 -0.025667       5        1   9.802068\n",
              "3      0.134683 -0.029980       6        1   9.476932\n",
              "2      0.158608  0.105313       7        1   8.410916\n",
              "7     -0.229107  0.018326       8        1   5.093799\n",
              "6     -0.214459  0.059230       9        1   4.062812\n",
              "9     -0.218009  0.075855      10        1   3.988744, topic_info=           Term         Freq        Total Category  logprob  loglift\n",
              "16        phone  6599.000000  6599.000000  Default  30.0000  30.0000\n",
              "58       camera  3121.000000  3121.000000  Default  29.0000  29.0000\n",
              "50      product  2132.000000  2132.000000  Default  28.0000  28.0000\n",
              "4       battery  2962.000000  2962.000000  Default  27.0000  27.0000\n",
              "68        price   887.000000   887.000000  Default  26.0000  26.0000\n",
              "..          ...          ...          ...      ...      ...      ...\n",
              "248  experience   101.159859   259.966051  Topic10  -3.5437   2.2778\n",
              "530  everything    69.274353   233.610896  Topic10  -3.9224   2.0061\n",
              "424        moto    27.633414    79.076951  Topic10  -4.8414   2.1703\n",
              "12       mobile    59.533008  1486.532681  Topic10  -4.0739   0.0040\n",
              "232      gaming    21.745673    59.136250  Topic10  -5.0810   2.2213\n",
              "\n",
              "[497 rows x 6 columns], token_table=      Topic      Freq      Term\n",
              "term                           \n",
              "143       7  0.998244      ....\n",
              "103       7  0.995874     .....\n",
              "499      10  0.990198    ......\n",
              "367       3  0.960709   .......\n",
              "1181      7  0.923581  ........\n",
              "...     ...       ...       ...\n",
              "34        1  0.968315     wrost\n",
              "349       8  0.980906        ye\n",
              "29        5  0.985949      year\n",
              "2323      3  0.975553      zoom\n",
              "4929      7  0.939015         👌\n",
              "\n",
              "[641 rows x 3 columns], R=30, lambda_step=0.01, plot_opts={'xlab': 'PC1', 'ylab': 'PC2'}, topic_order=[9, 1, 5, 2, 6, 4, 3, 8, 7, 10])"
            ],
            "text/html": [
              "\n",
              "<link rel=\"stylesheet\" type=\"text/css\" href=\"https://cdn.jsdelivr.net/gh/bmabey/pyLDAvis@3.4.0/pyLDAvis/js/ldavis.v1.0.0.css\">\n",
              "\n",
              "\n",
              "<div id=\"ldavis_el16741377363953286408469101377\" style=\"background-color:white;\"></div>\n",
              "<script type=\"text/javascript\">\n",
              "\n",
              "var ldavis_el16741377363953286408469101377_data = {\"mdsDat\": {\"x\": [0.1469286975632784, 0.14449833005850668, 0.1488074746753799, -0.011567867687095843, -0.06038281641335696, 0.13468270397315013, 0.1586084767083315, -0.22910656814322253, -0.21445937761101938, -0.21800905312395183], \"y\": [-0.1293569857885711, -0.007153820101227791, 0.24001409069581586, -0.3065804533412584, -0.025667137081096934, -0.029979722703538512, 0.10531319932126389, 0.01832595045727599, 0.05923012032794135, 0.07585475821339534], \"topics\": [1, 2, 3, 4, 5, 6, 7, 8, 9, 10], \"cluster\": [1, 1, 1, 1, 1, 1, 1, 1, 1, 1], \"Freq\": [19.766321666835527, 13.78269119016044, 13.684826387121909, 11.930890454756453, 9.802067664811128, 9.476931855824072, 8.410916046511264, 5.0937988458065675, 4.0628115043089945, 3.9887443838636467]}, \"tinfo\": {\"Term\": [\"phone\", \"camera\", \"product\", \"battery\", \"price\", \"quality\", \"note\", \"mobile\", \"....\", \"k8\", \"problem\", \"lenovo\", \"network\", \"money\", \"amazon\", \"range\", \"call\", \"service\", \"speaker\", \"issue\", \"performance\", \"backup\", \"heating\", \"feature\", \"processor\", \"day\", \"hour\", \"device\", \"delivery\", \"charger\", \"backup\", \"heating\", \"hour\", \"life\", \"charging\", \"turbo\", \"hr\", \"mah\", \"drain\", \"hanging\", \"capacity\", \"phn\", \"draining\", \"amount\", \"concern\", \"drainage\", \"percent\", \"standby\", \"saver\", \"discharge\", \"morning\", \"lenevo\", \"couple\", \"percentage\", \"battery\", \"photography\", \"manager\", \"amazone\", \"wrost\", \"adapter\", \"hang\", \"oreo\", \"charge\", \"min\", \"mobile\", \"problem\", \"heat\", \"day\", \"issue\", \"charger\", \"usage\", \"time\", \"use\", \"month\", \"lot\", \"phone\", \"performance\", \"bit\", \"update\", \"game\", \"week\", \"star\", \"music\", \"ram\", \"android\", \"stock\", \"memory\", \"key\", \"gb\", \"atmos\", \"con\", \"design\", \"fast\", \"google\", \"storage\", \"management\", \"player\", \"finger\", \"body\", \"improvement\", \"wise\", \"future\", \"ringtone\", \"pro\", \"lover\", \"bluetooth\", \"half\", \"net\", \"play\", \"i.e\", \"v\", \"difference\", \"print\", \"apps\", \"device\", \"software\", \"bug\", \"card\", \"app\", \"video\", \"dolby\", \"nothing\", \"side\", \"user\", \"game\", \"button\", \"phone\", \"update\", \"issue\", \"sensor\", \"time\", \"processor\", \"day\", \"camera\", \"lenovo\", \"speaker\", \"battery\", \"review\", \"quality\", \"budget\", \"glass\", \"depth\", \"picture\", \"gorilla\", \"excellent\", \"pic\", \"selfie\", \"result\", \"rear\", \"color\", \"space\", \"processing\", \"hd\", \".......\", \"scratch\", \"good\", \"build\", \"fone\", \"bokeh\", \"level\", \"back\", \"switch\", \"zoom\", \"fall\", \"blur\", \"front\", \"camara\", \"tray\", \"display\", \"camera\", \"mark\", \"effect\", \"image\", \"mode\", \"performance\", \"flash\", \"photo\", \"sound\", \"light\", \"touch\", \"look\", \"feature\", \"phone\", \"everything\", \"bit\", \"screen\", \"video\", \"thing\", \"product\", \"money\", \"amazon\", \"service\", \"waste\", \"value\", \"customer\", \"return\", \"replacement\", \"center\", \"policy\", \"care\", \"cost\", \"centre\", \"item\", \"warranty\", \"exchange\", \"top\", \"seller\", \"faulty\", \"fault\", \"comparison\", \"batter\", \".........\", \"job\", \"wastage\", \"perfect\", \"standard\", \"repair\", \"water\", \"piece\", \"team\", \"cable\", \"refund\", \"response\", \"dont\", \"pls\", \"suggestion\", \"request\", \"please\", \"buy\", \"month\", \"lenovo\", \"day\", \"experience\", \"time\", \"purchase\", \"problem\", \"issue\", \"device\", \"k8\", \"note\", \"handset\", \"system\", \"model\", \"killer\", \"mp\", \"compare\", \"k4\", \"fingerprint\", \"year\", \"shot\", \"k5\", \"nice\", \"hope\", \"defect\", \"ui\", \"vibe\", \"k6\", \"lte\", \"functionality\", \"file\", \"drawback\", \"working\", \"china\", \"fix\", \"detail\", \"stop\", \"bottom\", \"icon\", \"lenovo\", \"function\", \"spec\", \"clarity\", \"speed\", \"today\", \"way\", \"earphone\", \"update\", \"sensor\", \"mobile\", \"feature\", \"screen\", \"company\", \"power\", \"sound\", \"option\", \"network\", \"call\", \"jio\", \"volta\", \"signal\", \"contact\", \"voice\", \"awesome\", \"connection\", \"recording\", \"recorder\", \"cover\", \"auto\", \"facility\", \"name\", \"party\", \"strength\", \"reception\", \"hotspot\", \"default\", \"mind\", \"caller\", \"hota\", \"mob\", \"doesnt\", \"record\", \"list\", \"suck\", \"protection\", \"coverage\", \"sim\", \"support\", \"headphone\", \"number\", \"feature\", \"notification\", \"specification\", \"application\", \"option\", \"data\", \"volume\", \"slot\", \"problem\", \"issue\", \"phone\", \"wifi\", \"time\", \"speed\", \"app\", \"work\", \"....\", \".....\", \"cast\", \"box\", \"smartphone\", \"set\", \"date\", \"bill\", \"tv\", \"segment\", \"head\", \"invoice\", \"smart\", \"copy\", \"movie\", \"phone-\", \".but\", \"phone.it\", \"trouble\", \"flipkart\", \"rupee\", \"buget\", \"department\", \"........\", \"menu\", \"mia1\", \"\\ud83d\\udc4c\", \"connects\", \"rotation\", \"station\", \"headset\", \"phone\", \"thanks\", \"till\", \"screen\", \"rate\", \"doubt\", \"month\", \"please\", \"option\", \"problem\", \"thing\", \"brand\", \"earphone\", \"delivery\", \"hai\", \"h\", \"super\", \"ho\", \"cell\", \"complaint\", \"gud\", \"bhi\", \"ye\", \"complain\", \"ko\", \"mail\", \"ka\", \"ki\", \"se\", \"raha\", \"tha\", \"par\", \"bahut\", \"nahi\", \"nhi\", \"rha\", \"ke\", \"ear\", \"second\", \"din\", \"kar\", \"loss\", \"comment\", \"help\", \"k\", \"charger\", \"heat\", \"hi\", \"buying\", \"star\", \"charge\", \"price\", \"range\", \"condition\", \"offer\", \"order\", \"thank\", \"accessory\", \"bekar\", \"idea\", \"ph\", \"beast\", \"benefit\", \"wire\", \"msg\", \"rock\", \"priority\", \"car\", \"surprise\", \"degree\", \"sensing\", \"satisfaction\", \"ha\", \"premium\", \"powerfull\", \"satisfy\", \"method\", \"shipping\", \"gaget\", \"backupfast\", \"chargingsmooth\", \"speaker\", \"process\", \"work\", \"online\", \"interface\", \"purchase\", \"samsung\", \"r\", \"mobile\", \"average\", \"point\", \"everything\", \"clarity\", \"superb\", \"expectation\", \"worth\", \"......\", \"message\", \"ok\", \"class\", \"deca\", \"package\", \"core\", \"others\", \"sir\", \"graphic\", \"cash\", \"jata\", \"restart\", \"pc\", \"cool\", \"deal\", \"description\", \"claim\", \"atom\", \"test\", \"tone\", \"toh\", \"mera\", \"guess\", \"g5s\", \"hone\", \"thik\", \"processor\", \"plz\", \"experience\", \"everything\", \"moto\", \"mobile\", \"gaming\"], \"Freq\": [6599.0, 3121.0, 2132.0, 2962.0, 887.0, 1314.0, 1109.0, 1486.0, 572.0, 578.0, 1458.0, 874.0, 535.0, 587.0, 532.0, 349.0, 472.0, 483.0, 354.0, 1399.0, 859.0, 555.0, 553.0, 828.0, 310.0, 887.0, 445.0, 465.0, 221.0, 425.0, 554.579170774097, 552.4263809281272, 444.2905084373732, 320.54056186662007, 205.14707536789214, 199.89460668755106, 190.92652261641618, 116.85716360510868, 207.88908652760526, 45.867192603737514, 40.64270709022923, 38.162494002440745, 37.81769939212056, 36.479134903509994, 36.20190772906473, 34.57849236918634, 31.587132214510465, 31.408421535419194, 28.50968243257986, 28.2562147031049, 27.100980336999275, 26.778824633583575, 24.20198684173419, 24.18089044128427, 2849.636309124345, 20.61226137890036, 18.45808246952654, 18.199851948524987, 17.722549169200235, 16.605494866326328, 123.62130476282252, 43.49365473981466, 262.0305139181997, 98.1047995736739, 1100.670195035079, 1063.6248431614686, 241.123252217839, 571.0840221417317, 842.5910011850705, 279.167211463804, 151.4362576325718, 496.4706429089646, 191.37856584305368, 234.34349217277892, 149.16996838496627, 1103.823175139608, 249.91389151504885, 88.24693963270633, 126.97557792169718, 89.71115782773867, 69.99522797110289, 72.19625546656533, 253.4392220404143, 222.57059094043203, 180.09497558889032, 168.30314120961734, 125.81289597225951, 114.39501904382436, 111.06843753997018, 98.84169348350304, 80.50890923534297, 78.55609540822348, 69.3414635163052, 60.16207174195323, 58.66850568536785, 55.713465842892255, 55.6746499064294, 52.72059552585444, 49.043347259282285, 48.41998911063458, 51.66702976108128, 41.835112981428566, 40.165177400685835, 39.77704900771702, 39.493703370838816, 38.8200219063344, 34.78756248987969, 33.6761670051725, 33.40352911574593, 32.58842542168571, 31.616582604528563, 28.932167493596843, 48.21269860764109, 168.41392965209087, 383.92582030346983, 249.64281735202957, 76.85446174154583, 118.92701754452155, 151.1904432625924, 161.62906388477228, 122.23837225420839, 88.82999748151681, 82.19980418290926, 89.21045898089878, 112.27920418713083, 81.72654032854284, 747.9697271446316, 134.67388782212538, 223.8004023427236, 80.35284022633847, 150.63671503623732, 98.85642473111464, 133.40411734756623, 175.55761617545375, 108.1986373362931, 94.19123683114002, 111.3930543212465, 82.85520955256526, 1313.2204930041992, 180.52187132831858, 178.4838470428927, 170.10061979586536, 164.43642817560684, 91.91036973428687, 88.52520101887878, 70.14755644135319, 62.196603659295036, 52.55435529715336, 52.30977829301243, 55.89658898719057, 36.93552792023616, 35.59625314101702, 33.770443842952965, 32.44165820393382, 31.345078981266433, 31.326653095589947, 30.437838244293356, 30.311121491136326, 29.776298347911208, 41.08042125829613, 27.506064850520495, 27.11218253970016, 26.8091772226115, 26.506311686175824, 24.76642555550165, 126.25243537516978, 23.404890707294648, 22.98504693579541, 326.8271385386475, 2905.467502382546, 152.9745376378108, 98.90247196667683, 104.97336937486051, 259.6604772081391, 560.0004791705873, 84.56314636614933, 124.56263265246014, 196.64380282268556, 107.12880940879381, 74.64861647444508, 86.61009424846178, 214.8928939292739, 711.1179916949094, 96.86767940994794, 75.7092049745819, 121.63641973306302, 58.56997225269453, 56.78562748753194, 2131.1681842489293, 586.5886855607616, 531.9140687951975, 482.5350814581782, 275.7586245743639, 218.6535230807221, 201.36424608191078, 180.22259716829393, 185.52448560684837, 137.26359923863902, 99.10522298950065, 98.8279644448484, 85.35807769283184, 80.0632915732682, 71.52813700284896, 69.37340456234165, 37.05316620865452, 32.09304945180355, 31.45871779832903, 26.87191150414958, 25.796909473813933, 24.62084685506571, 22.537157102939883, 21.904212278396646, 21.74630145303821, 19.954790233794593, 19.73452938329444, 18.164603692097817, 18.120216635714556, 17.712421903914276, 104.70270828708163, 52.34147329206907, 49.97512879273588, 79.12079385725461, 51.37459273488049, 56.44725224375611, 57.06845411260352, 36.72745883184751, 45.59816019628921, 90.60842191655537, 71.40460929828775, 151.14857924483675, 206.71115649589348, 182.72019564233275, 93.12806341494309, 155.62912373278402, 62.824720354925134, 104.46622105062362, 103.36467428585807, 77.48530576739881, 577.3096059327362, 1106.8353513600243, 210.6718014945079, 171.70915164522773, 138.81481563422776, 101.56599816042878, 96.58206756429537, 75.1354702214994, 72.87649866073406, 71.03467952295996, 68.10436016476643, 47.421217996142325, 45.29277226792753, 45.150708483622616, 38.78805873274723, 39.00957058609172, 35.972065618473096, 34.44101426280067, 34.37187866365609, 33.75313447479908, 30.945966031365188, 29.956811940829336, 28.590345602259685, 28.090367025430254, 25.53742599517472, 25.039688127823442, 24.468068922754554, 23.65186396325379, 23.605195531530928, 22.929436399893298, 559.128837648298, 86.03456947191897, 42.88195709703841, 100.44381721309017, 142.55913528602798, 46.33006656987029, 50.42948761221397, 66.54994856175517, 138.0292256945764, 71.36991689382218, 219.63696221588165, 164.70460170513306, 109.99266773536331, 54.87007319258282, 51.26936319436109, 60.660807380031166, 48.250460720980236, 534.2295319249366, 471.5323792157043, 140.34291081007413, 127.26279397238112, 102.99305730769747, 105.87836444353643, 93.58407031955048, 67.18257997185277, 65.34869936775216, 61.599076302871, 59.16181782589685, 58.38807575701249, 56.57034914336068, 49.976489263036186, 44.66188835740266, 41.12172121613807, 39.932195877269514, 36.55613964951939, 36.137506586397535, 33.39364366702431, 29.998947623833004, 26.169865279231026, 25.350820792261555, 24.519397516350367, 24.335763971042308, 23.142943558858335, 22.991809658524407, 22.39975932617292, 22.14419367214895, 21.3543034208181, 243.35650521397017, 130.44994686071945, 103.81099440222486, 54.10513094322478, 374.30471672160104, 76.53181423214598, 73.2173112129684, 71.36931329123203, 158.47992361852266, 98.02564329266389, 62.74463893618926, 61.38737074635635, 252.09393999802785, 228.60631666957045, 433.30023595311013, 53.447425016663026, 113.50472064004217, 71.53828743868795, 68.38233513880516, 59.680642801016155, 570.9150164022299, 236.10546020032655, 132.03724543198646, 128.03764798498625, 121.4566793790802, 80.70500713803443, 60.81264975436226, 53.163602456549164, 52.52359304990757, 37.148222819339814, 36.59058875156885, 30.828091698156875, 19.443466598335082, 16.5496475076314, 16.336320775382354, 16.2786776259845, 15.677950372721162, 15.480166740789665, 14.946843896365259, 14.78935445474404, 14.133338885046054, 13.61017335186719, 13.212050222237854, 13.203323336706921, 12.128752316196085, 11.0835131844229, 9.776812850768163, 8.634461129248423, 8.606563102683554, 7.967905083218582, 42.61513292298092, 3557.4390955994772, 77.03930284006215, 63.35898965865013, 208.562344162671, 29.948623013087865, 16.27942505563718, 64.43225052948242, 32.988417692303344, 36.71308473961201, 37.777885050421794, 17.95560735827642, 16.737171593686696, 15.733596939920368, 221.1229988399065, 200.7636681865643, 160.76008353214576, 89.19922335563882, 84.2028606293407, 57.997571474475095, 53.98705518776738, 47.819362973505946, 44.83576728646547, 34.80768675526236, 33.135694140667304, 31.77588262456462, 30.430431247524062, 30.30959171790604, 29.82503483999921, 29.31842994568307, 28.847388247931235, 27.83022838046709, 27.503360397719444, 27.3495029541564, 25.90824031305741, 23.61039953926163, 23.458356884287305, 22.86285856681745, 20.582868070229768, 19.056428992696617, 18.750911831200906, 18.14147169176334, 17.619946821079612, 17.20685556857197, 40.852581049926435, 40.38424072326193, 113.65580553562401, 86.80593344303053, 32.89170289092431, 23.277325479023652, 27.62352146279627, 26.721561128304007, 886.3919537517269, 348.80637696465794, 91.17062244856672, 49.1230982662518, 44.625665507408904, 36.8863612855205, 32.10832098659969, 24.79026172434104, 24.569321008844017, 21.331187748301122, 21.09177015356054, 17.234189183202016, 15.452396207667283, 13.5610483356097, 13.393840961191982, 11.966720737752809, 11.42009991887715, 10.859083202486463, 10.455645333152765, 8.143681621691229, 7.366009345114567, 7.107974605539184, 6.510353134691645, 6.442098570036501, 6.2829909110324, 6.166971347703868, 6.095985753889127, 5.797625901793409, 5.796400030324415, 5.796400030324415, 257.9755192767676, 22.23653325191393, 95.8813153443189, 18.716452873398097, 24.809218328506116, 47.488467965170216, 20.08276090825692, 23.85812964267115, 105.3529510763912, 17.49119890499527, 16.24409172347219, 25.001388828294807, 19.62989228260713, 179.46394422193103, 124.7263071682565, 98.42763833689432, 93.05295954835579, 86.76352489640587, 83.80555330430306, 69.75252207530269, 56.422993264000304, 36.031151152621014, 103.2172402477916, 33.00208613269345, 32.910390212787256, 30.929682725376946, 30.532945414645003, 29.489718134071463, 28.172230974334425, 25.013198485375494, 24.443054421762263, 35.52962176422569, 23.060166327859733, 19.888344062136436, 19.23897606658563, 19.10681015096212, 19.04340884168066, 18.9731286272358, 18.769786169794795, 18.365193771906352, 18.250147709100077, 17.397652374677698, 17.10776054613553, 210.87662680438186, 55.68822645575756, 101.15985928724037, 69.27435260792424, 27.633414367237684, 59.53300805347929, 21.74567290154728], \"Total\": [6599.0, 3121.0, 2132.0, 2962.0, 887.0, 1314.0, 1109.0, 1486.0, 572.0, 578.0, 1458.0, 874.0, 535.0, 587.0, 532.0, 349.0, 472.0, 483.0, 354.0, 1399.0, 859.0, 555.0, 553.0, 828.0, 310.0, 887.0, 445.0, 465.0, 221.0, 425.0, 555.4466617670992, 553.2928007844075, 445.1575220219319, 321.453089422314, 206.01349971875567, 200.763521009071, 191.79294216466081, 117.72358795144584, 209.43068387481097, 46.74407618648911, 41.50911643816372, 39.02908748404698, 38.68409781257253, 37.3456173310698, 37.06841273121251, 35.444937851857944, 32.45354389564045, 32.274837412402654, 29.376613911798586, 29.122653212885417, 27.967489820371544, 27.645450029889247, 25.06869528578877, 25.058436008059306, 2962.097222415071, 21.478936331014157, 19.32484582646938, 19.0665500949136, 18.588985416981966, 17.47219791188223, 130.91906929010258, 45.93783032147629, 290.908955640674, 113.10747253176639, 1486.5326806985279, 1458.8852214109595, 328.7063907839131, 887.8763530706518, 1399.6931043215236, 425.19881896102174, 214.91686958540572, 933.2818703919938, 299.2688982802877, 471.79766684859766, 289.8926441387611, 6599.040850874635, 859.342570344934, 164.7266640481652, 400.3401071183585, 202.75016393756113, 123.1602088871934, 155.7134581427467, 254.29584085869615, 223.42690410650312, 180.9512571140218, 169.15943241669996, 126.66918823777503, 115.25136126391976, 111.92473719381249, 99.69798887656367, 81.36539545080707, 79.41329123323902, 70.1977829915777, 61.01899951774889, 59.52478711416944, 56.56981410319115, 56.53091638969475, 53.59444756237611, 49.89964072040056, 49.276321835423566, 52.60399442906912, 42.69152358264876, 41.02145929652035, 40.63335995509724, 40.34998327332481, 39.7113788140057, 35.643925063263985, 34.532530349168105, 34.259816068417294, 33.44486428789117, 32.47311568593234, 29.788613845661644, 50.76586417351822, 190.69722675243375, 465.25902643237697, 346.1493950666628, 91.65433064100199, 155.32692549866155, 220.95772215984593, 241.34844641906605, 171.0326792121948, 118.72530404400348, 108.30027617638315, 129.46337333461986, 202.75016393756113, 118.62361093826823, 6599.040850874635, 400.3401071183585, 1399.6931043215236, 152.48068085865327, 933.2818703919938, 310.5061576356483, 887.8763530706518, 3121.5972729018717, 874.7064800486752, 354.90850700346135, 2962.097222415071, 185.34350425617032, 1314.0876315345174, 181.38877298169743, 179.3508218782817, 170.96747955646052, 165.3033595545203, 92.77732461568887, 89.3920040453036, 71.0144239901417, 63.06343723384214, 53.42126771346469, 53.176610007630124, 57.170579239459805, 37.8024913230053, 36.463333510412376, 34.63731379977027, 33.308744094381474, 32.211937114278, 32.193522902505286, 31.30469718022796, 31.178035699218963, 30.643151590358055, 42.30006454621153, 28.373221820981353, 27.979473570801208, 27.676615218711035, 27.373222583717855, 25.633283245680435, 130.73239403046435, 24.27181377836838, 23.852273529724176, 341.84449900977614, 3121.5972729018717, 166.01457066956704, 112.15809591673414, 122.89582328606564, 348.96197709470624, 859.342570344934, 104.75014504541709, 180.96071380791312, 337.53099997686263, 156.67330892043802, 106.08771669363858, 154.1490104233622, 828.142485791612, 6599.040850874635, 233.6108956362102, 164.7266640481652, 518.5285889648848, 241.34844641906605, 228.99656165680193, 2132.034831178966, 587.4553160150882, 532.7807496593828, 483.4017062073379, 276.6252424552121, 219.52014504677823, 202.23091167302357, 181.08924696533103, 186.68722963267436, 138.1302537774318, 99.97188026472212, 99.69460853564549, 86.22475723276938, 80.92989303478066, 72.39477395371003, 70.24007276540586, 37.91983153569011, 32.96005510544109, 32.32534449654231, 27.738560331599494, 26.663666285436992, 25.48770736308345, 23.40380099577451, 22.770849633267737, 22.613081689088595, 20.821440700492346, 20.601185782334575, 19.031370453560843, 18.986806703879143, 18.57976505612423, 113.51716485420816, 56.330954263673306, 58.159349631436974, 99.51540925569873, 62.872432339712404, 70.48317682472083, 75.97948567558156, 44.32908005948084, 61.4326962240391, 181.25379579567135, 128.92004851055657, 471.79766684859766, 874.7064800486752, 887.8763530706518, 259.96605051595316, 933.2818703919938, 141.4583437550013, 1458.8852214109595, 1399.6931043215236, 465.25902643237697, 578.1741641781871, 1109.5994087765896, 211.5373277519027, 172.57367092554543, 139.68309586212266, 102.43051108200581, 97.44663743003015, 75.99999982478082, 73.74096956548794, 71.89940806070655, 68.96907033357711, 48.285736250805286, 46.157244556423336, 46.01517951225946, 39.65271579673293, 39.8871351295471, 36.83659884788774, 35.305479154339295, 35.23637693729413, 34.617875520187326, 31.810661699894276, 30.821361866820627, 29.45487107962075, 28.95489636595382, 26.40193520054552, 25.904261120848954, 25.3325896689103, 24.516647839347726, 24.469826103407478, 23.79401250369599, 874.7064800486752, 108.52696605585874, 50.17191422640668, 152.07488810386764, 254.48939493056562, 60.26347709657001, 69.61108156665841, 111.18559964461782, 400.3401071183585, 152.48068085865327, 1486.5326806985279, 828.142485791612, 518.5285889648848, 124.66967962281265, 137.5451879900189, 337.53099997686263, 342.35230923620315, 535.0955388400796, 472.3985496466555, 141.2088993213111, 128.1288298080214, 103.85907971979357, 106.79475600218434, 94.4500642185887, 68.0485589132685, 66.21469315699986, 62.465101374308524, 60.02779047065798, 59.254150230336464, 57.43639016335914, 50.84249195602773, 45.52789995165665, 41.98775502249264, 40.79820286127584, 37.422153306938824, 37.00351843160752, 34.31663198395591, 30.86508589991357, 27.035875773241884, 26.217585888827088, 25.38543631381825, 25.20182078194281, 24.008938330847347, 23.857827320694927, 23.265850756022463, 23.010672047505903, 22.220343196688418, 270.12568844559377, 157.42672052150024, 126.96158438307651, 67.04626289126391, 828.142485791612, 111.92073944066983, 107.46003105300696, 108.96840941394716, 342.35230923620315, 178.01351127472114, 97.10815321909189, 98.87726652613452, 1458.8852214109595, 1399.6931043215236, 6599.040850874635, 77.96907404283708, 933.2818703919938, 254.48939493056562, 220.95772215984593, 201.36795667791057, 572.0043223426458, 236.97785390869348, 132.90958441542205, 128.91014929080424, 122.32905129806645, 81.57742527011406, 61.68531177264684, 54.035966986967544, 53.39594256583872, 38.02063027727967, 37.462921710323684, 31.700406748190087, 20.31577659265532, 17.421992947393903, 17.208776845271824, 17.15831451280069, 16.550349228725104, 16.352724091283807, 15.819277578697113, 15.661693648589981, 15.005699137604763, 14.482496234788467, 14.084582540056896, 14.07564493967584, 13.001191760067842, 11.956270096094308, 10.649460234472587, 9.506927267465866, 9.478914111740464, 8.840258774317292, 47.72742818815097, 6599.040850874635, 105.62933820609703, 89.76073787144912, 518.5285889648848, 50.40060829566783, 21.74752183371564, 471.79766684859766, 181.25379579567135, 342.35230923620315, 1458.8852214109595, 228.99656165680193, 82.2184682600878, 111.18559964461782, 221.9966969222009, 201.63728382998528, 161.63369848604935, 90.07284236116352, 85.07647804373902, 58.87128695478981, 54.86079802120372, 48.693024101184186, 45.709384545140075, 35.68130002146546, 34.00944906050334, 32.649491263682485, 31.304160393903338, 31.183207591705912, 30.69865051200602, 30.192057229767023, 29.72100346021768, 28.703848414360102, 28.377058069295682, 28.223112483771605, 26.781878949955427, 24.48401899289287, 24.33196681844836, 23.73648308495227, 21.45663972003414, 19.93025563571775, 19.624558479472586, 19.01509842872265, 18.49368661749809, 18.0805948405041, 55.56459940872207, 66.94105120173758, 425.19881896102174, 328.7063907839131, 56.81700092305677, 40.45964894852135, 155.7134581427467, 290.908955640674, 887.2579484704394, 349.6723677063592, 92.03674116855298, 49.98909333899989, 45.49169520265379, 37.75236701990449, 32.974344368558, 25.656502905414737, 25.435417732847412, 22.197165595454017, 21.95787412183258, 18.100432357006145, 16.31848809453782, 14.427155310972072, 14.260059302330358, 12.832782146514889, 12.286230050460405, 11.7253391437567, 11.321859658739854, 9.01008808463204, 8.232099559294243, 7.974007641686762, 7.37651634218733, 7.308339711482452, 7.148980249259389, 7.032918946242684, 6.9621368001926225, 6.663549176654175, 6.6623562414947335, 6.6623562414947335, 354.90850700346135, 33.56541917732796, 201.36795667791057, 31.818571611713125, 54.095066261643815, 141.4583437550013, 49.97739554598863, 76.73630242159767, 1486.5326806985279, 73.59381706808117, 64.51756421608127, 233.6108956362102, 152.07488810386764, 180.3315713181612, 125.59394271787015, 99.29527622266772, 93.9206144364218, 87.63125563706944, 84.67316056406472, 70.62017825136449, 57.290628194793996, 36.89879343814169, 105.82605666272612, 33.869746025983964, 33.77806021348965, 31.79747672481294, 31.400558050857253, 30.35780427910625, 29.03995707865959, 25.880871776771887, 25.31065378737615, 36.83042701172939, 23.92782316845679, 20.756088469881107, 20.106646182906303, 19.974488761408463, 19.91109997296493, 19.840913332967375, 19.63759173232703, 19.23299819333598, 19.117830145518713, 18.265511550923208, 17.975714687177156, 310.5061576356483, 74.3634149147959, 259.96605051595316, 233.6108956362102, 79.07695109074221, 1486.5326806985279, 59.13624991759582], \"Category\": [\"Default\", \"Default\", \"Default\", \"Default\", \"Default\", \"Default\", \"Default\", \"Default\", \"Default\", \"Default\", \"Default\", \"Default\", \"Default\", \"Default\", \"Default\", \"Default\", \"Default\", \"Default\", \"Default\", \"Default\", \"Default\", \"Default\", \"Default\", \"Default\", \"Default\", \"Default\", \"Default\", \"Default\", \"Default\", \"Default\", \"Topic1\", \"Topic1\", \"Topic1\", \"Topic1\", \"Topic1\", \"Topic1\", \"Topic1\", \"Topic1\", \"Topic1\", \"Topic1\", \"Topic1\", \"Topic1\", \"Topic1\", \"Topic1\", \"Topic1\", \"Topic1\", \"Topic1\", \"Topic1\", \"Topic1\", \"Topic1\", \"Topic1\", \"Topic1\", \"Topic1\", \"Topic1\", \"Topic1\", \"Topic1\", \"Topic1\", \"Topic1\", \"Topic1\", \"Topic1\", \"Topic1\", \"Topic1\", \"Topic1\", \"Topic1\", \"Topic1\", \"Topic1\", \"Topic1\", \"Topic1\", \"Topic1\", \"Topic1\", \"Topic1\", \"Topic1\", \"Topic1\", \"Topic1\", \"Topic1\", \"Topic1\", \"Topic1\", \"Topic1\", \"Topic1\", \"Topic1\", \"Topic1\", \"Topic1\", \"Topic2\", \"Topic2\", \"Topic2\", \"Topic2\", \"Topic2\", \"Topic2\", \"Topic2\", \"Topic2\", \"Topic2\", \"Topic2\", \"Topic2\", \"Topic2\", \"Topic2\", \"Topic2\", \"Topic2\", \"Topic2\", \"Topic2\", \"Topic2\", \"Topic2\", \"Topic2\", \"Topic2\", \"Topic2\", \"Topic2\", \"Topic2\", \"Topic2\", \"Topic2\", \"Topic2\", \"Topic2\", \"Topic2\", \"Topic2\", \"Topic2\", \"Topic2\", \"Topic2\", \"Topic2\", \"Topic2\", \"Topic2\", \"Topic2\", \"Topic2\", \"Topic2\", \"Topic2\", \"Topic2\", \"Topic2\", \"Topic2\", \"Topic2\", \"Topic2\", \"Topic2\", \"Topic2\", \"Topic2\", \"Topic2\", \"Topic2\", \"Topic2\", \"Topic2\", \"Topic2\", \"Topic2\", \"Topic2\", \"Topic2\", \"Topic3\", \"Topic3\", \"Topic3\", \"Topic3\", \"Topic3\", \"Topic3\", \"Topic3\", \"Topic3\", \"Topic3\", \"Topic3\", \"Topic3\", \"Topic3\", \"Topic3\", \"Topic3\", \"Topic3\", \"Topic3\", \"Topic3\", \"Topic3\", \"Topic3\", \"Topic3\", \"Topic3\", \"Topic3\", \"Topic3\", \"Topic3\", \"Topic3\", \"Topic3\", \"Topic3\", \"Topic3\", \"Topic3\", \"Topic3\", \"Topic3\", \"Topic3\", \"Topic3\", \"Topic3\", \"Topic3\", \"Topic3\", \"Topic3\", \"Topic3\", \"Topic3\", \"Topic3\", \"Topic3\", \"Topic3\", \"Topic3\", \"Topic3\", \"Topic3\", \"Topic3\", \"Topic3\", \"Topic3\", \"Topic3\", \"Topic3\", \"Topic4\", \"Topic4\", \"Topic4\", \"Topic4\", \"Topic4\", \"Topic4\", \"Topic4\", \"Topic4\", \"Topic4\", \"Topic4\", \"Topic4\", \"Topic4\", \"Topic4\", \"Topic4\", \"Topic4\", \"Topic4\", \"Topic4\", \"Topic4\", \"Topic4\", \"Topic4\", \"Topic4\", \"Topic4\", \"Topic4\", \"Topic4\", \"Topic4\", \"Topic4\", \"Topic4\", \"Topic4\", \"Topic4\", \"Topic4\", \"Topic4\", \"Topic4\", \"Topic4\", \"Topic4\", \"Topic4\", \"Topic4\", \"Topic4\", \"Topic4\", \"Topic4\", \"Topic4\", \"Topic4\", \"Topic4\", \"Topic4\", \"Topic4\", \"Topic4\", \"Topic4\", \"Topic4\", \"Topic4\", \"Topic4\", \"Topic4\", \"Topic5\", \"Topic5\", \"Topic5\", \"Topic5\", \"Topic5\", \"Topic5\", \"Topic5\", \"Topic5\", \"Topic5\", \"Topic5\", \"Topic5\", \"Topic5\", \"Topic5\", \"Topic5\", \"Topic5\", \"Topic5\", \"Topic5\", \"Topic5\", \"Topic5\", \"Topic5\", \"Topic5\", \"Topic5\", \"Topic5\", \"Topic5\", \"Topic5\", \"Topic5\", \"Topic5\", \"Topic5\", \"Topic5\", \"Topic5\", \"Topic5\", \"Topic5\", \"Topic5\", \"Topic5\", \"Topic5\", \"Topic5\", \"Topic5\", \"Topic5\", \"Topic5\", \"Topic5\", \"Topic5\", \"Topic5\", \"Topic5\", \"Topic5\", \"Topic5\", \"Topic5\", \"Topic5\", \"Topic6\", \"Topic6\", \"Topic6\", \"Topic6\", \"Topic6\", \"Topic6\", \"Topic6\", \"Topic6\", \"Topic6\", \"Topic6\", \"Topic6\", \"Topic6\", \"Topic6\", \"Topic6\", \"Topic6\", \"Topic6\", \"Topic6\", \"Topic6\", \"Topic6\", \"Topic6\", \"Topic6\", \"Topic6\", \"Topic6\", \"Topic6\", \"Topic6\", \"Topic6\", \"Topic6\", \"Topic6\", \"Topic6\", \"Topic6\", \"Topic6\", \"Topic6\", \"Topic6\", \"Topic6\", \"Topic6\", \"Topic6\", \"Topic6\", \"Topic6\", \"Topic6\", \"Topic6\", \"Topic6\", \"Topic6\", \"Topic6\", \"Topic6\", \"Topic6\", \"Topic6\", \"Topic6\", \"Topic6\", \"Topic6\", \"Topic6\", \"Topic7\", \"Topic7\", \"Topic7\", \"Topic7\", \"Topic7\", \"Topic7\", \"Topic7\", \"Topic7\", \"Topic7\", \"Topic7\", \"Topic7\", \"Topic7\", \"Topic7\", \"Topic7\", \"Topic7\", \"Topic7\", \"Topic7\", \"Topic7\", \"Topic7\", \"Topic7\", \"Topic7\", \"Topic7\", \"Topic7\", \"Topic7\", \"Topic7\", \"Topic7\", \"Topic7\", \"Topic7\", \"Topic7\", \"Topic7\", \"Topic7\", \"Topic7\", \"Topic7\", \"Topic7\", \"Topic7\", \"Topic7\", \"Topic7\", \"Topic7\", \"Topic7\", \"Topic7\", \"Topic7\", \"Topic7\", \"Topic7\", \"Topic7\", \"Topic8\", \"Topic8\", \"Topic8\", \"Topic8\", \"Topic8\", \"Topic8\", \"Topic8\", \"Topic8\", \"Topic8\", \"Topic8\", \"Topic8\", \"Topic8\", \"Topic8\", \"Topic8\", \"Topic8\", \"Topic8\", \"Topic8\", \"Topic8\", \"Topic8\", \"Topic8\", \"Topic8\", \"Topic8\", \"Topic8\", \"Topic8\", \"Topic8\", \"Topic8\", \"Topic8\", \"Topic8\", \"Topic8\", \"Topic8\", \"Topic8\", \"Topic8\", \"Topic8\", \"Topic8\", \"Topic8\", \"Topic8\", \"Topic8\", \"Topic8\", \"Topic9\", \"Topic9\", \"Topic9\", \"Topic9\", \"Topic9\", \"Topic9\", \"Topic9\", \"Topic9\", \"Topic9\", \"Topic9\", \"Topic9\", \"Topic9\", \"Topic9\", \"Topic9\", \"Topic9\", \"Topic9\", \"Topic9\", \"Topic9\", \"Topic9\", \"Topic9\", \"Topic9\", \"Topic9\", \"Topic9\", \"Topic9\", \"Topic9\", \"Topic9\", \"Topic9\", \"Topic9\", \"Topic9\", \"Topic9\", \"Topic9\", \"Topic9\", \"Topic9\", \"Topic9\", \"Topic9\", \"Topic9\", \"Topic9\", \"Topic9\", \"Topic9\", \"Topic9\", \"Topic9\", \"Topic9\", \"Topic9\", \"Topic10\", \"Topic10\", \"Topic10\", \"Topic10\", \"Topic10\", \"Topic10\", \"Topic10\", \"Topic10\", \"Topic10\", \"Topic10\", \"Topic10\", \"Topic10\", \"Topic10\", \"Topic10\", \"Topic10\", \"Topic10\", \"Topic10\", \"Topic10\", \"Topic10\", \"Topic10\", \"Topic10\", \"Topic10\", \"Topic10\", \"Topic10\", \"Topic10\", \"Topic10\", \"Topic10\", \"Topic10\", \"Topic10\", \"Topic10\", \"Topic10\", \"Topic10\", \"Topic10\", \"Topic10\", \"Topic10\", \"Topic10\", \"Topic10\"], \"logprob\": [30.0, 29.0, 28.0, 27.0, 26.0, 25.0, 24.0, 23.0, 22.0, 21.0, 20.0, 19.0, 18.0, 17.0, 16.0, 15.0, 14.0, 13.0, 12.0, 11.0, 10.0, 9.0, 8.0, 7.0, 6.0, 5.0, 4.0, 3.0, 2.0, 1.0, -3.4427, -3.4466, -3.6645, -3.9909, -4.4372, -4.4632, -4.5091, -5.0, -4.4239, -5.9352, -6.0561, -6.1191, -6.1282, -6.1642, -6.1718, -6.2177, -6.3082, -6.3139, -6.4107, -6.4196, -6.4614, -6.4733, -6.5745, -6.5754, -1.806, -6.7351, -6.8454, -6.8595, -6.8861, -6.9512, -4.9437, -5.9883, -4.1925, -5.1749, -2.7573, -2.7915, -4.2756, -3.4134, -3.0245, -4.1291, -4.7408, -3.5534, -4.5067, -4.3042, -4.7559, -2.7544, -4.2398, -5.2808, -4.9169, -5.2643, -5.5125, -5.4816, -3.8653, -3.9951, -4.2069, -4.2746, -4.5656, -4.6607, -4.6902, -4.8069, -5.012, -5.0366, -5.1613, -5.3033, -5.3285, -5.3802, -5.3809, -5.4354, -5.5077, -5.5205, -5.4556, -5.6666, -5.7074, -5.7171, -5.7242, -5.7414, -5.8511, -5.8836, -5.8917, -5.9164, -5.9467, -6.0354, -5.5248, -4.274, -3.4499, -3.8803, -5.0585, -4.6219, -4.3818, -4.3151, -4.5944, -4.9137, -4.9912, -4.9094, -4.6794, -4.997, -2.783, -4.4975, -3.9896, -5.0139, -4.3855, -4.8067, -4.507, -4.2324, -4.7164, -4.855, -4.6873, -4.9833, -2.213, -4.1974, -4.2088, -4.2569, -4.2907, -4.8724, -4.91, -5.1426, -5.263, -5.4314, -5.4361, -5.3697, -5.7841, -5.821, -5.8737, -5.9138, -5.9482, -5.9488, -5.9776, -5.9817, -5.9995, -5.6777, -6.0788, -6.0933, -6.1045, -6.1159, -6.1838, -4.555, -6.2403, -6.2584, -3.6038, -1.4189, -4.363, -4.7991, -4.7395, -3.8339, -3.0653, -4.9558, -4.5684, -4.1119, -4.7192, -5.0805, -4.9318, -4.0231, -2.8264, -4.8199, -5.0664, -4.5922, -5.323, -5.354, -1.5917, -2.8818, -2.9796, -3.077, -3.6366, -3.8686, -3.951, -4.0619, -4.0329, -4.3342, -4.6599, -4.6627, -4.8092, -4.8733, -4.986, -5.0166, -5.6437, -5.7875, -5.8074, -5.965, -6.0058, -6.0525, -6.1409, -6.1694, -6.1767, -6.2626, -6.2737, -6.3566, -6.3591, -6.3818, -4.605, -5.2983, -5.3446, -4.8851, -5.317, -5.2228, -5.2118, -5.6526, -5.4362, -4.7495, -4.9877, -4.2378, -3.9248, -4.0481, -4.7221, -4.2086, -5.1157, -4.6072, -4.6178, -4.906, -2.7012, -2.0503, -3.7093, -3.9138, -4.1264, -4.4388, -4.4892, -4.7403, -4.7708, -4.7964, -4.8385, -5.2005, -5.2464, -5.2496, -5.4014, -5.3957, -5.4768, -5.5203, -5.5223, -5.5405, -5.6273, -5.6598, -5.7065, -5.7241, -5.8194, -5.8391, -5.8622, -5.8961, -5.8981, -5.9271, -2.7332, -4.6048, -5.3011, -4.45, -4.0998, -5.2238, -5.139, -4.8616, -4.1321, -4.7917, -3.6676, -3.9554, -4.3591, -5.0546, -5.1225, -4.9543, -5.1832, -2.745, -2.8698, -4.0817, -4.1796, -4.3912, -4.3635, -4.487, -4.8184, -4.8461, -4.9052, -4.9455, -4.9587, -4.9903, -5.1143, -5.2267, -5.3093, -5.3386, -5.427, -5.4385, -5.5175, -5.6247, -5.7612, -5.793, -5.8264, -5.8339, -5.8841, -5.8907, -5.9168, -5.9282, -5.9646, -3.5313, -4.1548, -4.3833, -5.0349, -3.1008, -4.6881, -4.7324, -4.758, -3.9602, -4.4406, -4.8868, -4.9086, -3.496, -3.5938, -2.9544, -5.0471, -4.294, -4.7556, -4.8007, -4.9368, -2.5593, -3.4422, -4.0234, -4.0542, -4.1069, -4.5157, -4.7987, -4.9331, -4.9452, -5.2916, -5.3067, -5.4781, -5.939, -6.1001, -6.1131, -6.1166, -6.1542, -6.1669, -6.202, -6.2126, -6.258, -6.2957, -6.3254, -6.326, -6.4109, -6.501, -6.6265, -6.7507, -6.754, -6.8311, -5.1543, -0.7297, -4.5622, -4.7577, -3.5663, -5.507, -6.1166, -4.7409, -5.4103, -5.3034, -5.2748, -6.0186, -6.0889, -6.1507, -3.0063, -3.1029, -3.3251, -3.9141, -3.9718, -4.3446, -4.4162, -4.5376, -4.602, -4.8551, -4.9044, -4.9463, -4.9895, -4.9935, -5.0096, -5.0268, -5.043, -5.0789, -5.0907, -5.0963, -5.1504, -5.2433, -5.2498, -5.2755, -5.3805, -5.4576, -5.4737, -5.5068, -5.536, -5.5597, -4.695, -4.7065, -3.6718, -3.9413, -4.9118, -5.2575, -5.0863, -5.1195, -1.3917, -2.3243, -3.6661, -4.2845, -4.3805, -4.571, -4.7097, -4.9684, -4.9773, -5.1187, -5.13, -5.3319, -5.4411, -5.5716, -5.584, -5.6967, -5.7435, -5.7938, -5.8317, -6.0816, -6.182, -6.2176, -6.3054, -6.316, -6.341, -6.3596, -6.3712, -6.4214, -6.4216, -6.4216, -2.626, -5.0771, -3.6157, -5.2494, -4.9676, -4.3184, -5.179, -5.0067, -3.5215, -5.3171, -5.3911, -4.9599, -5.2018, -2.9705, -3.3343, -3.5711, -3.6273, -3.6973, -3.7319, -3.9155, -4.1276, -4.5761, -3.5236, -4.6639, -4.6667, -4.7287, -4.7416, -4.7764, -4.8221, -4.941, -4.9641, -4.5901, -5.0223, -5.1703, -5.2035, -5.2104, -5.2137, -5.2174, -5.2282, -5.25, -5.2563, -5.3041, -5.3209, -2.8092, -4.1407, -3.5437, -3.9224, -4.8414, -4.0739, -5.081], \"loglift\": [30.0, 29.0, 28.0, 27.0, 26.0, 25.0, 24.0, 23.0, 22.0, 21.0, 20.0, 19.0, 18.0, 17.0, 16.0, 15.0, 14.0, 13.0, 12.0, 11.0, 10.0, 9.0, 8.0, 7.0, 6.0, 5.0, 4.0, 3.0, 2.0, 1.0, 1.6196, 1.6196, 1.6192, 1.6183, 1.617, 1.6169, 1.6167, 1.6138, 1.6138, 1.6023, 1.6001, 1.5987, 1.5985, 1.5977, 1.5975, 1.5964, 1.5941, 1.594, 1.5912, 1.591, 1.5897, 1.5893, 1.586, 1.5855, 1.5825, 1.58, 1.5753, 1.5747, 1.5735, 1.5703, 1.5638, 1.5665, 1.5166, 1.4789, 1.3207, 1.3052, 1.3113, 1.1799, 1.1137, 1.2004, 1.2711, 0.99, 1.1741, 0.9214, 0.9568, -0.167, 0.3861, 0.997, 0.4729, 0.8058, 1.0561, 0.8526, 1.9784, 1.9779, 1.977, 1.9767, 1.975, 1.9743, 1.9741, 1.9731, 1.9712, 1.9709, 1.9695, 1.9676, 1.9673, 1.9665, 1.9665, 1.9653, 1.9644, 1.9642, 1.9638, 1.9615, 1.9607, 1.9605, 1.9603, 1.9591, 1.9574, 1.9566, 1.9564, 1.9558, 1.955, 1.9526, 1.9302, 1.8575, 1.7896, 1.6549, 1.8056, 1.7147, 1.6023, 1.5808, 1.6459, 1.6917, 1.706, 1.6094, 1.3908, 1.6092, -0.1956, 0.8923, 0.1485, 1.3411, 0.1579, 0.8372, 0.0863, -0.8964, -0.1082, 0.6552, -1.2988, 1.1766, 1.9882, 1.9841, 1.984, 1.9838, 1.9836, 1.9795, 1.9791, 1.9766, 1.975, 1.9725, 1.9724, 1.9663, 1.9657, 1.9648, 1.9635, 1.9625, 1.9616, 1.9616, 1.9608, 1.9607, 1.9602, 1.9596, 1.9578, 1.9574, 1.957, 1.9567, 1.9545, 1.954, 1.9525, 1.9518, 1.944, 1.9171, 1.9071, 1.8631, 1.8313, 1.6933, 1.5607, 1.7748, 1.6154, 1.4486, 1.6088, 1.6374, 1.4124, 0.6398, -0.239, 1.1086, 1.2115, 0.5389, 0.5729, 0.5945, 2.1256, 2.1246, 2.1244, 2.1242, 2.1229, 2.1221, 2.1217, 2.1212, 2.1198, 2.1197, 2.1173, 2.1173, 2.1159, 2.1153, 2.114, 2.1136, 2.1029, 2.0994, 2.0989, 2.0943, 2.093, 2.0914, 2.0883, 2.0872, 2.087, 2.0835, 2.0831, 2.0794, 2.0793, 2.0782, 2.0452, 2.0526, 1.9744, 1.8967, 1.9241, 1.904, 1.8398, 1.9379, 1.828, 1.4327, 1.5352, 0.9878, 0.6835, 0.5452, 1.0995, 0.3348, 1.3144, -0.5105, -0.4797, 0.3335, 2.3211, 2.3201, 2.3185, 2.3176, 2.3163, 2.3141, 2.3137, 2.3111, 2.3108, 2.3105, 2.31, 2.3045, 2.3037, 2.3036, 2.3005, 2.3003, 2.2988, 2.2978, 2.2977, 2.2973, 2.295, 2.2941, 2.2928, 2.2923, 2.2893, 2.2886, 2.2879, 2.2867, 2.2866, 2.2856, 1.8751, 2.0903, 2.1656, 1.9078, 1.7431, 2.0596, 2.0002, 1.8093, 1.2577, 1.5634, 0.4104, 0.7075, 0.772, 1.5019, 1.3357, 0.6062, 0.3631, 2.3547, 2.3545, 2.3502, 2.3495, 2.3479, 2.3477, 2.3471, 2.3435, 2.3431, 2.3423, 2.3418, 2.3416, 2.3411, 2.3391, 2.3371, 2.3355, 2.3349, 2.3329, 2.3326, 2.329, 2.3278, 2.3238, 2.3227, 2.3216, 2.3213, 2.3196, 2.3193, 2.3184, 2.3179, 2.3166, 2.2519, 2.1683, 2.155, 2.1419, 1.5622, 1.9762, 1.9726, 1.9331, 1.5861, 1.7597, 1.9196, 1.8796, 0.6007, 0.5443, -0.3669, 1.9787, 0.2494, 1.0873, 1.1835, 1.1402, 2.4737, 2.472, 2.4691, 2.4688, 2.4685, 2.4649, 2.4614, 2.4594, 2.4592, 2.4524, 2.4521, 2.4477, 2.4318, 2.4243, 2.4236, 2.423, 2.4215, 2.4208, 2.4189, 2.4183, 2.4157, 2.4135, 2.4117, 2.4117, 2.4062, 2.3998, 2.3901, 2.3794, 2.3791, 2.3717, 2.3623, 1.8578, 2.16, 2.1273, 1.5649, 1.9551, 2.186, 0.4847, 0.7719, 0.2429, -1.1781, -0.0702, 0.8839, 0.5202, 2.9732, 2.9728, 2.9717, 2.9674, 2.9668, 2.9622, 2.9611, 2.959, 2.9578, 2.9524, 2.9511, 2.95, 2.9488, 2.9487, 2.9483, 2.9478, 2.9473, 2.9462, 2.9459, 2.9457, 2.944, 2.9408, 2.9406, 2.9396, 2.9356, 2.9323, 2.9316, 2.9301, 2.9287, 2.9276, 2.6696, 2.4718, 1.6578, 1.6457, 2.4305, 2.4243, 1.2478, 0.5896, 3.2023, 3.2008, 3.1938, 3.1858, 3.1841, 3.1801, 3.1767, 3.1689, 3.1687, 3.1635, 3.1631, 3.1543, 3.1488, 3.1414, 3.1406, 3.1334, 3.1302, 3.1265, 3.1237, 3.1022, 3.0921, 3.0883, 3.0784, 3.0771, 3.0742, 3.0719, 3.0704, 3.0641, 3.0641, 3.0641, 2.8843, 2.7915, 2.4613, 2.6726, 2.4238, 2.1118, 2.2916, 2.035, 0.5564, 1.7664, 1.8241, 0.9686, 1.156, 3.2169, 3.2148, 3.2129, 3.2124, 3.2117, 3.2114, 3.2093, 3.2064, 3.1979, 3.1967, 3.1957, 3.1957, 3.194, 3.1937, 3.1927, 3.1914, 3.1876, 3.1868, 3.1857, 3.1848, 3.179, 3.1776, 3.1773, 3.1771, 3.177, 3.1765, 3.1755, 3.1752, 3.173, 3.1722, 2.8348, 2.9325, 2.2778, 2.0061, 2.1703, 0.004, 2.2213]}, \"token.table\": {\"Topic\": [7, 7, 10, 3, 7, 4, 7, 9, 1, 4, 1, 1, 2, 2, 5, 6, 2, 6, 2, 5, 2, 10, 6, 1, 2, 5, 9, 6, 3, 1, 9, 8, 4, 1, 2, 9, 9, 9, 8, 7, 1, 3, 2, 3, 2, 3, 5, 7, 4, 5, 6, 7, 3, 1, 2, 7, 3, 2, 5, 6, 3, 4, 5, 6, 4, 8, 4, 6, 6, 6, 3, 1, 2, 3, 1, 9, 2, 6, 4, 10, 7, 8, 4, 4, 1, 2, 8, 1, 4, 8, 1, 9, 5, 10, 1, 5, 9, 10, 3, 5, 8, 1, 2, 4, 5, 6, 8, 5, 4, 8, 8, 2, 1, 9, 6, 7, 6, 10, 7, 2, 10, 4, 1, 6, 6, 4, 1, 2, 6, 8, 7, 1, 2, 4, 4, 10, 10, 6, 5, 9, 8, 7, 3, 10, 2, 5, 2, 4, 7, 2, 8, 1, 3, 5, 6, 2, 3, 10, 1, 4, 1, 2, 7, 1, 2, 1, 1, 5, 8, 2, 5, 7, 2, 3, 6, 1, 3, 9, 10, 3, 4, 10, 2, 4, 10, 6, 3, 2, 4, 4, 2, 3, 5, 6, 5, 2, 5, 5, 2, 3, 7, 3, 2, 3, 5, 6, 5, 2, 10, 9, 1, 2, 1, 2, 10, 2, 3, 3, 2, 3, 10, 8, 10, 8, 9, 8, 2, 5, 1, 8, 1, 3, 7, 5, 6, 2, 7, 1, 8, 1, 1, 8, 5, 8, 8, 10, 5, 6, 6, 1, 1, 2, 5, 9, 3, 5, 2, 2, 9, 7, 1, 2, 4, 6, 7, 4, 10, 6, 4, 3, 5, 8, 5, 5, 5, 5, 8, 8, 8, 2, 8, 5, 8, 1, 2, 4, 5, 3, 1, 2, 3, 6, 1, 2, 3, 4, 8, 1, 2, 4, 6, 2, 5, 1, 8, 2, 1, 2, 3, 2, 7, 10, 10, 9, 7, 1, 6, 6, 6, 1, 4, 5, 9, 10, 1, 3, 6, 5, 4, 1, 3, 4, 7, 1, 2, 5, 10, 7, 5, 9, 2, 8, 6, 2, 6, 8, 5, 2, 5, 2, 3, 9, 2, 6, 4, 6, 9, 10, 2, 9, 1, 2, 4, 5, 6, 7, 9, 1, 4, 10, 10, 8, 6, 10, 1, 1, 4, 1, 2, 3, 5, 7, 9, 1, 1, 2, 3, 4, 5, 6, 7, 8, 7, 7, 2, 3, 5, 1, 3, 3, 4, 6, 2, 2, 1, 4, 5, 6, 7, 1, 4, 8, 10, 2, 4, 6, 9, 4, 1, 2, 5, 6, 9, 9, 9, 2, 3, 9, 2, 1, 4, 6, 7, 8, 9, 3, 2, 10, 4, 6, 1, 4, 8, 9, 3, 4, 5, 9, 8, 2, 9, 1, 7, 3, 6, 6, 6, 6, 4, 8, 4, 4, 1, 4, 5, 2, 4, 5, 10, 3, 4, 1, 2, 4, 5, 6, 8, 2, 9, 7, 7, 2, 9, 9, 9, 1, 3, 2, 3, 4, 5, 6, 7, 8, 8, 7, 3, 4, 9, 2, 5, 4, 7, 9, 5, 2, 6, 6, 2, 6, 10, 2, 6, 7, 7, 1, 2, 4, 5, 2, 3, 5, 6, 9, 3, 2, 5, 9, 2, 5, 2, 4, 6, 2, 5, 6, 4, 1, 1, 4, 5, 8, 7, 2, 5, 2, 6, 6, 2, 4, 8, 10, 2, 6, 9, 3, 5, 4, 7, 10, 8, 9, 5, 7, 10, 1, 2, 3, 5, 6, 7, 9, 4, 7, 1, 2, 4, 5, 6, 8, 2, 5, 10, 10, 4, 2, 3, 4, 6, 3, 7, 1, 7, 5, 1, 2, 5, 1, 2, 1, 2, 4, 5, 6, 1, 2, 6, 2, 4, 5, 2, 3, 6, 6, 6, 2, 6, 4, 4, 4, 4, 1, 5, 9, 1, 4, 7, 2, 6, 9, 2, 2, 6, 9, 5, 10, 1, 8, 5, 3, 7], \"Freq\": [0.998244204976402, 0.9958736485601298, 0.9901979513023204, 0.960708692868362, 0.9235811258179825, 0.9661475243268244, 0.9667469718542309, 0.9704514407423043, 0.9729743267410504, 0.9985345760711476, 0.9440617159578267, 0.9639685342689378, 0.9947430201414827, 0.6833886524715489, 0.004525752665374496, 0.3077511812454657, 0.3395479497130686, 0.651564984584537, 0.8809776778668121, 0.11536612448255873, 0.9929989673369656, 0.9449611748851919, 0.99240220072818, 0.1902333722824662, 0.46199533268598936, 0.10870478416140926, 0.23099766634299468, 0.9845910195599449, 0.9868459837470638, 0.9991958511989646, 0.9005822838818762, 0.9566627357462825, 0.9827463497981624, 0.962156129931591, 0.037473449271019865, 0.9563767368135072, 0.97441183204761, 0.9392040844493861, 0.9844805491870159, 0.9808281956494385, 0.5342183095158733, 0.4613703582182543, 0.982086272618799, 0.9752944935063225, 0.9819709980390148, 0.9790115716896292, 0.9807997775945758, 0.9929396614943711, 0.3405560890702259, 0.29190521920305074, 0.15811532706831916, 0.20676619693549428, 0.9978566866333196, 0.1527478287396606, 0.8401130580681334, 0.9666841802016519, 0.958322638525569, 0.6912620459907668, 0.2107506237776728, 0.09273027446217603, 0.3257833089983739, 0.5507289271162987, 0.08532419997576458, 0.023270236357026707, 0.3954557297409458, 0.5684676115026096, 0.8597070001101493, 0.1203589800154209, 0.9991563275396302, 0.9616851408132627, 0.9476012056626006, 0.012813952762976229, 0.05638139215709541, 0.9306133194111486, 0.9877348283497637, 0.8953112512806802, 0.7661260249500362, 0.23176921763194375, 0.9930326369113819, 0.9872436008873314, 0.9931563670188069, 0.9852001374548018, 0.9918174784558569, 0.9885098941823508, 0.9006254187774754, 0.0034375015983873105, 0.09281254315645739, 0.6561636287742749, 0.07525891082715698, 0.2681098698217467, 0.9950804208455306, 0.9005822838818762, 0.9847762977413408, 0.9635726899613934, 0.2038469361149679, 0.6575707616611868, 0.13151415233223737, 0.9912181154633023, 0.979524796581878, 0.017491514224676392, 0.9402345525666359, 0.3208478606909054, 0.024063589551817904, 0.1604239303454527, 0.4411658084499949, 0.008021196517272634, 0.04812717910363581, 0.9868421075383378, 0.9808649967556576, 0.9703185706211378, 0.9843094148781609, 0.9955092032825185, 0.9711772732498772, 0.9887355728224414, 0.9816552324101279, 0.9466781165770936, 0.9925580989934741, 0.9482173080795785, 0.9757781472723517, 0.018898937209520315, 0.9732952662902963, 0.985795758989926, 0.9573693296118764, 0.9788343900729105, 0.9450799123179029, 0.9939133356872081, 0.27526000498007286, 0.1516738802951422, 0.5505200099601457, 0.022470204488169214, 0.9888901952028274, 0.6431075656258223, 0.14979563262387804, 0.20610978022683973, 0.027151463643946615, 0.9774526911820782, 0.9774722631700646, 0.961632832016514, 0.9777588656927648, 0.8832471255974763, 0.995510307423402, 0.9229950524289721, 0.9943411486268006, 0.9612240878777512, 0.9947956919198176, 0.9473962320344321, 0.8253466954623662, 0.16549920716302655, 0.006448021058299736, 0.9735263329221177, 0.9681746481009558, 0.9614508607894044, 0.9565752877323569, 0.04095429366438225, 0.9523121447318632, 0.7133139734578938, 0.16955823959245017, 0.11108988111229494, 0.18444117569116808, 0.7945158337465702, 0.09196450130236715, 0.13794675195355072, 0.7357160104189372, 0.9931686997896346, 0.004774849518219397, 0.9874470692058325, 0.9823157873323803, 0.9845570167870988, 0.9787180226730575, 0.25183117318696224, 0.6025960215545169, 0.143903527535407, 0.09807584472695016, 0.8826826025425514, 0.017831971768536393, 0.17978613491300666, 0.4152203592038487, 0.10701555649583729, 0.29536293592851093, 0.9956147750630479, 0.9757427314827503, 0.9952709286370254, 0.2500326479976707, 0.35773901944282116, 0.38851226842714986, 0.9834293732739069, 0.986365413039097, 0.9829370253513362, 0.9751097137830791, 0.9733742370631207, 0.0893566038086601, 0.2596171597143503, 0.19924107605985023, 0.4516131057356605, 0.973350889867562, 0.9889084114229508, 0.9874907445698697, 0.9650921863152019, 0.18138399705090688, 0.8114547236487939, 0.9577508241805283, 0.9622158460980762, 0.03059685420484143, 0.9638009074525051, 0.7924297815138025, 0.20271459527097274, 0.9745160378132917, 0.9838018528125377, 0.9415294446592446, 0.9004210580483255, 0.4438960652466667, 0.552403992306963, 0.5580333559531468, 0.06764040678219962, 0.37202223730209794, 0.9917378658463036, 0.9924682704872217, 0.962926613961456, 0.98330029128956, 0.9916216099256066, 0.9749201255271103, 0.9857674869454794, 0.9358915245069175, 0.9960794160377141, 0.8778521810545032, 0.9968394544010888, 0.9819345074337046, 0.997459891558558, 0.9471500269011944, 0.05346814667990614, 0.9840819148180283, 0.9816003687972334, 0.9876432032209566, 0.17328076131769285, 0.8191454171381843, 0.08380925081970075, 0.9009494463117831, 0.7331771050305802, 0.2646738926873879, 0.9976634418836199, 0.2519589837590442, 0.7378798810086294, 0.4048084134385634, 0.5808120714553301, 0.9873469369149769, 0.9307157892953049, 0.983539190604778, 0.9535584285299901, 0.9728804590984425, 0.9973997473598236, 0.9958656342839767, 0.9866985769754719, 0.9666297349565294, 0.9828814396751537, 0.85438216851024, 0.13832854156832455, 0.9740986788809783, 0.5360932521966886, 0.46214935534197293, 0.9779054333985769, 0.6022748825419336, 0.16003508148207962, 0.07358755978863482, 0.1636072931223046, 0.0007144423280449983, 0.9945469274624374, 0.9552733041354786, 0.9914389296487587, 0.9728881849224282, 0.19420071490694726, 0.19420071490694726, 0.5975406612521454, 0.9899517246673858, 0.9749282140313055, 0.9649119164693248, 0.9979691860153315, 0.9620562577398029, 0.9466161885762672, 0.9689725271298021, 0.9891423298588707, 0.9772416539374335, 0.9957970425270929, 0.9801071551640088, 0.9766525764930066, 0.123469989606102, 0.23665081341169553, 0.639071520276028, 0.9692656604627341, 0.9985904959783455, 0.3127526975566925, 0.6829497681340019, 0.9640441977735825, 0.032436147246536075, 0.2659764074215958, 0.5643889620897277, 0.1362318184354515, 0.9733051268949816, 0.5139833763035363, 0.20697317166585355, 0.12418390299951214, 0.1517803258882926, 0.9665431515998353, 0.9821515471153909, 0.9938535006956781, 0.9583390713089583, 0.9899272410167067, 0.931443394769301, 0.07228281199416299, 0.9216058529255782, 0.9947170401335573, 0.9229923088171866, 0.9675320812746382, 0.9927964556426782, 0.8531308331379934, 0.9200193631953256, 0.8664325866929488, 0.12377608381327838, 0.9719720235764517, 0.9848166362376666, 0.7406497107635975, 0.0006727063676326954, 0.14799540087919297, 0.07063416860143301, 0.04036238205796172, 0.15187901112107727, 0.7450668470090583, 0.1002974601742963, 0.9951096740954473, 0.9992249350671013, 0.4959753225636273, 0.04451060587109476, 0.3200524517397766, 0.1356513702738126, 0.965406626530107, 0.35408547767439214, 0.29085592808967925, 0.35408547767439214, 0.9297581195839645, 0.9954165947455, 0.9703922705644394, 0.9949041995562318, 0.9708056723198382, 0.9884049132022958, 0.9845788784145401, 0.9979526294641619, 0.9802312278456666, 0.9779381603414371, 0.0018024522942069147, 0.9976573448435272, 0.7496295816350463, 0.19372449862478724, 0.05053682572820537, 0.3127213077300459, 0.6879868770061011, 0.17898089293152228, 0.8054140181918502, 0.9802138171962356, 0.9920498944461227, 0.377138236952866, 0.5971355418420379, 0.06134031941204528, 0.21323063414663357, 0.0116838703641991, 0.1402064443703892, 0.46151287938586444, 0.10807580086884168, 0.9891915392367022, 0.9360476909571667, 0.0435371019049845, 0.9743208577555699, 0.9756416577780936, 0.9867125736440007, 0.9764751646768562, 0.9659643699652162, 0.9860248268386684, 0.9577612901412167, 0.9708179039456025, 0.2909200691636303, 0.015127843596508775, 0.6516609549265318, 0.0384014491295992, 0.003491040829963563, 0.9460667358494097, 0.9736328069553863, 0.16729703981960897, 0.11334980596473505, 0.10774293053599816, 0.005606875428736895, 0.0009092230424978748, 0.06561559623359663, 0.5390177270274901, 0.00030307434749929157, 0.9324925235554723, 0.9172783639146199, 0.2873551883487659, 0.690757664299918, 0.016578183943198033, 0.97770204615195, 0.9857152401844094, 0.9921153474555341, 0.9249702468772287, 0.07047392357159839, 0.9632275880903323, 0.9906083887613834, 0.11034251675780703, 0.502058451248022, 0.15447952346092986, 0.04965413254101316, 0.18206515265038162, 0.23690605220541625, 0.7502024986504847, 0.24205451054963031, 0.7530584772655166, 0.6199862081902626, 0.07749827602378283, 0.03099931040951313, 0.24799448327610504, 0.9902784636825014, 0.31989486977321885, 0.27627284207687086, 0.37078723541895825, 0.029081351797565352, 0.8209798992475867, 0.9489574312966705, 0.99858220659211, 0.9455172443422913, 0.039396551847595475, 0.9351050974756043, 0.9844128086922384, 0.7293239964217016, 0.0712873079209182, 0.17273463073145565, 0.026047285586489343, 0.3277182370905721, 0.6554364741811441, 0.9872931664275821, 0.3188342567948936, 0.6795356382194196, 0.9995146274517505, 0.9560781169094342, 0.17673047298856218, 0.44536079193117667, 0.04241531351725492, 0.3322532892184969, 0.9991723295247461, 0.28669611781826004, 0.4039808932893664, 0.3127594012562837, 0.9757409449118108, 0.9980892896125901, 0.998077149444866, 0.39682060745522973, 0.5952309111828447, 0.977873542381485, 0.9887191604535341, 0.9579765536924624, 0.9828780892550031, 0.9925542204514884, 0.7938469086432067, 0.20097390092233083, 0.9480267156415759, 0.9963188181964746, 0.2278916743120529, 0.7487869298824595, 0.016277976736575207, 0.04771566628423721, 0.8111663268320325, 0.12724177675796589, 0.9641887529019864, 0.9921142321869965, 0.9939850268108986, 0.3237232415605551, 0.4478171508254346, 0.048558486234083265, 0.12409390926487947, 0.05395387359342585, 0.9452585634204271, 0.9750993915370779, 0.9116371625379959, 0.9494758464846426, 0.9329788550081982, 0.5802623302631793, 0.4001809174228823, 0.8503298520116691, 0.8392805394337998, 0.9871798052379575, 0.9623761492524209, 0.05014188330850306, 0.23528114475528358, 0.026999475627655495, 0.21213873707443603, 0.07328429098935063, 0.40306360044142847, 0.9605175221848828, 0.9533244503873496, 0.9731558822187759, 0.9831370239161107, 0.9589998338089151, 0.8878936504122656, 0.5246566289545789, 0.4656327581971887, 0.999169001262967, 0.9929217517198891, 0.8618043816424287, 0.9733723382796334, 0.7571541171921923, 0.2308396698756684, 0.9917284100522427, 0.09625148999939219, 0.8995812334558578, 0.9769655152317206, 0.3742012830646004, 0.6169264396470439, 0.9352337535976346, 0.9891354401594427, 0.17622448823939843, 0.7222315091778624, 0.07222315091778624, 0.026000334330403045, 0.22812719425853703, 0.5836500944017117, 0.18072414090611374, 0.00592538166905291, 0.002962690834526455, 0.9787714699502641, 0.26485699312663485, 0.005635255172907125, 0.7269479173050191, 0.13952028954708953, 0.8570532072178357, 0.16750413920056578, 0.13958678266713817, 0.6793223423134057, 0.15717747299809298, 0.5619094659681825, 0.2829194513965674, 0.9458068216328651, 0.9605005783262983, 0.4623877785438152, 0.14770720703482987, 0.20550567935280675, 0.1798174694337059, 0.9049508848362663, 0.9931459192068943, 0.9789266525043224, 0.9911837212762661, 0.9804353426059003, 0.945591899075739, 0.15790988648100496, 0.8346665428281691, 0.9880891694650673, 0.9926159833886664, 0.1651562067346064, 0.825781033673032, 0.9381391757744665, 0.9649931379758565, 0.9966757911420165, 0.9231159081133079, 0.053256687006537, 0.9512133315125835, 0.9754789530588527, 0.9800709974156637, 0.26507787017815293, 0.7289641429899206, 0.9457203953135074, 0.20961013411169813, 0.3275158345495283, 0.24891203425764152, 0.0829706780858805, 0.026201266763962266, 0.0786038002918868, 0.026201266763962266, 0.28965893793382036, 0.7018658880704108, 0.5314578754130002, 0.16179463545839318, 0.16715207371860488, 0.012857851824508068, 0.12214959233282664, 0.004285950608169356, 0.21571938139526828, 0.7633147341678723, 0.9576172064836287, 0.9542416052251251, 0.9708721632178763, 0.11311394357420047, 0.706962147338753, 0.12254010553871718, 0.05655697178710024, 0.9642686669401938, 0.9482101774482808, 0.9961969136363348, 0.9925847817865465, 0.9772889225918393, 0.3172302693181153, 0.3372132784090202, 0.34470690681810956, 0.7025972427910978, 0.2931365979856898, 0.638222017381553, 0.21051302143998868, 0.11695167857777149, 0.003341476530793471, 0.02673181224634777, 0.14675965495577892, 0.6874531205823329, 0.15448384732187254, 0.9854305422827875, 0.9976305361557255, 0.9630233270979742, 0.6712286836879441, 0.24445982924437468, 0.08286773872690667, 0.9952348976963414, 0.9911898843553574, 0.35012508088059746, 0.6487611792787541, 0.9823452237934382, 0.9605483255309551, 0.9977397490928062, 0.9687958887330963, 0.20111740379430584, 0.7182764421225208, 0.07182764421225209, 0.5683653887280702, 0.3247802221303258, 0.10555357219235588, 0.30781435196747536, 0.6797566939281747, 0.9192028031702797, 0.9885180881105229, 0.22347150332352933, 0.29796200443137244, 0.4767392070901959, 0.9670212473260094, 0.9869553087322795, 0.9683153542934141, 0.9809059641589405, 0.9859492040578467, 0.9755528191086892, 0.9390147274910454], \"Term\": [\"....\", \".....\", \"......\", \".......\", \"........\", \".........\", \".but\", \"accessory\", \"adapter\", \"amazon\", \"amazone\", \"amount\", \"android\", \"app\", \"app\", \"app\", \"application\", \"application\", \"apps\", \"apps\", \"atmos\", \"atom\", \"auto\", \"average\", \"average\", \"average\", \"average\", \"awesome\", \"back\", \"backup\", \"backupfast\", \"bahut\", \"batter\", \"battery\", \"battery\", \"beast\", \"bekar\", \"benefit\", \"bhi\", \"bill\", \"bit\", \"bit\", \"bluetooth\", \"blur\", \"body\", \"bokeh\", \"bottom\", \"box\", \"brand\", \"brand\", \"brand\", \"brand\", \"budget\", \"bug\", \"bug\", \"buget\", \"build\", \"button\", \"button\", \"button\", \"buy\", \"buy\", \"buy\", \"buy\", \"buying\", \"buying\", \"cable\", \"cable\", \"call\", \"caller\", \"camara\", \"camera\", \"camera\", \"camera\", \"capacity\", \"car\", \"card\", \"card\", \"care\", \"cash\", \"cast\", \"cell\", \"center\", \"centre\", \"charge\", \"charge\", \"charge\", \"charger\", \"charger\", \"charger\", \"charging\", \"chargingsmooth\", \"china\", \"claim\", \"clarity\", \"clarity\", \"clarity\", \"class\", \"color\", \"color\", \"comment\", \"company\", \"company\", \"company\", \"company\", \"company\", \"company\", \"compare\", \"comparison\", \"complain\", \"complaint\", \"con\", \"concern\", \"condition\", \"connection\", \"connects\", \"contact\", \"cool\", \"copy\", \"core\", \"core\", \"cost\", \"couple\", \"cover\", \"coverage\", \"customer\", \"data\", \"data\", \"data\", \"data\", \"date\", \"day\", \"day\", \"day\", \"deal\", \"deal\", \"deca\", \"default\", \"defect\", \"degree\", \"delivery\", \"department\", \"depth\", \"description\", \"design\", \"detail\", \"device\", \"device\", \"device\", \"difference\", \"din\", \"discharge\", \"display\", \"display\", \"doesnt\", \"dolby\", \"dolby\", \"dolby\", \"dont\", \"dont\", \"doubt\", \"doubt\", \"doubt\", \"drain\", \"drain\", \"drainage\", \"draining\", \"drawback\", \"ear\", \"earphone\", \"earphone\", \"earphone\", \"effect\", \"effect\", \"effect\", \"everything\", \"everything\", \"everything\", \"everything\", \"excellent\", \"exchange\", \"expectation\", \"experience\", \"experience\", \"experience\", \"facility\", \"fall\", \"fast\", \"fault\", \"faulty\", \"feature\", \"feature\", \"feature\", \"feature\", \"file\", \"finger\", \"fingerprint\", \"fix\", \"flash\", \"flash\", \"flipkart\", \"fone\", \"front\", \"front\", \"function\", \"function\", \"functionality\", \"future\", \"g5s\", \"gaget\", \"game\", \"game\", \"gaming\", \"gaming\", \"gaming\", \"gb\", \"glass\", \"good\", \"google\", \"gorilla\", \"graphic\", \"gud\", \"guess\", \"h\", \"ha\", \"hai\", \"half\", \"handset\", \"hang\", \"hang\", \"hanging\", \"hd\", \"head\", \"headphone\", \"headphone\", \"headset\", \"headset\", \"heat\", \"heat\", \"heating\", \"help\", \"help\", \"hi\", \"hi\", \"ho\", \"hone\", \"hope\", \"hota\", \"hotspot\", \"hour\", \"hr\", \"i.e\", \"icon\", \"idea\", \"image\", \"image\", \"improvement\", \"interface\", \"interface\", \"invoice\", \"issue\", \"issue\", \"issue\", \"issue\", \"issue\", \"item\", \"jata\", \"jio\", \"job\", \"k\", \"k\", \"k\", \"k4\", \"k5\", \"k6\", \"k8\", \"ka\", \"kar\", \"ke\", \"key\", \"ki\", \"killer\", \"ko\", \"lenevo\", \"lenovo\", \"lenovo\", \"lenovo\", \"level\", \"life\", \"light\", \"light\", \"list\", \"look\", \"look\", \"look\", \"look\", \"loss\", \"lot\", \"lot\", \"lot\", \"lot\", \"lover\", \"lte\", \"mah\", \"mail\", \"management\", \"manager\", \"mark\", \"mark\", \"memory\", \"menu\", \"mera\", \"message\", \"method\", \"mia1\", \"min\", \"min\", \"mind\", \"mob\", \"mobile\", \"mobile\", \"mobile\", \"mobile\", \"mobile\", \"mode\", \"mode\", \"mode\", \"model\", \"money\", \"month\", \"month\", \"month\", \"month\", \"morning\", \"moto\", \"moto\", \"moto\", \"movie\", \"mp\", \"msg\", \"music\", \"nahi\", \"name\", \"net\", \"network\", \"nhi\", \"nice\", \"note\", \"note\", \"nothing\", \"nothing\", \"nothing\", \"notification\", \"notification\", \"number\", \"number\", \"offer\", \"ok\", \"online\", \"online\", \"option\", \"option\", \"option\", \"option\", \"option\", \"option\", \"order\", \"oreo\", \"oreo\", \"others\", \"package\", \"par\", \"party\", \"pc\", \"percent\", \"percentage\", \"perfect\", \"performance\", \"performance\", \"performance\", \"performance\", \"performance\", \"ph\", \"phn\", \"phone\", \"phone\", \"phone\", \"phone\", \"phone\", \"phone\", \"phone\", \"phone\", \"phone-\", \"phone.it\", \"photo\", \"photo\", \"photo\", \"photography\", \"pic\", \"picture\", \"piece\", \"piece\", \"play\", \"player\", \"please\", \"please\", \"please\", \"please\", \"please\", \"pls\", \"pls\", \"plz\", \"plz\", \"point\", \"point\", \"point\", \"point\", \"policy\", \"power\", \"power\", \"power\", \"power\", \"powerfull\", \"premium\", \"price\", \"print\", \"print\", \"priority\", \"pro\", \"problem\", \"problem\", \"problem\", \"problem\", \"process\", \"process\", \"processing\", \"processor\", \"processor\", \"product\", \"protection\", \"purchase\", \"purchase\", \"purchase\", \"purchase\", \"quality\", \"r\", \"r\", \"r\", \"raha\", \"ram\", \"range\", \"rate\", \"rate\", \"rear\", \"reception\", \"record\", \"recorder\", \"recording\", \"refund\", \"refund\", \"repair\", \"replacement\", \"request\", \"request\", \"request\", \"response\", \"response\", \"response\", \"restart\", \"result\", \"return\", \"review\", \"review\", \"review\", \"review\", \"review\", \"rha\", \"ringtone\", \"rock\", \"rotation\", \"rupee\", \"samsung\", \"samsung\", \"satisfaction\", \"satisfy\", \"saver\", \"scratch\", \"screen\", \"screen\", \"screen\", \"screen\", \"screen\", \"screen\", \"se\", \"second\", \"segment\", \"selfie\", \"seller\", \"sensing\", \"sensor\", \"sensor\", \"service\", \"set\", \"shipping\", \"shot\", \"side\", \"side\", \"signal\", \"sim\", \"sim\", \"sir\", \"slot\", \"slot\", \"smart\", \"smartphone\", \"software\", \"software\", \"software\", \"software\", \"sound\", \"sound\", \"sound\", \"sound\", \"sound\", \"space\", \"speaker\", \"speaker\", \"speaker\", \"spec\", \"spec\", \"specification\", \"specification\", \"specification\", \"speed\", \"speed\", \"speed\", \"standard\", \"standby\", \"star\", \"star\", \"star\", \"star\", \"station\", \"stock\", \"stop\", \"storage\", \"strength\", \"suck\", \"suggestion\", \"suggestion\", \"super\", \"superb\", \"support\", \"support\", \"surprise\", \"switch\", \"system\", \"team\", \"team\", \"test\", \"tha\", \"thank\", \"thanks\", \"thanks\", \"thik\", \"thing\", \"thing\", \"thing\", \"thing\", \"thing\", \"thing\", \"thing\", \"till\", \"till\", \"time\", \"time\", \"time\", \"time\", \"time\", \"time\", \"today\", \"today\", \"toh\", \"tone\", \"top\", \"touch\", \"touch\", \"touch\", \"touch\", \"tray\", \"trouble\", \"turbo\", \"tv\", \"ui\", \"update\", \"update\", \"update\", \"usage\", \"usage\", \"use\", \"use\", \"use\", \"use\", \"use\", \"user\", \"user\", \"user\", \"v\", \"value\", \"vibe\", \"video\", \"video\", \"video\", \"voice\", \"volta\", \"volume\", \"volume\", \"warranty\", \"wastage\", \"waste\", \"water\", \"way\", \"way\", \"way\", \"week\", \"week\", \"week\", \"wifi\", \"wifi\", \"wire\", \"wise\", \"work\", \"work\", \"work\", \"working\", \"worth\", \"wrost\", \"ye\", \"year\", \"zoom\", \"\\ud83d\\udc4c\"]}, \"R\": 30, \"lambda.step\": 0.01, \"plot.opts\": {\"xlab\": \"PC1\", \"ylab\": \"PC2\"}, \"topic.order\": [9, 1, 5, 2, 6, 4, 3, 8, 7, 10]};\n",
              "\n",
              "function LDAvis_load_lib(url, callback){\n",
              "  var s = document.createElement('script');\n",
              "  s.src = url;\n",
              "  s.async = true;\n",
              "  s.onreadystatechange = s.onload = callback;\n",
              "  s.onerror = function(){console.warn(\"failed to load library \" + url);};\n",
              "  document.getElementsByTagName(\"head\")[0].appendChild(s);\n",
              "}\n",
              "\n",
              "if(typeof(LDAvis) !== \"undefined\"){\n",
              "   // already loaded: just create the visualization\n",
              "   !function(LDAvis){\n",
              "       new LDAvis(\"#\" + \"ldavis_el16741377363953286408469101377\", ldavis_el16741377363953286408469101377_data);\n",
              "   }(LDAvis);\n",
              "}else if(typeof define === \"function\" && define.amd){\n",
              "   // require.js is available: use it to load d3/LDAvis\n",
              "   require.config({paths: {d3: \"https://d3js.org/d3.v5\"}});\n",
              "   require([\"d3\"], function(d3){\n",
              "      window.d3 = d3;\n",
              "      LDAvis_load_lib(\"https://cdn.jsdelivr.net/gh/bmabey/pyLDAvis@3.4.0/pyLDAvis/js/ldavis.v3.0.0.js\", function(){\n",
              "        new LDAvis(\"#\" + \"ldavis_el16741377363953286408469101377\", ldavis_el16741377363953286408469101377_data);\n",
              "      });\n",
              "    });\n",
              "}else{\n",
              "    // require.js not available: dynamically load d3 & LDAvis\n",
              "    LDAvis_load_lib(\"https://d3js.org/d3.v5.js\", function(){\n",
              "         LDAvis_load_lib(\"https://cdn.jsdelivr.net/gh/bmabey/pyLDAvis@3.4.0/pyLDAvis/js/ldavis.v3.0.0.js\", function(){\n",
              "                 new LDAvis(\"#\" + \"ldavis_el16741377363953286408469101377\", ldavis_el16741377363953286408469101377_data);\n",
              "            })\n",
              "         });\n",
              "}\n",
              "</script>"
            ]
          },
          "metadata": {},
          "execution_count": 42
        }
      ]
    },
    {
      "cell_type": "markdown",
      "source": [
        "**Task 8. Analyze the topics, which pairs of topics can be combined?**\n",
        "\n",
        "⚫ you can assume that if a pair of topics has very similar top terms, they are very close and can be combined\n",
        "\n",
        "\n",
        "**Looking at the topics and each terms following can be combined** -\n",
        "\n",
        "*Topic possibly talks about 'pricing' Topic closely talks about 'battery related issues' Topic talks about 'performance**"
      ],
      "metadata": {
        "id": "iIXMNhH4ljrc"
      }
    },
    {
      "cell_type": "markdown",
      "source": [
        "\n",
        "▾ **Task 9. Create topic model using LDA with what you think is the optimal number of topics**\n",
        "\n",
        "* is the coherence better now?"
      ],
      "metadata": {
        "id": "3rEp1xHWmGbe"
      }
    },
    {
      "cell_type": "code",
      "source": [
        "# Build LDA model\n",
        "\n",
        "lda_model6 = gensim.models.ldamodel.LdaModel(corpus = corpus,\n",
        "                                              id2word=id2word,\n",
        "                                              num_topics=6,\n",
        "                                              passes=20,\n",
        "                                             )"
      ],
      "metadata": {
        "colab": {
          "base_uri": "https://localhost:8080/"
        },
        "id": "lVjCbrfNkhci",
        "outputId": "6e62c45c-4c19-4a46-fb05-e8585bc2c373"
      },
      "execution_count": 43,
      "outputs": [
        {
          "output_type": "stream",
          "name": "stderr",
          "text": [
            "/usr/local/lib/python3.10/dist-packages/ipykernel/ipkernel.py:283: DeprecationWarning: `should_run_async` will not call `transform_cell` automatically in the future. Please pass the result to `transformed_cell` argument and any exception that happen during thetransform in `preprocessing_exc_tuple` in IPython 7.17 and above.\n",
            "  and should_run_async(code)\n"
          ]
        }
      ]
    },
    {
      "cell_type": "markdown",
      "source": [
        "**Printing the coherence of the model**"
      ],
      "metadata": {
        "id": "GzQbv8DLm7mZ"
      }
    },
    {
      "cell_type": "code",
      "source": [
        "# Compute Coherence Score\n",
        "\n",
        "coherence_model_lda = CoherenceModel(model=lda_model6, texts=reviews_sw_removed, dictionary=id2word, coherence='c_v')\n",
        "coherence_lda = coherence_model_lda.get_coherence()\n",
        "print('\\nCoherence Score:', coherence_lda)"
      ],
      "metadata": {
        "colab": {
          "base_uri": "https://localhost:8080/"
        },
        "id": "t5fO5pfvm068",
        "outputId": "b319ad34-2ade-48a9-be54-b804c5a5b027"
      },
      "execution_count": 44,
      "outputs": [
        {
          "output_type": "stream",
          "name": "stderr",
          "text": [
            "/usr/local/lib/python3.10/dist-packages/ipykernel/ipkernel.py:283: DeprecationWarning: `should_run_async` will not call `transform_cell` automatically in the future. Please pass the result to `transformed_cell` argument and any exception that happen during thetransform in `preprocessing_exc_tuple` in IPython 7.17 and above.\n",
            "  and should_run_async(code)\n"
          ]
        },
        {
          "output_type": "stream",
          "name": "stdout",
          "text": [
            "\n",
            "Coherence Score: 0.5996337535568715\n"
          ]
        }
      ]
    },
    {
      "cell_type": "code",
      "source": [
        "# Visualization\n",
        "\n",
        "import pyLDAvis\n",
        "import pyLDAvis.gensim\n",
        "pyLDAvis.enable_notebook()\n",
        "\n",
        "#vis = pyLDAvis.gensim_models.prepare(lda_model,corpus,id2word)\n",
        "vis = pyLDAvis.gensim.prepare(lda_model6, corpus, id2word)\n",
        "vis"
      ],
      "metadata": {
        "colab": {
          "base_uri": "https://localhost:8080/",
          "height": 916
        },
        "id": "MHP1DEw2nTyb",
        "outputId": "61325d90-8c26-436b-c548-6cc5adf39c1f"
      },
      "execution_count": 45,
      "outputs": [
        {
          "output_type": "stream",
          "name": "stderr",
          "text": [
            "/usr/local/lib/python3.10/dist-packages/ipykernel/ipkernel.py:283: DeprecationWarning: `should_run_async` will not call `transform_cell` automatically in the future. Please pass the result to `transformed_cell` argument and any exception that happen during thetransform in `preprocessing_exc_tuple` in IPython 7.17 and above.\n",
            "  and should_run_async(code)\n"
          ]
        },
        {
          "output_type": "execute_result",
          "data": {
            "text/plain": [
              "PreparedData(topic_coordinates=              x         y  topics  cluster       Freq\n",
              "topic                                                \n",
              "2     -0.249204  0.046470       1        1  31.045338\n",
              "3     -0.181851 -0.170206       2        1  25.137579\n",
              "0     -0.089512  0.264098       3        1  15.329948\n",
              "1      0.067111 -0.220117       4        1  13.775667\n",
              "4      0.198816  0.022717       5        1   7.909818\n",
              "5      0.254639  0.057037       6        1   6.801650, topic_info=        Term         Freq        Total Category  logprob  loglift\n",
              "16     phone  6475.000000  6475.000000  Default  30.0000  30.0000\n",
              "58    camera  2910.000000  2910.000000  Default  29.0000  29.0000\n",
              "50   product  2019.000000  2019.000000  Default  28.0000  28.0000\n",
              "99   quality  1208.000000  1208.000000  Default  27.0000  27.0000\n",
              "27      note  1065.000000  1065.000000  Default  26.0000  26.0000\n",
              "..       ...          ...          ...      ...      ...      ...\n",
              "721     mail    24.498692    31.065869   Topic6  -5.4955   2.4505\n",
              "613      pls    40.778509    73.553084   Topic6  -4.9860   2.0982\n",
              "671  package    25.919057    35.996923   Topic6  -5.4391   2.3595\n",
              "398     side    31.418955    96.741785   Topic6  -5.2467   1.5634\n",
              "104   charge    29.115245   277.912099   Topic6  -5.3229   0.4320\n",
              "\n",
              "[328 rows x 6 columns], token_table=      Topic      Freq       Term\n",
              "term                            \n",
              "143       1  0.438459       ....\n",
              "143       2  0.559772       ....\n",
              "103       5  0.995718      .....\n",
              "499       5  0.991843     ......\n",
              "2435      5  0.975943  .........\n",
              "...     ...       ...        ...\n",
              "631       6  0.986950      worth\n",
              "34        6  0.969568      wrost\n",
              "349       5  0.992251         ye\n",
              "1228      2  0.970599  yesterday\n",
              "2323      3  0.962924       zoom\n",
              "\n",
              "[399 rows x 3 columns], R=30, lambda_step=0.01, plot_opts={'xlab': 'PC1', 'ylab': 'PC2'}, topic_order=[3, 4, 1, 2, 5, 6])"
            ],
            "text/html": [
              "\n",
              "<link rel=\"stylesheet\" type=\"text/css\" href=\"https://cdn.jsdelivr.net/gh/bmabey/pyLDAvis@3.4.0/pyLDAvis/js/ldavis.v1.0.0.css\">\n",
              "\n",
              "\n",
              "<div id=\"ldavis_el16741377363440885603269270493\" style=\"background-color:white;\"></div>\n",
              "<script type=\"text/javascript\">\n",
              "\n",
              "var ldavis_el16741377363440885603269270493_data = {\"mdsDat\": {\"x\": [-0.2492037239585843, -0.1818508062074689, -0.0895115670118286, 0.0671110471502694, 0.19881558698385202, 0.25463946304376106], \"y\": [0.04647016119873236, -0.17020605013867557, 0.26409791700047563, -0.22011660013053364, 0.02271712010944357, 0.0570374519605578], \"topics\": [1, 2, 3, 4, 5, 6], \"cluster\": [1, 1, 1, 1, 1, 1], \"Freq\": [31.04533805302101, 25.137578641981868, 15.329948237014534, 13.775667227119767, 7.909817611215632, 6.801650229647192]}, \"tinfo\": {\"Term\": [\"phone\", \"camera\", \"product\", \"quality\", \"note\", \"mobile\", \"problem\", \"battery\", \"k8\", \"network\", \"money\", \"call\", \"price\", \"performance\", \"waste\", \"amazon\", \".....\", \"backup\", \"service\", \"speaker\", \"value\", \"charger\", \"hai\", \"device\", \"issue\", \"option\", \"day\", \"feature\", \"sound\", \"lenovo\", \"backup\", \"processor\", \"game\", \"budget\", \"look\", \"mah\", \"button\", \"core\", \"message\", \"mi\", \"design\", \"fast\", \"cell\", \"deca\", \"spec\", \"body\", \"market\", \"segment\", \"capacity\", \"setting\", \"configuration\", \"whatsapp\", \"space\", \"end\", \"ui\", \"lte\", \"mediatek\", \"paper\", \"graphic\", \"functionality\", \"cam\", \"phone\", \"android\", \"specification\", \"battery\", \"life\", \"lag\", \"stock\", \"mode\", \"usage\", \"bit\", \"performance\", \"price\", \"thing\", \"camera\", \"range\", \"software\", \"issue\", \"day\", \"update\", \"feature\", \"....\", \"time\", \"hour\", \"use\", \"lenovo\", \"drain\", \"charge\", \"lot\", \"ram\", \"product\", \"amazon\", \"service\", \"charger\", \"delivery\", \"customer\", \"glass\", \"replacement\", \"return\", \"center\", \"piece\", \"care\", \"refund\", \"policy\", \"set\", \"centre\", \"plz\", \"warranty\", \"cable\", \"anything\", \"exchange\", \"amount\", \"something\", \"cash\", \"seller\", \"yesterday\", \"top\", \"faulty\", \"mind\", \"fault\", \"gorilla\", \"purchase\", \"thanks\", \"problem\", \"heating\", \"team\", \"month\", \"heat\", \"day\", \"time\", \"issue\", \"....\", \"hour\", \"turbo\", \"phone\", \"lenovo\", \"battery\", \"mobile\", \"update\", \"use\", \"experience\", \"hr\", \"screen\", \"money\", \"quality\", \"photo\", \"picture\", \"clarity\", \"front\", \"image\", \"super\", \"mp\", \"player\", \"nice\", \"phn\", \"hope\", \"future\", \"processing\", \"concern\", \"good\", \"build\", \"par\", \"complain\", \"zoom\", \"idea\", \"rom\", \"icon\", \"ph\", \"batter\", \"lenova\", \"tone\", \"loss\", \"gold\", \"movie\", \"selfie\", \"flash\", \"mobile\", \"video\", \"camera\", \"sound\", \"price\", \"performance\", \"music\", \"feature\", \"mark\", \"speaker\", \"display\", \"range\", \"speed\", \"card\", \"light\", \"ram\", \"mode\", \"everything\", \"battery\", \"depth\", \"k8\", \"network\", \"call\", \"note\", \"cast\", \"jio\", \"volta\", \"voice\", \"version\", \"k4\", \"pic\", \"recording\", \"recorder\", \"tv\", \"auto\", \"bar\", \"party\", \"strength\", \"deal\", \"ka\", \"sir\", \"ko\", \"fone\", \"tha\", \"contact\", \"caller\", \"stop\", \"sm\", \"coverage\", \"aspect\", \"sim\", \"option\", \"app\", \"notification\", \"handset\", \"signal\", \"screen\", \"gallery\", \"lenovo\", \"support\", \"connection\", \"problem\", \"model\", \"data\", \"feature\", \"issue\", \"apps\", \"smartphone\", \"time\", \"waste\", \".....\", \"superb\", \"dolby\", \"......\", \"atmos\", \"ok\", \"bill\", \"headset\", \"bhi\", \"buying\", \"hotspot\", \"ye\", \"ki\", \"audio\", \"accessory\", \"working\", \"switch\", \"jata\", \"pc\", \"china\", \"output\", \"rha\", \"camara\", \".........\", \"atom\", \"water\", \"copy\", \"category\", \"paisa\", \"ringtone\", \"buy\", \"device\", \"sound\", \"nothing\", \"money\", \"work\", \"k\", \"everything\", \"box\", \"please\", \"r\", \"system\", \"headphone\", \"expectation\", \"value\", \"hai\", \"h\", \"earphone\", \"worth\", \"excellent\", \"ho\", \"awesome\", \"gud\", \"facility\", \"jack\", \"invoice\", \"k6\", \"se\", \"raha\", \"bahut\", \"v\", \"nahi\", \"ke\", \"cool\", \"bekar\", \"nhi\", \"hota\", \"list\", \"packing\", \"kar\", \"din\", \"wrost\", \"kiya\", \"hone\", \"speaker\", \"headphone\", \"money\", \"mail\", \"pls\", \"package\", \"side\", \"charge\"], \"Freq\": [6475.0, 2910.0, 2019.0, 1208.0, 1065.0, 1363.0, 1393.0, 2827.0, 557.0, 513.0, 565.0, 457.0, 831.0, 816.0, 275.0, 506.0, 248.0, 547.0, 457.0, 320.0, 209.0, 411.0, 202.0, 415.0, 1322.0, 332.0, 830.0, 770.0, 314.0, 837.0, 546.2583495301201, 290.18035875461305, 188.51890756533186, 174.52603129908778, 146.7315062395751, 113.54949340849464, 104.55462924577311, 102.45510989170991, 82.4287823421914, 75.59560929386669, 69.2504747338815, 60.286794754120336, 60.330707563316494, 54.53531393544171, 47.60498601651099, 43.103247638581166, 40.22762138732468, 38.89178789683103, 39.013448702551706, 38.61944793494529, 38.27336185154987, 37.05589443766405, 36.0041211388936, 34.80598132264286, 34.05922890802676, 30.395356950102492, 29.153126745415626, 28.604280051620755, 28.290868548378228, 27.6572721623118, 66.93737194895478, 5299.868043620009, 142.56481232158453, 92.97814980307186, 1997.0711507355018, 246.91771789287725, 84.66865905909692, 118.31389367973232, 237.5595456315419, 149.11502553526225, 118.05256045966632, 450.5291357994511, 450.4602857912718, 156.15586482049034, 1163.0573630778297, 198.82027927549055, 182.932581781933, 518.3585199813103, 357.16342564727927, 200.6252200389207, 324.43344077152045, 253.23776304310218, 277.9641754684138, 186.7086013720086, 139.62833664112057, 182.85726281572653, 122.26405508305287, 128.0922437912791, 121.52196412348576, 118.43778056806822, 2018.4185137211457, 505.7368062758568, 456.4704934210758, 410.5512514183633, 220.12100421621426, 190.763791667775, 172.7050024785118, 171.72499222755636, 167.51953427892158, 130.41900828901453, 105.06376445108197, 94.18210734608236, 92.1478106532795, 90.53644250925149, 79.73388872591254, 77.41354345310039, 71.93595681332152, 67.44315106756632, 53.35392718971357, 41.4912738666228, 35.05336037188465, 33.74971924673831, 30.924492042238956, 29.681012885731622, 29.212295920468396, 29.105066859211842, 27.738079913217348, 26.276748236922323, 26.46280588420535, 24.67471340158803, 86.41240901324272, 125.00706549244444, 94.34379568585172, 1098.4433908408848, 411.7470652261525, 49.43314671053996, 340.12388594566056, 214.93820634428332, 472.18939772840463, 492.7168226747434, 669.1110676833873, 323.1636490144428, 242.29702783644603, 129.46363694596144, 1174.8721123179976, 322.17330664954414, 647.2357845805363, 409.2597987984079, 162.92478363952787, 143.89844230488887, 133.34210300222648, 115.99779078967642, 158.71648076488688, 147.08197612880852, 1207.789856004808, 160.53815699463098, 150.71806101080617, 132.62474742854624, 119.32178873151138, 108.33339783380976, 90.6498655966583, 84.36548895227769, 46.099959756724985, 38.56779343603552, 35.028397495145704, 34.75150932068821, 33.99505013909901, 31.722656779005924, 30.846567124484793, 29.50315762540028, 27.996104913420872, 27.439049687407447, 29.80446356942454, 23.105950968086994, 22.418357600627978, 20.90878544583512, 20.128049420628948, 19.863302799667707, 19.719487867908114, 18.99697618177918, 17.72952263794312, 17.67940937019818, 17.32643684129353, 16.791724641697193, 55.343048531734055, 86.6590681801557, 954.033755488954, 163.23724594549498, 1746.925589634128, 184.50521405708878, 380.0891619407572, 365.7137630292042, 123.16097487954328, 300.14797115328395, 89.7085616759504, 132.92401151214247, 132.6961749632748, 129.4169345890709, 96.70351827604449, 69.3333625879572, 66.74835475929123, 73.81391839191734, 90.39727618763219, 73.10226739898548, 182.97021103173455, 62.15319797296272, 556.6845814128061, 512.9254002990407, 456.5460376540618, 1064.0277029865085, 139.39152867608533, 135.61121962728413, 119.59521228235059, 91.73679260179725, 82.43284651325197, 70.89764028984092, 69.71242985594692, 60.39179010779205, 58.720397944047505, 55.73626839447563, 55.09270136332259, 40.133035141004825, 39.07461153219364, 38.14530206749715, 36.68535823518996, 33.82177368045576, 32.358703304684944, 31.49254382677864, 28.8147930232784, 27.985825623153694, 100.02303894333352, 24.8915775805738, 22.153516288352503, 21.53204753132023, 20.798541016975527, 20.837097967466274, 242.02978755364646, 271.94993610773696, 153.94680140679156, 80.86673809753749, 129.82352896630462, 71.79713361772627, 233.7118198818473, 72.19222064738081, 300.44570913090354, 86.64334655495284, 49.89608219634887, 294.7639213354716, 70.48547687338412, 78.49249558616388, 145.32840414543034, 134.54124947677062, 74.91697935548636, 64.5389319140832, 67.39955877558582, 274.46792173799264, 247.29763067970083, 174.47824591598095, 157.2866388487833, 94.00915121750278, 90.44716466205489, 84.1568534798363, 56.55574132498005, 49.16581027422327, 46.889322643731674, 41.34735911423048, 36.51162094975165, 35.502402090396544, 32.70380039839526, 32.165976927610956, 29.843492172617058, 27.921805800309556, 26.093714996137617, 26.60693535381604, 24.020100441539665, 23.68759969327113, 23.620505875959793, 23.22350476871007, 22.34160936267764, 20.755257960390136, 18.60355041660959, 18.507230505330952, 18.073463692544774, 18.084102527215016, 17.50462536868321, 32.33910360200938, 78.30404659895072, 181.50601707351592, 129.0697605091157, 56.30770652518017, 141.75475462461915, 70.96723216017453, 39.82970608010904, 69.56635100124748, 50.5719494477337, 54.74443124651444, 38.192340302157156, 48.60106977610954, 38.21951263566488, 37.793836443351644, 208.78552973779702, 201.48669532045383, 154.1235386195385, 104.69757215132532, 93.45123832241653, 84.93224660323223, 81.3224017633816, 62.85177074160407, 48.8573526568416, 45.67544519195424, 43.22517913793856, 32.14548833351836, 31.378301264669926, 29.30072966990179, 28.60325833255697, 28.204491684806737, 26.924570101795418, 26.34191421320106, 24.890611481484875, 24.54408925324546, 23.740545070542776, 23.61206548292344, 22.851410355993103, 21.26730953517249, 19.776320497337476, 17.410783498038555, 16.89612594460431, 16.7621857035627, 16.607910433809902, 16.00712045162417, 186.66310827680203, 83.41390705599161, 275.9130282355019, 24.498692187440746, 40.778509056201976, 25.91905677434768, 31.418954648341398, 29.115245306887495], \"Total\": [6475.0, 2910.0, 2019.0, 1208.0, 1065.0, 1363.0, 1393.0, 2827.0, 557.0, 513.0, 565.0, 457.0, 831.0, 816.0, 275.0, 506.0, 248.0, 547.0, 457.0, 320.0, 209.0, 411.0, 202.0, 415.0, 1322.0, 332.0, 830.0, 770.0, 314.0, 837.0, 547.0269311352137, 290.95033652530174, 189.28766539029618, 175.29485411023245, 147.50073124948122, 114.31906905249787, 105.32729890672118, 103.22481259592915, 83.20451096393136, 76.36513915465811, 70.0200251761524, 61.05674556911288, 61.10214484708922, 55.302821058965215, 48.37314287501034, 43.8744145220333, 41.000380471218584, 39.65898671512175, 39.78348632144845, 39.39070259962691, 39.04241120463113, 37.82706556352357, 36.77365744734614, 35.576462412398634, 34.827971794163844, 31.17037385059817, 29.921051567061145, 29.378754121774314, 29.069307615076397, 28.42900226491286, 69.2056610151862, 6475.3590894353465, 156.39691654358197, 102.15065615570461, 2827.7465453192535, 308.16272439114346, 95.4359786994508, 145.47439818939023, 328.57934943013817, 199.63575356134197, 152.41435987996448, 816.8648561409101, 831.1710990883375, 221.89490418178733, 2910.605215283687, 328.85792415811625, 302.88127670999404, 1322.4705437505497, 830.3419781184614, 364.16929306678554, 770.3739488124944, 577.0210327024446, 879.0174260294576, 429.62284287137754, 284.1448994053969, 837.518117173642, 203.26753123798224, 277.9120987430233, 274.13137284345333, 192.87423496651445, 2019.1909646614124, 506.5088705229606, 457.24167545974484, 411.3259298725272, 220.89295371370957, 191.53668452955603, 173.47856513868743, 172.49760482546802, 168.29092825823076, 131.19042153739125, 105.83710602748427, 94.95469653286689, 92.93194801486739, 91.30876779484674, 80.50778969340537, 78.18311990888088, 72.70931168294025, 68.21545333548835, 54.1262492195786, 42.26426116258503, 35.82564382501621, 34.521906163133245, 31.69980660369857, 30.46189690465652, 29.982638073798796, 29.878467224746423, 28.528542601937115, 27.048026376324287, 27.242161412130418, 25.450813699326776, 89.44292727119192, 135.8147929627517, 103.65768187980676, 1393.8227899747233, 522.6053244613729, 53.02302393087064, 452.9860509100199, 312.43070049071815, 830.3419781184614, 879.0174260294576, 1322.4705437505497, 577.0210327024446, 429.62284287137754, 189.42147711191603, 6475.3590894353465, 837.518117173642, 2827.7465453192535, 1363.9189702564247, 364.16929306678554, 284.1448994053969, 251.04421296979356, 181.25394463313708, 507.3180293331983, 565.2108681695029, 1208.5670603880944, 161.3157818731268, 151.49455465880237, 133.40061548256145, 120.09840714848099, 109.10992073465269, 91.42361367988121, 85.14256340901998, 46.87517389504635, 39.34278455344443, 35.807624384337466, 35.534550238951866, 34.77497830840931, 32.498168182575476, 31.631057955565886, 30.279129102450547, 28.771729344628262, 28.22802742273248, 30.732363142193016, 23.885576971996365, 23.206915943761604, 21.686334462405494, 20.912605706050527, 20.640691619697332, 20.499334632082626, 19.793079247384167, 18.51055104936405, 18.465202839013124, 18.104008379378744, 17.570303305595385, 58.232598541864185, 95.24031613635304, 1363.9189702564247, 208.2635485161429, 2910.605215283687, 314.3427064445678, 831.1710990883375, 816.8648561409101, 213.01854648684318, 770.3739488124944, 154.0831590850143, 320.21478152728037, 320.2824835162888, 328.85792415811625, 229.1419611006064, 133.55924588358351, 141.20277135210333, 192.87423496651445, 328.57934943013817, 221.36538499655478, 2827.7465453192535, 160.98797138497812, 557.4513262278125, 513.6920017475849, 457.3125859067159, 1065.8564134553749, 140.15647224023996, 136.376577082508, 120.36212760097764, 92.50278916091925, 83.2003179887562, 71.66302075032452, 70.48251721528595, 61.158635347345324, 59.48484286848912, 56.50130128538979, 55.85877531842611, 40.916444660711704, 39.84165949139915, 38.912410907636044, 37.452600435777455, 34.59574122748167, 33.13071001262032, 32.278479466961294, 29.581562851503996, 28.76976993144676, 102.88710455148095, 25.66094844654439, 22.920868217835768, 22.29786328566738, 21.565978237108304, 21.610580143554532, 257.4860509468595, 332.6008302044589, 199.91668514933417, 104.44244117611032, 199.2248231772977, 98.98730113961908, 507.3180293331983, 105.84241839401585, 837.518117173642, 146.8515477738567, 63.437620395339906, 1393.8227899747233, 129.50742883582677, 167.5608855561601, 770.3739488124944, 1322.4705437505497, 168.61757027140533, 128.39125269779245, 879.0174260294576, 275.2309137326009, 248.06211807319096, 175.24139270253443, 158.05134507304078, 94.77307006377711, 91.21193953190541, 84.91905915673179, 57.318675342058434, 49.92954596271865, 47.67104860389917, 42.11171459057537, 37.2756735113158, 36.28113247240485, 33.47951041845603, 32.93215240224795, 30.608037009140958, 28.686677415417755, 26.859401649610014, 27.401313717717223, 24.78758463154679, 24.450181468408253, 24.3862785603785, 24.014552877150663, 23.105719202470365, 21.51766069019305, 19.36839062970951, 19.271757569267717, 18.836552145030687, 18.847802501152103, 18.267830656186625, 38.547748116790636, 124.57383656301708, 415.6409398590651, 314.3427064445678, 108.78104170297583, 565.2108681695029, 190.0511184160125, 67.02383306728082, 221.36538499655478, 131.7710220914404, 174.84138126298663, 74.51371382744146, 163.4071073186728, 122.24765884922306, 122.69900157298179, 209.55838259196614, 202.25718779378815, 154.89382721764122, 105.47022313772005, 94.22969735086626, 85.70343410313144, 82.09272215493739, 63.62194381252292, 49.62870805427561, 46.45244678462719, 43.997806498316066, 32.91595737651647, 32.15306657146904, 30.07086255646496, 29.37381374274641, 28.974575462037095, 27.696892851144643, 27.11166267700453, 25.660999327733208, 25.315134480681024, 24.510651113036243, 24.38218877660624, 23.644677679636466, 22.046760523456122, 20.550776473127247, 18.181050909215525, 17.666610945140256, 17.53358627169419, 17.380902594319004, 16.777440573127585, 320.21478152728037, 122.24765884922306, 565.2108681695029, 31.06586880536993, 73.55308377243259, 35.99692305426803, 96.74178545258917, 277.9120987430233], \"Category\": [\"Default\", \"Default\", \"Default\", \"Default\", \"Default\", \"Default\", \"Default\", \"Default\", \"Default\", \"Default\", \"Default\", \"Default\", \"Default\", \"Default\", \"Default\", \"Default\", \"Default\", \"Default\", \"Default\", \"Default\", \"Default\", \"Default\", \"Default\", \"Default\", \"Default\", \"Default\", \"Default\", \"Default\", \"Default\", \"Default\", \"Topic1\", \"Topic1\", \"Topic1\", \"Topic1\", \"Topic1\", \"Topic1\", \"Topic1\", \"Topic1\", \"Topic1\", \"Topic1\", \"Topic1\", \"Topic1\", \"Topic1\", \"Topic1\", \"Topic1\", \"Topic1\", \"Topic1\", \"Topic1\", \"Topic1\", \"Topic1\", \"Topic1\", \"Topic1\", \"Topic1\", \"Topic1\", \"Topic1\", \"Topic1\", \"Topic1\", \"Topic1\", \"Topic1\", \"Topic1\", \"Topic1\", \"Topic1\", \"Topic1\", \"Topic1\", \"Topic1\", \"Topic1\", \"Topic1\", \"Topic1\", \"Topic1\", \"Topic1\", \"Topic1\", \"Topic1\", \"Topic1\", \"Topic1\", \"Topic1\", \"Topic1\", \"Topic1\", \"Topic1\", \"Topic1\", \"Topic1\", \"Topic1\", \"Topic1\", \"Topic1\", \"Topic1\", \"Topic1\", \"Topic1\", \"Topic1\", \"Topic1\", \"Topic1\", \"Topic1\", \"Topic2\", \"Topic2\", \"Topic2\", \"Topic2\", \"Topic2\", \"Topic2\", \"Topic2\", \"Topic2\", \"Topic2\", \"Topic2\", \"Topic2\", \"Topic2\", \"Topic2\", \"Topic2\", \"Topic2\", \"Topic2\", \"Topic2\", \"Topic2\", \"Topic2\", \"Topic2\", \"Topic2\", \"Topic2\", \"Topic2\", \"Topic2\", \"Topic2\", \"Topic2\", \"Topic2\", \"Topic2\", \"Topic2\", \"Topic2\", \"Topic2\", \"Topic2\", \"Topic2\", \"Topic2\", \"Topic2\", \"Topic2\", \"Topic2\", \"Topic2\", \"Topic2\", \"Topic2\", \"Topic2\", \"Topic2\", \"Topic2\", \"Topic2\", \"Topic2\", \"Topic2\", \"Topic2\", \"Topic2\", \"Topic2\", \"Topic2\", \"Topic2\", \"Topic2\", \"Topic2\", \"Topic2\", \"Topic3\", \"Topic3\", \"Topic3\", \"Topic3\", \"Topic3\", \"Topic3\", \"Topic3\", \"Topic3\", \"Topic3\", \"Topic3\", \"Topic3\", \"Topic3\", \"Topic3\", \"Topic3\", \"Topic3\", \"Topic3\", \"Topic3\", \"Topic3\", \"Topic3\", \"Topic3\", \"Topic3\", \"Topic3\", \"Topic3\", \"Topic3\", \"Topic3\", \"Topic3\", \"Topic3\", \"Topic3\", \"Topic3\", \"Topic3\", \"Topic3\", \"Topic3\", \"Topic3\", \"Topic3\", \"Topic3\", \"Topic3\", \"Topic3\", \"Topic3\", \"Topic3\", \"Topic3\", \"Topic3\", \"Topic3\", \"Topic3\", \"Topic3\", \"Topic3\", \"Topic3\", \"Topic3\", \"Topic3\", \"Topic3\", \"Topic3\", \"Topic3\", \"Topic3\", \"Topic4\", \"Topic4\", \"Topic4\", \"Topic4\", \"Topic4\", \"Topic4\", \"Topic4\", \"Topic4\", \"Topic4\", \"Topic4\", \"Topic4\", \"Topic4\", \"Topic4\", \"Topic4\", \"Topic4\", \"Topic4\", \"Topic4\", \"Topic4\", \"Topic4\", \"Topic4\", \"Topic4\", \"Topic4\", \"Topic4\", \"Topic4\", \"Topic4\", \"Topic4\", \"Topic4\", \"Topic4\", \"Topic4\", \"Topic4\", \"Topic4\", \"Topic4\", \"Topic4\", \"Topic4\", \"Topic4\", \"Topic4\", \"Topic4\", \"Topic4\", \"Topic4\", \"Topic4\", \"Topic4\", \"Topic4\", \"Topic4\", \"Topic4\", \"Topic4\", \"Topic4\", \"Topic4\", \"Topic4\", \"Topic4\", \"Topic5\", \"Topic5\", \"Topic5\", \"Topic5\", \"Topic5\", \"Topic5\", \"Topic5\", \"Topic5\", \"Topic5\", \"Topic5\", \"Topic5\", \"Topic5\", \"Topic5\", \"Topic5\", \"Topic5\", \"Topic5\", \"Topic5\", \"Topic5\", \"Topic5\", \"Topic5\", \"Topic5\", \"Topic5\", \"Topic5\", \"Topic5\", \"Topic5\", \"Topic5\", \"Topic5\", \"Topic5\", \"Topic5\", \"Topic5\", \"Topic5\", \"Topic5\", \"Topic5\", \"Topic5\", \"Topic5\", \"Topic5\", \"Topic5\", \"Topic5\", \"Topic5\", \"Topic5\", \"Topic5\", \"Topic5\", \"Topic5\", \"Topic5\", \"Topic5\", \"Topic6\", \"Topic6\", \"Topic6\", \"Topic6\", \"Topic6\", \"Topic6\", \"Topic6\", \"Topic6\", \"Topic6\", \"Topic6\", \"Topic6\", \"Topic6\", \"Topic6\", \"Topic6\", \"Topic6\", \"Topic6\", \"Topic6\", \"Topic6\", \"Topic6\", \"Topic6\", \"Topic6\", \"Topic6\", \"Topic6\", \"Topic6\", \"Topic6\", \"Topic6\", \"Topic6\", \"Topic6\", \"Topic6\", \"Topic6\", \"Topic6\", \"Topic6\", \"Topic6\", \"Topic6\", \"Topic6\", \"Topic6\", \"Topic6\", \"Topic6\"], \"logprob\": [30.0, 29.0, 28.0, 27.0, 26.0, 25.0, 24.0, 23.0, 22.0, 21.0, 20.0, 19.0, 18.0, 17.0, 16.0, 15.0, 14.0, 13.0, 12.0, 11.0, 10.0, 9.0, 8.0, 7.0, 6.0, 5.0, 4.0, 3.0, 2.0, 1.0, -3.9093, -4.5419, -4.9732, -5.0503, -5.2238, -5.4802, -5.5627, -5.583, -5.8005, -5.887, -5.9747, -6.1133, -6.1126, -6.2136, -6.3495, -6.4488, -6.5179, -6.5516, -6.5485, -6.5587, -6.5677, -6.6, -6.6288, -6.6626, -6.6843, -6.7981, -6.8398, -6.8589, -6.8699, -6.8925, -6.0087, -1.637, -5.2526, -5.68, -2.613, -4.7034, -5.7737, -5.4391, -4.742, -5.2077, -5.4413, -4.102, -4.1021, -5.1616, -3.1536, -4.92, -5.0033, -3.9617, -4.3342, -4.911, -4.4303, -4.6781, -4.5849, -4.9829, -5.2734, -5.0037, -5.4062, -5.3597, -5.4123, -5.438, -2.3913, -3.7753, -3.8778, -3.9838, -4.6071, -4.7503, -4.8497, -4.8554, -4.8802, -5.1306, -5.3468, -5.4561, -5.4779, -5.4956, -5.6226, -5.6522, -5.7256, -5.79, -6.0244, -6.2758, -6.4445, -6.4824, -6.5698, -6.6108, -6.6267, -6.6304, -6.6785, -6.7326, -6.7256, -6.7955, -5.5422, -5.173, -5.4544, -2.9997, -3.9809, -6.1007, -4.172, -4.631, -3.8439, -3.8014, -3.4954, -4.2232, -4.5112, -5.1379, -2.9324, -4.2262, -3.5286, -3.987, -4.908, -5.0322, -5.1084, -5.2478, -4.9342, -5.0103, -2.4102, -4.4282, -4.4914, -4.6192, -4.7249, -4.8216, -4.9998, -5.0716, -5.676, -5.8544, -5.9506, -5.9585, -5.9806, -6.0497, -6.0777, -6.1223, -6.1747, -6.1948, -6.1121, -6.3667, -6.3969, -6.4666, -6.5047, -6.5179, -6.5252, -6.5625, -6.6315, -6.6344, -6.6545, -6.6859, -5.4932, -5.0448, -2.6461, -4.4116, -2.0412, -4.2891, -3.5664, -3.6049, -4.6933, -3.8025, -5.0102, -4.617, -4.6187, -4.6437, -4.9351, -5.2678, -5.3058, -5.2052, -5.0026, -5.2149, -4.2974, -5.3772, -3.0779, -3.1597, -3.2762, -2.4301, -4.4626, -4.4901, -4.6158, -4.8809, -4.9879, -5.1386, -5.1555, -5.299, -5.3271, -5.3792, -5.3908, -5.7077, -5.7344, -5.7585, -5.7975, -5.8788, -5.923, -5.9501, -6.039, -6.0682, -4.7945, -6.1853, -6.3019, -6.3303, -6.365, -6.3631, -3.9108, -3.7942, -4.3633, -5.0071, -4.5337, -5.126, -3.9458, -5.1205, -3.6946, -4.9381, -5.4899, -3.7137, -5.1445, -5.0369, -4.4209, -4.498, -5.0835, -5.2326, -5.1892, -3.2302, -3.3345, -3.6833, -3.787, -4.3017, -4.3403, -4.4124, -4.8098, -4.9499, -4.9973, -5.1231, -5.2474, -5.2755, -5.3576, -5.3742, -5.4491, -5.5157, -5.5834, -5.5639, -5.6662, -5.6801, -5.683, -5.6999, -5.7386, -5.8123, -5.9217, -5.9269, -5.9506, -5.95, -5.9826, -5.3688, -4.4845, -3.6438, -3.9847, -4.8142, -3.891, -4.5828, -5.1605, -4.6028, -4.9217, -4.8424, -5.2024, -4.9614, -5.2017, -5.2129, -3.3528, -3.3884, -3.6564, -4.0431, -4.1567, -4.2523, -4.2957, -4.5533, -4.8052, -4.8726, -4.9277, -5.2239, -5.248, -5.3165, -5.3406, -5.3546, -5.4011, -5.423, -5.4796, -5.4937, -5.5269, -5.5324, -5.5651, -5.637, -5.7096, -5.837, -5.867, -5.875, -5.8842, -5.9211, -3.4648, -4.2703, -3.074, -5.4955, -4.986, -5.4391, -5.2467, -5.3229], \"loglift\": [30.0, 29.0, 28.0, 27.0, 26.0, 25.0, 24.0, 23.0, 22.0, 21.0, 20.0, 19.0, 18.0, 17.0, 16.0, 15.0, 14.0, 13.0, 12.0, 11.0, 10.0, 9.0, 8.0, 7.0, 6.0, 5.0, 4.0, 3.0, 2.0, 1.0, 1.1683, 1.1671, 1.1657, 1.1653, 1.1645, 1.163, 1.1624, 1.1622, 1.1604, 1.1596, 1.1587, 1.157, 1.157, 1.1557, 1.1537, 1.152, 1.1507, 1.1502, 1.1502, 1.1499, 1.1498, 1.1491, 1.1486, 1.1478, 1.1474, 1.1445, 1.1437, 1.143, 1.1426, 1.1422, 1.1364, 0.9694, 1.0771, 1.0756, 0.8219, 0.9481, 1.05, 0.9631, 0.8454, 0.8779, 0.9142, 0.5747, 0.5572, 0.8184, 0.2524, 0.6665, 0.6655, 0.2331, 0.3261, 0.5735, 0.3049, 0.3462, 0.0184, 0.3364, 0.4592, -0.352, 0.6614, 0.3952, 0.3562, 0.6821, 1.3804, 1.3793, 1.3791, 1.3789, 1.3773, 1.3768, 1.3763, 1.3763, 1.3762, 1.3749, 1.3735, 1.3726, 1.3723, 1.3723, 1.3711, 1.3709, 1.3701, 1.3694, 1.3664, 1.3623, 1.359, 1.3582, 1.356, 1.3548, 1.3548, 1.3546, 1.3527, 1.3519, 1.3518, 1.3498, 1.3463, 1.2979, 1.2867, 1.1427, 1.1424, 1.3107, 1.0943, 1.0068, 0.8163, 0.8019, 0.6995, 0.8011, 0.8081, 1.0002, -0.326, 0.4255, -0.0937, 0.177, 0.5765, 0.7004, 0.7481, 0.9345, 0.2188, 0.0346, 1.8747, 1.8705, 1.8702, 1.8695, 1.8689, 1.8682, 1.8669, 1.8662, 1.8587, 1.8555, 1.8534, 1.8531, 1.8527, 1.8512, 1.8502, 1.8494, 1.848, 1.847, 1.8447, 1.8422, 1.8408, 1.8388, 1.8371, 1.837, 1.8366, 1.8343, 1.8323, 1.8319, 1.8315, 1.83, 1.8245, 1.7809, 1.5179, 1.6318, 1.3649, 1.3426, 1.0929, 1.0717, 1.3275, 0.9328, 1.3344, 0.9961, 0.9942, 0.9428, 1.0127, 1.2197, 1.1261, 0.9149, 0.5848, 0.7674, -0.8626, 0.9236, 1.9809, 1.9808, 1.9806, 1.9805, 1.9768, 1.9766, 1.9759, 1.974, 1.973, 1.9715, 1.9713, 1.9696, 1.9693, 1.9686, 1.9685, 1.9629, 1.9628, 1.9624, 1.9616, 1.9596, 1.9587, 1.9576, 1.956, 1.9546, 1.954, 1.9518, 1.9482, 1.9473, 1.946, 1.9458, 1.9204, 1.7809, 1.721, 1.7264, 1.554, 1.6611, 1.2072, 1.5996, 0.9571, 1.4546, 1.7422, 0.4286, 1.3739, 1.2239, 0.3144, -0.3031, 1.171, 1.2945, -0.5859, 2.5343, 2.534, 2.5327, 2.5322, 2.529, 2.5286, 2.528, 2.5237, 2.5217, 2.5205, 2.5187, 2.5164, 2.5154, 2.5136, 2.5135, 2.5118, 2.51, 2.5081, 2.5076, 2.5056, 2.5054, 2.5052, 2.5036, 2.5034, 2.501, 2.4968, 2.4966, 2.4957, 2.4957, 2.4944, 2.3614, 2.0728, 1.7085, 1.6469, 1.8786, 1.154, 1.552, 2.0166, 1.3795, 1.5794, 1.3759, 1.8687, 1.3245, 1.3744, 1.3595, 2.6843, 2.6842, 2.683, 2.6807, 2.6797, 2.679, 2.6786, 2.6758, 2.6723, 2.6711, 2.6703, 2.6643, 2.6636, 2.6621, 2.6614, 2.6611, 2.6597, 2.6592, 2.6575, 2.6571, 2.6561, 2.6559, 2.6539, 2.652, 2.6496, 2.6447, 2.6434, 2.643, 2.6425, 2.641, 2.1483, 2.3058, 1.9709, 2.4505, 2.0982, 2.3595, 1.5634, 0.432]}, \"token.table\": {\"Topic\": [1, 2, 5, 5, 5, 5, 2, 2, 1, 3, 2, 1, 2, 4, 1, 3, 4, 4, 5, 5, 5, 4, 6, 1, 6, 4, 3, 1, 2, 3, 6, 5, 5, 1, 3, 1, 2, 5, 1, 3, 1, 1, 5, 5, 2, 4, 4, 1, 6, 5, 1, 3, 1, 1, 2, 3, 2, 2, 4, 5, 1, 2, 2, 1, 2, 6, 2, 5, 3, 3, 3, 1, 2, 4, 4, 6, 6, 5, 1, 4, 2, 1, 2, 4, 1, 2, 3, 4, 1, 2, 1, 3, 1, 1, 2, 4, 5, 6, 1, 2, 3, 5, 5, 1, 2, 6, 1, 1, 3, 5, 6, 2, 1, 3, 5, 1, 2, 3, 5, 6, 1, 2, 2, 1, 3, 4, 1, 3, 4, 3, 1, 3, 3, 4, 1, 2, 3, 3, 2, 6, 1, 6, 6, 6, 2, 4, 5, 6, 5, 1, 2, 6, 1, 2, 6, 6, 3, 6, 5, 1, 2, 1, 2, 3, 3, 3, 6, 1, 2, 4, 6, 5, 4, 4, 5, 4, 6, 4, 4, 6, 6, 5, 6, 4, 1, 6, 3, 1, 2, 4, 5, 1, 2, 3, 1, 3, 4, 6, 1, 3, 1, 2, 3, 4, 1, 1, 2, 6, 1, 3, 1, 1, 1, 1, 2, 2, 3, 1, 3, 2, 4, 2, 5, 6, 1, 2, 3, 3, 1, 3, 5, 6, 4, 6, 3, 1, 4, 1, 5, 1, 4, 5, 1, 2, 4, 5, 1, 6, 6, 5, 1, 3, 4, 5, 1, 3, 3, 3, 1, 2, 3, 4, 3, 2, 3, 2, 4, 5, 2, 6, 2, 2, 1, 3, 2, 4, 3, 1, 2, 2, 5, 3, 1, 2, 5, 6, 1, 3, 1, 3, 4, 4, 2, 2, 2, 5, 3, 5, 3, 1, 2, 3, 4, 6, 1, 1, 3, 2, 2, 2, 1, 1, 3, 4, 6, 2, 4, 5, 3, 4, 4, 4, 1, 4, 1, 2, 3, 2, 3, 5, 1, 3, 6, 1, 1, 4, 1, 3, 4, 1, 3, 4, 4, 3, 5, 2, 4, 5, 1, 2, 4, 5, 2, 4, 4, 1, 2, 1, 2, 4, 5, 1, 2, 3, 4, 3, 2, 1, 2, 3, 4, 1, 1, 2, 1, 2, 1, 2, 6, 6, 4, 1, 3, 4, 4, 2, 5, 5, 1, 1, 2, 4, 5, 5, 6, 6, 5, 2, 3], \"Freq\": [0.4384588873911392, 0.5597716230329564, 0.9957183382878414, 0.9918429353058112, 0.9759425200700845, 0.9801347270666404, 0.9989953373917515, 0.9848818845440638, 0.9143402770357768, 0.0831218433668888, 0.9700867558592452, 0.07002917235018304, 0.15506459591826244, 0.7703208958520134, 0.4507240845522272, 0.10675044107815906, 0.44479350449232946, 0.9717462400593331, 0.9867129288322886, 0.9809798017423075, 0.9716947622839155, 0.9846259551246762, 0.9902243821038285, 0.998122704611485, 0.9663644610319141, 0.977602045624661, 0.9756414224634814, 0.7062160515430983, 0.22880409882242592, 0.06471584247991335, 0.9791661547185645, 0.9859233513096188, 0.9944402877394377, 0.77420526578291, 0.22307609353066898, 0.9800700583344725, 0.6147026767675169, 0.3870350187054736, 0.9983179534178053, 0.97317751271102, 0.9968925538761699, 0.3692589171943049, 0.6261346856772997, 0.9736008233959638, 0.9791921805811882, 0.9993164721104358, 0.974243023482891, 0.9681288931738952, 0.02889936994548941, 0.9521452159622824, 0.39957325503749097, 0.6002188104475467, 0.9803062427682199, 0.35190375394128387, 0.12728433653195373, 0.5166246600414592, 0.9899457681639113, 0.9848368962017624, 0.9917487061299768, 0.9550184961297064, 0.9819622559920378, 0.9909260026498813, 0.9848673228919521, 0.4605772853320705, 0.4317912049988161, 0.10434954120804722, 0.9992076116557296, 0.9815878066594341, 0.9969968992938131, 0.9761696443971944, 0.9800494198944476, 0.9733005423469471, 0.2049257194545553, 0.7881758440559818, 0.9719391019499791, 0.019438782038999583, 0.98755153835262, 0.9555888923519701, 0.9881345137363082, 0.9737559673442296, 0.9971980065809628, 0.20887929712133993, 0.32227091555863874, 0.46550243358470045, 0.4299433358878892, 0.5684404889049964, 0.0012043230697139755, 0.9879153802269736, 0.9945243108187494, 0.9959575273964288, 0.608741132377201, 0.38512194089169854, 0.9854323791860075, 0.19487974410669304, 0.28149296370966775, 0.08661321960297469, 0.437877943548372, 0.9622671859809293, 0.3403245747420231, 0.22167931015306092, 0.41525842606136765, 0.021855706634808823, 0.9933480789261558, 0.6001942329744953, 0.3935699888357346, 0.9955416502996675, 0.983796522382795, 0.35235861289340226, 0.32977152232331236, 0.31621926798125843, 0.9917922296755931, 0.9769538314775608, 0.43195135510923793, 0.2608008181791625, 0.3097009715877555, 0.28281870814740884, 0.5297871575155687, 0.13145094885724637, 0.05576706921216513, 0.9902600010129731, 0.9826924026286874, 0.982286864983861, 0.9612531294615401, 0.4205749694670168, 0.38942126802501553, 0.1882202795454242, 0.0839980412134144, 0.9134786981958817, 0.9803403608381553, 0.9908541072728551, 0.9849096967626495, 0.9777144847787899, 0.31178425909687796, 0.6802565653022792, 0.9984802739803302, 0.9972413586756103, 0.9390185667039208, 0.9907814685981852, 0.9615069924897144, 0.02236062773231894, 0.963215236178456, 0.9873317666543316, 0.9942294200246902, 0.9937842120346797, 0.34634238293987235, 0.6525291272780204, 0.31084439863889884, 0.6789496075533843, 0.9813828476747471, 0.25605678275005717, 0.6881526036407787, 0.05441206633438715, 0.2104838868860977, 0.788357830882475, 0.9866891713875069, 0.9536615510727655, 0.9849568874417353, 0.9727347655835595, 0.9926044659868556, 0.4352654964763708, 0.5632847601458917, 0.35861288498609933, 0.6399860716675003, 0.9563609758210815, 0.9479932643059344, 0.9898274993952939, 0.972172847168348, 0.39169114385787596, 0.505871380773975, 0.10208166876604875, 0.9773214490055486, 0.9853542161572443, 0.9972386967720992, 0.4028417767885116, 0.5968026322792764, 0.9907480769944865, 0.9641382084378785, 0.9991903755420827, 0.9827799258999997, 0.9350394586587467, 0.9742410917325877, 0.9856774961024611, 0.9780849934431194, 0.9603922028523715, 0.8906494296839976, 0.1047822858451762, 0.9599314872904892, 0.2185027359379006, 0.3844692949289836, 0.35820120645557474, 0.03820812868859464, 0.8015245857136468, 0.1265565135337337, 0.07139085378826004, 0.27619854501828134, 0.47449493631345774, 0.24787048911897044, 0.9525208920220979, 0.9966052286979222, 0.9748065134692023, 0.44504209326551564, 0.3939716891202925, 0.025535202072611552, 0.13497178238380392, 0.9624523640233558, 0.997208960367309, 0.1931380074251412, 0.7725520297005648, 0.41536012358552726, 0.5841001737921477, 0.9756007027319946, 0.9692172728289038, 0.9855234896524601, 0.9952185099287436, 0.9544029787747565, 0.2998711865728399, 0.6994550415415385, 0.7243303646828939, 0.2739064404263044, 0.4478507566814959, 0.5405095339259434, 0.26007992464135654, 0.2512336687011743, 0.48831332789805715, 0.24724823154046174, 0.7505749886049732, 0.9675416356976736, 0.9865805848065535, 0.33799873854855633, 0.5774145116871171, 0.08449968463713908, 0.9589968829928156, 0.9986528858825314, 0.9843250833586795, 0.9912872320214452, 0.0009382126779705003, 0.9982582893606122, 0.47802447178236096, 0.5147955849963888, 0.22021698976968104, 0.775546790058442, 0.9891772334048647, 0.009019821141624383, 0.17438320873807142, 0.8177971168406107, 0.9841600037733472, 0.25002136950516113, 0.7222839563482432, 0.9731992378075127, 0.9853386720499338, 0.9871078902732094, 0.9564961658729462, 0.9788748886933075, 0.9682266488141631, 0.5521109111373033, 0.44805453098947445, 0.9689597794733815, 0.9774454631318483, 0.8184874269979925, 0.18145711824955493, 0.9980424613794131, 0.9931540865118066, 0.9967354954776018, 0.9920906186978801, 0.9813296928347217, 0.5376301612408932, 0.1487062148113109, 0.3145708390239269, 0.4350599371061785, 0.5574205444172912, 0.9902445551123725, 0.996618421184475, 0.5414047727279959, 0.45718625252586326, 0.7877615489555254, 0.2116481392913297, 0.9846708842240967, 0.9967336812988388, 0.9994101773025653, 0.9203710234590001, 0.07362968187672, 0.9995307994014727, 0.2818273163599349, 0.20130522597138206, 0.5099732391275013, 0.9872739118583564, 0.6117976308265662, 0.3836697006878466, 0.6051245397520663, 0.3922666614473193, 0.9918493040393328, 0.9810552452525313, 0.9899717154888619, 0.997115294290773, 0.9982712778327282, 0.9577525810144902, 0.15565111564549522, 0.8301392834426412, 0.9683517533313297, 0.20499961362834687, 0.31341287083564573, 0.021682651441459765, 0.4612491306637805, 0.9643886983802288, 0.9833836724106095, 0.03434502409440261, 0.9444881625960719, 0.9672264304635187, 0.9972844219449236, 0.9936926638361435, 0.990081349815004, 0.15505192435538767, 0.15505192435538767, 0.3617878234959046, 0.3204406436678012, 0.15153458905645767, 0.7273660274709968, 0.12122767124516613, 0.05825558295231974, 0.9398567382974251, 0.9658712411478775, 0.9866416220311639, 0.4906876339020502, 0.5062650191052899, 0.6041971362106373, 0.38959159602653115, 0.006603247390280189, 0.977923947220015, 0.5885296404439513, 0.41038012766091736, 0.9789616399061233, 0.41534622282472367, 0.5839830350994235, 0.9922861560603062, 0.910419996306665, 0.08810516093290306, 0.3578567609622461, 0.42331836357729113, 0.21820534205015005, 0.8111392895839867, 0.185599667955658, 0.9598240254651785, 0.9765521876862943, 0.9953664741216148, 0.9929160988543292, 0.4085758775412888, 0.5924350224348688, 0.9680036934247009, 0.16523149110855515, 0.20806928509966205, 0.3304629822171103, 0.29986455793774824, 0.9241268484401096, 0.05657919480245569, 0.9732437925892009, 0.08682424531194598, 0.9068310065914358, 0.7030355229437674, 0.13519913902764757, 0.0946393973193533, 0.06309293154623553, 0.3162622170708635, 0.5608535000573226, 0.046642988848580584, 0.07622146958182681, 0.9724183765246908, 0.9814732000399758, 0.23228622578000196, 0.681020980127733, 0.0791884860613643, 0.9911276152232724, 0.9762268156452742, 0.551941099446675, 0.44759402591944286, 0.7463592935732168, 0.2504561387829587, 0.49270636317232763, 0.5067836878343941, 0.9748385909246191, 0.997335431849303, 0.9855731562357921, 0.21127076876148337, 0.7826621660936771, 0.9945646053975239, 0.9969913492873924, 0.9821821409071246, 0.9955277053877865, 0.9858986618998838, 0.9781356139789732, 0.310442792927174, 0.12102007181906783, 0.19994620561411208, 0.3735836999632094, 0.9760628459868728, 0.9869500021178307, 0.969567761926971, 0.9922512762627055, 0.9705986515928486, 0.9629241959264948], \"Term\": [\"....\", \"....\", \".....\", \"......\", \".........\", \"accessory\", \"amazon\", \"amount\", \"android\", \"android\", \"anything\", \"app\", \"app\", \"app\", \"apps\", \"apps\", \"apps\", \"aspect\", \"atmos\", \"atom\", \"audio\", \"auto\", \"awesome\", \"backup\", \"bahut\", \"bar\", \"batter\", \"battery\", \"battery\", \"battery\", \"bekar\", \"bhi\", \"bill\", \"bit\", \"bit\", \"body\", \"box\", \"box\", \"budget\", \"build\", \"button\", \"buy\", \"buy\", \"buying\", \"cable\", \"call\", \"caller\", \"cam\", \"cam\", \"camara\", \"camera\", \"camera\", \"capacity\", \"card\", \"card\", \"card\", \"care\", \"cash\", \"cast\", \"category\", \"cell\", \"center\", \"centre\", \"charge\", \"charge\", \"charge\", \"charger\", \"china\", \"clarity\", \"complain\", \"concern\", \"configuration\", \"connection\", \"connection\", \"contact\", \"contact\", \"cool\", \"copy\", \"core\", \"coverage\", \"customer\", \"data\", \"data\", \"data\", \"day\", \"day\", \"day\", \"deal\", \"deca\", \"delivery\", \"depth\", \"depth\", \"design\", \"device\", \"device\", \"device\", \"device\", \"din\", \"display\", \"display\", \"display\", \"display\", \"dolby\", \"drain\", \"drain\", \"earphone\", \"end\", \"everything\", \"everything\", \"everything\", \"excellent\", \"exchange\", \"expectation\", \"expectation\", \"expectation\", \"experience\", \"experience\", \"experience\", \"experience\", \"facility\", \"fast\", \"fault\", \"faulty\", \"feature\", \"feature\", \"feature\", \"flash\", \"flash\", \"fone\", \"front\", \"functionality\", \"future\", \"gallery\", \"gallery\", \"game\", \"glass\", \"gold\", \"good\", \"gorilla\", \"gorilla\", \"graphic\", \"gud\", \"h\", \"hai\", \"handset\", \"handset\", \"headphone\", \"headphone\", \"headset\", \"heat\", \"heat\", \"heat\", \"heating\", \"heating\", \"ho\", \"hone\", \"hope\", \"hota\", \"hotspot\", \"hour\", \"hour\", \"hr\", \"hr\", \"icon\", \"idea\", \"image\", \"invoice\", \"issue\", \"issue\", \"issue\", \"jack\", \"jata\", \"jio\", \"k\", \"k\", \"k4\", \"k6\", \"k8\", \"ka\", \"kar\", \"ke\", \"ki\", \"kiya\", \"ko\", \"lag\", \"lag\", \"lenova\", \"lenovo\", \"lenovo\", \"lenovo\", \"lenovo\", \"life\", \"life\", \"life\", \"light\", \"light\", \"light\", \"list\", \"look\", \"loss\", \"lot\", \"lot\", \"lot\", \"lot\", \"lte\", \"mah\", \"mail\", \"mail\", \"mark\", \"mark\", \"market\", \"mediatek\", \"message\", \"mi\", \"mind\", \"mobile\", \"mobile\", \"mode\", \"mode\", \"model\", \"model\", \"money\", \"money\", \"money\", \"month\", \"month\", \"movie\", \"mp\", \"music\", \"music\", \"music\", \"nahi\", \"network\", \"nhi\", \"nice\", \"note\", \"note\", \"nothing\", \"nothing\", \"notification\", \"notification\", \"ok\", \"option\", \"option\", \"option\", \"output\", \"package\", \"package\", \"packing\", \"paisa\", \"paper\", \"par\", \"party\", \"pc\", \"performance\", \"performance\", \"ph\", \"phn\", \"phone\", \"phone\", \"photo\", \"pic\", \"picture\", \"piece\", \"player\", \"please\", \"please\", \"please\", \"pls\", \"pls\", \"plz\", \"policy\", \"price\", \"price\", \"problem\", \"problem\", \"processing\", \"processor\", \"product\", \"purchase\", \"purchase\", \"quality\", \"r\", \"r\", \"r\", \"raha\", \"ram\", \"ram\", \"range\", \"range\", \"recorder\", \"recording\", \"refund\", \"replacement\", \"return\", \"rha\", \"ringtone\", \"ringtone\", \"rom\", \"screen\", \"screen\", \"screen\", \"screen\", \"se\", \"segment\", \"selfie\", \"selfie\", \"seller\", \"service\", \"set\", \"setting\", \"side\", \"side\", \"side\", \"side\", \"signal\", \"signal\", \"signal\", \"sim\", \"sim\", \"sir\", \"sm\", \"smartphone\", \"smartphone\", \"software\", \"software\", \"software\", \"something\", \"sound\", \"sound\", \"space\", \"speaker\", \"speaker\", \"spec\", \"specification\", \"specification\", \"speed\", \"speed\", \"speed\", \"stock\", \"stock\", \"stop\", \"strength\", \"super\", \"superb\", \"support\", \"support\", \"switch\", \"system\", \"system\", \"system\", \"system\", \"team\", \"team\", \"tha\", \"thanks\", \"thanks\", \"thing\", \"thing\", \"thing\", \"thing\", \"time\", \"time\", \"time\", \"time\", \"tone\", \"top\", \"turbo\", \"turbo\", \"turbo\", \"tv\", \"ui\", \"update\", \"update\", \"usage\", \"usage\", \"use\", \"use\", \"v\", \"value\", \"version\", \"video\", \"video\", \"voice\", \"volta\", \"warranty\", \"waste\", \"water\", \"whatsapp\", \"work\", \"work\", \"work\", \"work\", \"working\", \"worth\", \"wrost\", \"ye\", \"yesterday\", \"zoom\"]}, \"R\": 30, \"lambda.step\": 0.01, \"plot.opts\": {\"xlab\": \"PC1\", \"ylab\": \"PC2\"}, \"topic.order\": [3, 4, 1, 2, 5, 6]};\n",
              "\n",
              "function LDAvis_load_lib(url, callback){\n",
              "  var s = document.createElement('script');\n",
              "  s.src = url;\n",
              "  s.async = true;\n",
              "  s.onreadystatechange = s.onload = callback;\n",
              "  s.onerror = function(){console.warn(\"failed to load library \" + url);};\n",
              "  document.getElementsByTagName(\"head\")[0].appendChild(s);\n",
              "}\n",
              "\n",
              "if(typeof(LDAvis) !== \"undefined\"){\n",
              "   // already loaded: just create the visualization\n",
              "   !function(LDAvis){\n",
              "       new LDAvis(\"#\" + \"ldavis_el16741377363440885603269270493\", ldavis_el16741377363440885603269270493_data);\n",
              "   }(LDAvis);\n",
              "}else if(typeof define === \"function\" && define.amd){\n",
              "   // require.js is available: use it to load d3/LDAvis\n",
              "   require.config({paths: {d3: \"https://d3js.org/d3.v5\"}});\n",
              "   require([\"d3\"], function(d3){\n",
              "      window.d3 = d3;\n",
              "      LDAvis_load_lib(\"https://cdn.jsdelivr.net/gh/bmabey/pyLDAvis@3.4.0/pyLDAvis/js/ldavis.v3.0.0.js\", function(){\n",
              "        new LDAvis(\"#\" + \"ldavis_el16741377363440885603269270493\", ldavis_el16741377363440885603269270493_data);\n",
              "      });\n",
              "    });\n",
              "}else{\n",
              "    // require.js not available: dynamically load d3 & LDAvis\n",
              "    LDAvis_load_lib(\"https://d3js.org/d3.v5.js\", function(){\n",
              "         LDAvis_load_lib(\"https://cdn.jsdelivr.net/gh/bmabey/pyLDAvis@3.4.0/pyLDAvis/js/ldavis.v3.0.0.js\", function(){\n",
              "                 new LDAvis(\"#\" + \"ldavis_el16741377363440885603269270493\", ldavis_el16741377363440885603269270493_data);\n",
              "            })\n",
              "         });\n",
              "}\n",
              "</script>"
            ]
          },
          "metadata": {},
          "execution_count": 45
        }
      ]
    },
    {
      "cell_type": "markdown",
      "source": [
        "**Task 10. The business finally needs to be able to interpret the topics**\n",
        "\n",
        "⚫ name each of the identified topics\n",
        "\n",
        "⚫ create a table with the topic name and the top 10 terms in each to present to business"
      ],
      "metadata": {
        "id": "RZFNujs4n6_0"
      }
    },
    {
      "cell_type": "code",
      "source": [
        "x = lda_model6.show_topics (formatted=False)\n",
        "topics_words = [(tp[0], [wd[0] for wd in tp[1]]) for tp in x]"
      ],
      "metadata": {
        "colab": {
          "base_uri": "https://localhost:8080/"
        },
        "id": "tea9ujjandSR",
        "outputId": "dfd51dfd-e0e4-4494-ee2d-41333197ed97"
      },
      "execution_count": 46,
      "outputs": [
        {
          "output_type": "stream",
          "name": "stderr",
          "text": [
            "/usr/local/lib/python3.10/dist-packages/ipykernel/ipkernel.py:283: DeprecationWarning: `should_run_async` will not call `transform_cell` automatically in the future. Please pass the result to `transformed_cell` argument and any exception that happen during thetransform in `preprocessing_exc_tuple` in IPython 7.17 and above.\n",
            "  and should_run_async(code)\n"
          ]
        }
      ]
    },
    {
      "cell_type": "code",
      "source": [
        "for topic,words in topics_words:\n",
        "  print(str(topic)+ \"::\"+ str(words))\n",
        "  print()"
      ],
      "metadata": {
        "colab": {
          "base_uri": "https://localhost:8080/"
        },
        "id": "j0UFFm-CoBET",
        "outputId": "4466b38b-e5d2-487a-b9f2-3904226078a7"
      },
      "execution_count": 49,
      "outputs": [
        {
          "output_type": "stream",
          "name": "stdout",
          "text": [
            "0::['camera', 'quality', 'mobile', 'price', 'performance', 'feature', 'sound', 'battery', 'video', 'photo']\n",
            "\n",
            "1::['note', 'k8', 'network', 'call', 'lenovo', 'problem', 'option', 'sim', 'screen', 'app']\n",
            "\n",
            "2::['phone', 'battery', 'camera', 'backup', 'issue', 'performance', 'price', 'day', 'feature', 'processor']\n",
            "\n",
            "3::['product', 'phone', 'problem', 'issue', 'battery', 'amazon', 'time', 'day', 'service', 'heating']\n",
            "\n",
            "4::['waste', '.....', 'device', 'superb', 'dolby', 'money', 'sound', '......', 'atmos', 'ok']\n",
            "\n",
            "5::['money', 'value', 'hai', 'speaker', 'h', 'earphone', 'worth', 'excellent', 'headphone', 'ho']\n",
            "\n"
          ]
        },
        {
          "output_type": "stream",
          "name": "stderr",
          "text": [
            "/usr/local/lib/python3.10/dist-packages/ipykernel/ipkernel.py:283: DeprecationWarning: `should_run_async` will not call `transform_cell` automatically in the future. Please pass the result to `transformed_cell` argument and any exception that happen during thetransform in `preprocessing_exc_tuple` in IPython 7.17 and above.\n",
            "  and should_run_async(code)\n"
          ]
        }
      ]
    },
    {
      "cell_type": "code",
      "source": [],
      "metadata": {
        "id": "UiwLx0UVoHvq"
      },
      "execution_count": null,
      "outputs": []
    }
  ]
}