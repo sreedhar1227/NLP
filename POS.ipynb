{
  "nbformat": 4,
  "nbformat_minor": 0,
  "metadata": {
    "colab": {
      "provenance": []
    },
    "kernelspec": {
      "name": "python3",
      "display_name": "Python 3"
    },
    "language_info": {
      "name": "python"
    }
  },
  "cells": [
    {
      "cell_type": "markdown",
      "source": [
        "**Demonstration of pos_tagging**"
      ],
      "metadata": {
        "id": "zXEyFTo3R5pc"
      }
    },
    {
      "cell_type": "code",
      "source": [
        "#pos_tagging - pos_tag\n",
        "import nltk\n",
        "from nltk import pos_tag\n",
        "nltk.download('averaged_perceptron_tagger_eng')\n",
        "nltk.download('punkt_tab')"
      ],
      "metadata": {
        "colab": {
          "base_uri": "https://localhost:8080/"
        },
        "id": "wfFfD59gR9xV",
        "outputId": "5b1ebe25-5b8a-418c-fbc6-35fa40120d7d"
      },
      "execution_count": 6,
      "outputs": [
        {
          "output_type": "stream",
          "name": "stderr",
          "text": [
            "[nltk_data] Downloading package averaged_perceptron_tagger_eng to\n",
            "[nltk_data]     /root/nltk_data...\n",
            "[nltk_data]   Unzipping taggers/averaged_perceptron_tagger_eng.zip.\n",
            "[nltk_data] Downloading package punkt_tab to /root/nltk_data...\n",
            "[nltk_data]   Package punkt_tab is already up-to-date!\n"
          ]
        },
        {
          "output_type": "execute_result",
          "data": {
            "text/plain": [
              "True"
            ]
          },
          "metadata": {},
          "execution_count": 6
        }
      ]
    },
    {
      "cell_type": "code",
      "source": [
        "# Word Tokenization\n",
        "\n",
        "text = 'This website uses cookies of google'\n",
        "tokens = nltk.word_tokenize(text)\n",
        "print(tokens)"
      ],
      "metadata": {
        "colab": {
          "base_uri": "https://localhost:8080/"
        },
        "id": "17xY2n_lSCj4",
        "outputId": "001edeb8-3b4a-45cd-b3d3-68df7257efbb"
      },
      "execution_count": 7,
      "outputs": [
        {
          "output_type": "stream",
          "name": "stdout",
          "text": [
            "['This', 'website', 'uses', 'cookies', 'of', 'google']\n"
          ]
        }
      ]
    },
    {
      "cell_type": "code",
      "source": [
        "# get the POS tags for statement\n",
        "postag = pos_tag(tokens)\n",
        "print(postag)"
      ],
      "metadata": {
        "colab": {
          "base_uri": "https://localhost:8080/"
        },
        "id": "3a2gDu5vSLoA",
        "outputId": "2397ea01-c646-494e-9ef6-cb073efd78b7"
      },
      "execution_count": 8,
      "outputs": [
        {
          "output_type": "stream",
          "name": "stdout",
          "text": [
            "[('This', 'DT'), ('website', 'JJ'), ('uses', 'VBZ'), ('cookies', 'NNS'), ('of', 'IN'), ('google', 'NN')]\n"
          ]
        }
      ]
    },
    {
      "cell_type": "code",
      "source": [
        "# get the list of POS tags\n",
        "nltk.download('tagsets_json')\n",
        "nltk.help.brown_tagset()"
      ],
      "metadata": {
        "id": "lTT498ZcSZ92"
      },
      "execution_count": null,
      "outputs": []
    },
    {
      "cell_type": "code",
      "source": [
        "# get more info of specific tag\n",
        "nltk.help.upenn_tagset('NNS')"
      ],
      "metadata": {
        "colab": {
          "base_uri": "https://localhost:8080/"
        },
        "id": "mNdpZEDWS_3Z",
        "outputId": "75a50d62-7128-4bde-d137-832820dd261e"
      },
      "execution_count": 11,
      "outputs": [
        {
          "output_type": "stream",
          "name": "stdout",
          "text": [
            "NNS: noun, common, plural\n",
            "    undergraduates scotches bric-a-brac products bodyguards facets coasts\n",
            "    divestitures storehouses designs clubs fragrances averages\n",
            "    subjectivists apprehensions muses factory-jobs ...\n"
          ]
        }
      ]
    },
    {
      "cell_type": "code",
      "source": [
        "text = 'I left the room'\n",
        "tokens = nltk.word_tokenize(text)\n",
        "print(tokens)\n",
        "postag = pos_tag(tokens)\n",
        "print(postag)"
      ],
      "metadata": {
        "colab": {
          "base_uri": "https://localhost:8080/"
        },
        "id": "iDbmkC2tTTrP",
        "outputId": "29c41fc4-41e5-4d02-c8a3-cdfba31d6120"
      },
      "execution_count": 14,
      "outputs": [
        {
          "output_type": "stream",
          "name": "stdout",
          "text": [
            "['I', 'left', 'the', 'room']\n",
            "[('I', 'PRP'), ('left', 'VBD'), ('the', 'DT'), ('room', 'NN')]\n"
          ]
        }
      ]
    },
    {
      "cell_type": "code",
      "source": [
        "text = 'left of the room'\n",
        "tokens = nltk.word_tokenize(text)\n",
        "print(tokens)\n",
        "postag = pos_tag(tokens)\n",
        "print(postag)"
      ],
      "metadata": {
        "colab": {
          "base_uri": "https://localhost:8080/"
        },
        "id": "hoD1DtlaTYtd",
        "outputId": "f49b262f-4d8a-4872-e305-d881d10b6de8"
      },
      "execution_count": 13,
      "outputs": [
        {
          "output_type": "stream",
          "name": "stdout",
          "text": [
            "['left', 'of', 'the', 'room']\n",
            "[('left', 'NN'), ('of', 'IN'), ('the', 'DT'), ('room', 'NN')]\n"
          ]
        }
      ]
    },
    {
      "cell_type": "code",
      "source": [
        "# spacy is an open-source library for Natural Language Processing (NLP), written in Python.\n",
        "#The library features models for NER, POS tagging, dependency parsing.\n",
        "!pip install spacy\n",
        "import spacy\n",
        "from spacy import displacy"
      ],
      "metadata": {
        "id": "_jveGkUcT0YM"
      },
      "execution_count": null,
      "outputs": []
    },
    {
      "cell_type": "code",
      "source": [
        "import spacy\n",
        "from spacy import displacy\n",
        "\n",
        "# Load the language model\n",
        "nlp = spacy.load(\"en_core_web_sm\")\n",
        "\n",
        "# Input sentence\n",
        "sentence = 'Deemed universities charge huge fees'\n",
        "\n",
        "# nlp function returns an object with individual token information,\n",
        "# linguistic features, and relationships\n",
        "doc = nlp(sentence)\n",
        "\n",
        "# Print header\n",
        "print(\"{:<15} | {:<10} | {:<15}\".format('Token', 'Relation', 'Head'))\n",
        "print(\"-\" * 45)\n",
        "\n",
        "# Iterate over tokens and print the token, dependency relation, and head\n",
        "for token in doc:\n",
        "    print(\"{:<15} | {:<10} | {:<15}\".format(token.text, token.dep_, token.head.text))\n",
        "\n",
        "# Use displaCy to visualize the dependency\n",
        "displacy.render(doc, style='dep', jupyter=True, options={'distance': 120})\n"
      ],
      "metadata": {
        "colab": {
          "base_uri": "https://localhost:8080/",
          "height": 400
        },
        "id": "1QoF61D6VTYu",
        "outputId": "e7fe7513-2e9a-4024-d492-3183e580ffe8"
      },
      "execution_count": 19,
      "outputs": [
        {
          "output_type": "stream",
          "name": "stdout",
          "text": [
            "Token           | Relation   | Head           \n",
            "---------------------------------------------\n",
            "Deemed          | amod       | universities   \n",
            "universities    | nsubj      | charge         \n",
            "charge          | ROOT       | charge         \n",
            "huge            | amod       | fees           \n",
            "fees            | dobj       | charge         \n"
          ]
        },
        {
          "output_type": "display_data",
          "data": {
            "text/plain": [
              "<IPython.core.display.HTML object>"
            ],
            "text/html": [
              "<span class=\"tex2jax_ignore\"><svg xmlns=\"http://www.w3.org/2000/svg\" xmlns:xlink=\"http://www.w3.org/1999/xlink\" xml:lang=\"en\" id=\"e96d50e22c31453a841b164ee058d5d9-0\" class=\"displacy\" width=\"650\" height=\"257.0\" direction=\"ltr\" style=\"max-width: none; height: 257.0px; color: #000000; background: #ffffff; font-family: Arial; direction: ltr\">\n",
              "<text class=\"displacy-token\" fill=\"currentColor\" text-anchor=\"middle\" y=\"167.0\">\n",
              "    <tspan class=\"displacy-word\" fill=\"currentColor\" x=\"50\">Deemed</tspan>\n",
              "    <tspan class=\"displacy-tag\" dy=\"2em\" fill=\"currentColor\" x=\"50\">PROPN</tspan>\n",
              "</text>\n",
              "\n",
              "<text class=\"displacy-token\" fill=\"currentColor\" text-anchor=\"middle\" y=\"167.0\">\n",
              "    <tspan class=\"displacy-word\" fill=\"currentColor\" x=\"170\">universities</tspan>\n",
              "    <tspan class=\"displacy-tag\" dy=\"2em\" fill=\"currentColor\" x=\"170\">NOUN</tspan>\n",
              "</text>\n",
              "\n",
              "<text class=\"displacy-token\" fill=\"currentColor\" text-anchor=\"middle\" y=\"167.0\">\n",
              "    <tspan class=\"displacy-word\" fill=\"currentColor\" x=\"290\">charge</tspan>\n",
              "    <tspan class=\"displacy-tag\" dy=\"2em\" fill=\"currentColor\" x=\"290\">VERB</tspan>\n",
              "</text>\n",
              "\n",
              "<text class=\"displacy-token\" fill=\"currentColor\" text-anchor=\"middle\" y=\"167.0\">\n",
              "    <tspan class=\"displacy-word\" fill=\"currentColor\" x=\"410\">huge</tspan>\n",
              "    <tspan class=\"displacy-tag\" dy=\"2em\" fill=\"currentColor\" x=\"410\">ADJ</tspan>\n",
              "</text>\n",
              "\n",
              "<text class=\"displacy-token\" fill=\"currentColor\" text-anchor=\"middle\" y=\"167.0\">\n",
              "    <tspan class=\"displacy-word\" fill=\"currentColor\" x=\"530\">fees</tspan>\n",
              "    <tspan class=\"displacy-tag\" dy=\"2em\" fill=\"currentColor\" x=\"530\">NOUN</tspan>\n",
              "</text>\n",
              "\n",
              "<g class=\"displacy-arrow\">\n",
              "    <path class=\"displacy-arc\" id=\"arrow-e96d50e22c31453a841b164ee058d5d9-0-0\" stroke-width=\"2px\" d=\"M70,122.0 C70,62.0 165.0,62.0 165.0,122.0\" fill=\"none\" stroke=\"currentColor\"/>\n",
              "    <text dy=\"1.25em\" style=\"font-size: 0.8em; letter-spacing: 1px\">\n",
              "        <textPath xlink:href=\"#arrow-e96d50e22c31453a841b164ee058d5d9-0-0\" class=\"displacy-label\" startOffset=\"50%\" side=\"left\" fill=\"currentColor\" text-anchor=\"middle\">amod</textPath>\n",
              "    </text>\n",
              "    <path class=\"displacy-arrowhead\" d=\"M70,124.0 L62,112.0 78,112.0\" fill=\"currentColor\"/>\n",
              "</g>\n",
              "\n",
              "<g class=\"displacy-arrow\">\n",
              "    <path class=\"displacy-arc\" id=\"arrow-e96d50e22c31453a841b164ee058d5d9-0-1\" stroke-width=\"2px\" d=\"M190,122.0 C190,62.0 285.0,62.0 285.0,122.0\" fill=\"none\" stroke=\"currentColor\"/>\n",
              "    <text dy=\"1.25em\" style=\"font-size: 0.8em; letter-spacing: 1px\">\n",
              "        <textPath xlink:href=\"#arrow-e96d50e22c31453a841b164ee058d5d9-0-1\" class=\"displacy-label\" startOffset=\"50%\" side=\"left\" fill=\"currentColor\" text-anchor=\"middle\">nsubj</textPath>\n",
              "    </text>\n",
              "    <path class=\"displacy-arrowhead\" d=\"M190,124.0 L182,112.0 198,112.0\" fill=\"currentColor\"/>\n",
              "</g>\n",
              "\n",
              "<g class=\"displacy-arrow\">\n",
              "    <path class=\"displacy-arc\" id=\"arrow-e96d50e22c31453a841b164ee058d5d9-0-2\" stroke-width=\"2px\" d=\"M430,122.0 C430,62.0 525.0,62.0 525.0,122.0\" fill=\"none\" stroke=\"currentColor\"/>\n",
              "    <text dy=\"1.25em\" style=\"font-size: 0.8em; letter-spacing: 1px\">\n",
              "        <textPath xlink:href=\"#arrow-e96d50e22c31453a841b164ee058d5d9-0-2\" class=\"displacy-label\" startOffset=\"50%\" side=\"left\" fill=\"currentColor\" text-anchor=\"middle\">amod</textPath>\n",
              "    </text>\n",
              "    <path class=\"displacy-arrowhead\" d=\"M430,124.0 L422,112.0 438,112.0\" fill=\"currentColor\"/>\n",
              "</g>\n",
              "\n",
              "<g class=\"displacy-arrow\">\n",
              "    <path class=\"displacy-arc\" id=\"arrow-e96d50e22c31453a841b164ee058d5d9-0-3\" stroke-width=\"2px\" d=\"M310,122.0 C310,2.0 530.0,2.0 530.0,122.0\" fill=\"none\" stroke=\"currentColor\"/>\n",
              "    <text dy=\"1.25em\" style=\"font-size: 0.8em; letter-spacing: 1px\">\n",
              "        <textPath xlink:href=\"#arrow-e96d50e22c31453a841b164ee058d5d9-0-3\" class=\"displacy-label\" startOffset=\"50%\" side=\"left\" fill=\"currentColor\" text-anchor=\"middle\">dobj</textPath>\n",
              "    </text>\n",
              "    <path class=\"displacy-arrowhead\" d=\"M530.0,124.0 L538.0,112.0 522.0,112.0\" fill=\"currentColor\"/>\n",
              "</g>\n",
              "</svg></span>"
            ]
          },
          "metadata": {}
        }
      ]
    },
    {
      "cell_type": "code",
      "source": [
        "# to get meaning of relationship\n",
        "print(spacy.explain(\"amod\"))"
      ],
      "metadata": {
        "colab": {
          "base_uri": "https://localhost:8080/"
        },
        "id": "9Kry16-hWefw",
        "outputId": "45d6c6ac-1cac-4622-b084-b0ff33e0d20f"
      },
      "execution_count": 20,
      "outputs": [
        {
          "output_type": "stream",
          "name": "stdout",
          "text": [
            "adjectival modifier\n"
          ]
        }
      ]
    },
    {
      "cell_type": "code",
      "source": [],
      "metadata": {
        "id": "zub3UnxEXcV-"
      },
      "execution_count": null,
      "outputs": []
    }
  ]
}