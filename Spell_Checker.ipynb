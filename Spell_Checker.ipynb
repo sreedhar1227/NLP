{
  "nbformat": 4,
  "nbformat_minor": 0,
  "metadata": {
    "colab": {
      "provenance": []
    },
    "kernelspec": {
      "name": "python3",
      "display_name": "Python 3"
    },
    "language_info": {
      "name": "python"
    }
  },
  "cells": [
    {
      "cell_type": "code",
      "execution_count": 1,
      "metadata": {
        "id": "JmPVg-sxjA6U"
      },
      "outputs": [],
      "source": [
        "import nltk\n",
        "from nltk.tokenize import word_tokenize"
      ]
    },
    {
      "cell_type": "markdown",
      "source": [
        "**Get a list of valid words in the English language**"
      ],
      "metadata": {
        "id": "ez4jMph7jlqS"
      }
    },
    {
      "cell_type": "code",
      "source": [
        "# 1. Get a list of valid words in the English language\n",
        "nltk.download(\"words\")\n",
        "valid_words = nltk.corpus.words.words()"
      ],
      "metadata": {
        "colab": {
          "base_uri": "https://localhost:8080/"
        },
        "id": "djlAq5JgjjHx",
        "outputId": "f1ae622b-12d1-4313-82b2-6f895f907f7a"
      },
      "execution_count": 2,
      "outputs": [
        {
          "output_type": "stream",
          "name": "stderr",
          "text": [
            "[nltk_data] Downloading package words to /root/nltk_data...\n",
            "[nltk_data]   Unzipping corpora/words.zip.\n"
          ]
        }
      ]
    },
    {
      "cell_type": "code",
      "source": [
        "len(valid_words)"
      ],
      "metadata": {
        "colab": {
          "base_uri": "https://localhost:8080/"
        },
        "id": "EbOm312_jrLc",
        "outputId": "0acff838-80f1-475b-8c46-dc0ffe144470"
      },
      "execution_count": 3,
      "outputs": [
        {
          "output_type": "execute_result",
          "data": {
            "text/plain": [
              "236736"
            ]
          },
          "metadata": {},
          "execution_count": 3
        }
      ]
    },
    {
      "cell_type": "markdown",
      "source": [
        "**We see that case has not been normalized. Normalize it.**"
      ],
      "metadata": {
        "id": "xYeg7Y72kMBX"
      }
    },
    {
      "cell_type": "code",
      "source": [
        "#2. Look at the first 20 words in the list. Is the case normalized\n",
        "valid_words [0:20]"
      ],
      "metadata": {
        "colab": {
          "base_uri": "https://localhost:8080/"
        },
        "id": "fZ7egwHejtch",
        "outputId": "5c059eb9-2b49-4406-dc9c-e85417244fc5"
      },
      "execution_count": 4,
      "outputs": [
        {
          "output_type": "execute_result",
          "data": {
            "text/plain": [
              "['A',\n",
              " 'a',\n",
              " 'aa',\n",
              " 'aal',\n",
              " 'aalii',\n",
              " 'aam',\n",
              " 'Aani',\n",
              " 'aardvark',\n",
              " 'aardwolf',\n",
              " 'Aaron',\n",
              " 'Aaronic',\n",
              " 'Aaronical',\n",
              " 'Aaronite',\n",
              " 'Aaronitic',\n",
              " 'Aaru',\n",
              " 'Ab',\n",
              " 'aba',\n",
              " 'Ababdeh',\n",
              " 'Ababua',\n",
              " 'abac']"
            ]
          },
          "metadata": {},
          "execution_count": 4
        }
      ]
    },
    {
      "cell_type": "markdown",
      "source": [
        "**Get unique list of words after normalizing case**"
      ],
      "metadata": {
        "id": "cTVD0rXsksyz"
      }
    },
    {
      "cell_type": "code",
      "source": [
        "# Normalize the casing for all the terms\n",
        "valid_words = [term.lower() for term in valid_words]\n",
        "valid_words[:20]"
      ],
      "metadata": {
        "colab": {
          "base_uri": "https://localhost:8080/"
        },
        "id": "_j4pYehvkUZB",
        "outputId": "4a85a8c1-84e8-4308-902a-8048090832a5"
      },
      "execution_count": 5,
      "outputs": [
        {
          "output_type": "execute_result",
          "data": {
            "text/plain": [
              "['a',\n",
              " 'a',\n",
              " 'aa',\n",
              " 'aal',\n",
              " 'aalii',\n",
              " 'aam',\n",
              " 'aani',\n",
              " 'aardvark',\n",
              " 'aardwolf',\n",
              " 'aaron',\n",
              " 'aaronic',\n",
              " 'aaronical',\n",
              " 'aaronite',\n",
              " 'aaronitic',\n",
              " 'aaru',\n",
              " 'ab',\n",
              " 'aba',\n",
              " 'ababdeh',\n",
              " 'ababua',\n",
              " 'abac']"
            ]
          },
          "metadata": {},
          "execution_count": 5
        }
      ]
    },
    {
      "cell_type": "code",
      "source": [
        "#Some duplicates would have been induced, create unique list after normalizing.\n",
        "valid_words = list (sorted (set(valid_words))) # Build an unordered collection of unique elements."
      ],
      "metadata": {
        "id": "lsuHA2t_kxJ1"
      },
      "execution_count": 6,
      "outputs": []
    },
    {
      "cell_type": "code",
      "source": [
        "len(valid_words)"
      ],
      "metadata": {
        "colab": {
          "base_uri": "https://localhost:8080/"
        },
        "id": "uNSxhEBklHqZ",
        "outputId": "b64b8adb-b9b6-496e-e6e8-03be5061cb2b"
      },
      "execution_count": 7,
      "outputs": [
        {
          "output_type": "execute_result",
          "data": {
            "text/plain": [
              "234377"
            ]
          },
          "metadata": {},
          "execution_count": 7
        }
      ]
    },
    {
      "cell_type": "code",
      "source": [
        "valid_words[:10]"
      ],
      "metadata": {
        "colab": {
          "base_uri": "https://localhost:8080/"
        },
        "id": "9_4VuuAflK-l",
        "outputId": "783f6579-75cb-4ac2-bc2a-f786fcfb5d18"
      },
      "execution_count": 8,
      "outputs": [
        {
          "output_type": "execute_result",
          "data": {
            "text/plain": [
              "['a',\n",
              " 'aa',\n",
              " 'aal',\n",
              " 'aalii',\n",
              " 'aam',\n",
              " 'aani',\n",
              " 'aardvark',\n",
              " 'aardwolf',\n",
              " 'aaron',\n",
              " 'aaronic']"
            ]
          },
          "metadata": {},
          "execution_count": 8
        }
      ]
    },
    {
      "cell_type": "markdown",
      "source": [
        "**We needn't apply the spell checker on stop words or punctuations. This will make the code much more efficient.**\n",
        "\n",
        "Final stop word list to be used will be English stopwords from NLTK together with punctuations"
      ],
      "metadata": {
        "id": "bDE8cNxLl9cz"
      }
    },
    {
      "cell_type": "code",
      "source": [
        "#5. Create a list of stop words which should include:\n",
        "from nltk.corpus import stopwords\n",
        "from string import punctuation"
      ],
      "metadata": {
        "id": "kA5rtT-Rl_Gs"
      },
      "execution_count": 10,
      "outputs": []
    },
    {
      "cell_type": "code",
      "source": [
        "import nltk\n",
        "nltk.download('stopwords')\n",
        "stop_nltk = stopwords.words(\"english\")"
      ],
      "metadata": {
        "colab": {
          "base_uri": "https://localhost:8080/"
        },
        "id": "Nqh1S4NumCz7",
        "outputId": "fed994e7-24ab-4791-861b-b69020ee7de5"
      },
      "execution_count": 11,
      "outputs": [
        {
          "output_type": "stream",
          "name": "stderr",
          "text": [
            "[nltk_data] Downloading package stopwords to /root/nltk_data...\n",
            "[nltk_data]   Unzipping corpora/stopwords.zip.\n"
          ]
        }
      ]
    },
    {
      "cell_type": "code",
      "source": [
        "# All punctuations\n",
        "stop_punct = list(punctuation)"
      ],
      "metadata": {
        "id": "JKRlzUdlmSfk"
      },
      "execution_count": 12,
      "outputs": []
    },
    {
      "cell_type": "code",
      "source": [
        "# c. Final list should be a combination of these two\n",
        "stop_final = stop_nltk + stop_punct"
      ],
      "metadata": {
        "id": "cgyqgvuxmjXU"
      },
      "execution_count": 13,
      "outputs": []
    },
    {
      "cell_type": "code",
      "source": [
        "len(stop_final)"
      ],
      "metadata": {
        "colab": {
          "base_uri": "https://localhost:8080/"
        },
        "id": "tkXi24g7mprE",
        "outputId": "8a1bce7f-b623-4970-d8b0-8f74eeab2bf9"
      },
      "execution_count": 14,
      "outputs": [
        {
          "output_type": "execute_result",
          "data": {
            "text/plain": [
              "211"
            ]
          },
          "metadata": {},
          "execution_count": 14
        }
      ]
    },
    {
      "cell_type": "markdown",
      "source": [
        "**Function to get correction for a single term**\n",
        "\n",
        "1. For a given term, find its edit distance with each term in the valid word list\n",
        "\n",
        "2. Store the result in a dictionary with the key as the term, and the edit distance as the value\n",
        "\n",
        "3. Sort the dictionary in asccending order of the values\n",
        "\n",
        "4. Return the first entry in the sorted result (value with minimum edit distance)"
      ],
      "metadata": {
        "id": "CiOb8EsNnMsh"
      }
    },
    {
      "cell_type": "code",
      "source": [
        "nltk.edit_distance('salsa', 'salso')"
      ],
      "metadata": {
        "colab": {
          "base_uri": "https://localhost:8080/"
        },
        "id": "S_8zmOftmzYw",
        "outputId": "defd5ed5-13bc-4940-e6a7-5b40475ea1df"
      },
      "execution_count": 15,
      "outputs": [
        {
          "output_type": "execute_result",
          "data": {
            "text/plain": [
              "1"
            ]
          },
          "metadata": {},
          "execution_count": 15
        }
      ]
    },
    {
      "cell_type": "code",
      "source": [
        "def get_correct_term(inp_word):\n",
        "  res_dict = {valid_term:nltk.edit_distance(inp_word, valid_term) for valid_term in valid_words[:20000]}\n",
        "  res_dict_sorted = sorted(res_dict.items(), key=lambda kv: kv [1], reverse=False)\n",
        "  return res_dict_sorted[0] [0]"
      ],
      "metadata": {
        "id": "gyOZORZxnSxL"
      },
      "execution_count": 16,
      "outputs": []
    },
    {
      "cell_type": "code",
      "source": [
        "inp_word = \"abacus\"\n",
        "res_dict = {valid_term:nltk.edit_distance(inp_word, valid_term) for valid_term in valid_words[:20000]}\n",
        "res_dict_sorted = sorted(res_dict.items(), key=lambda kv: kv [1], reverse=False)\n",
        "res_dict_sorted"
      ],
      "metadata": {
        "colab": {
          "base_uri": "https://localhost:8080/"
        },
        "id": "YMFGmC_DpTPQ",
        "outputId": "30cf499b-6337-4d82-adcb-5fe952a0da82"
      },
      "execution_count": 20,
      "outputs": [
        {
          "output_type": "execute_result",
          "data": {
            "text/plain": [
              "[('abacus', 0),\n",
              " ('aeacus', 1),\n",
              " ('ababua', 2),\n",
              " ('abac', 2),\n",
              " ('abaca', 2),\n",
              " ('abacay', 2),\n",
              " ('abacist', 2),\n",
              " ('aback', 2),\n",
              " ('abaculus', 2),\n",
              " ('abaris', 2),\n",
              " ('abas', 2),\n",
              " ('abatis', 2),\n",
              " ('abatua', 2),\n",
              " ('abrus', 2),\n",
              " ('acarus', 2),\n",
              " ('agaces', 2),\n",
              " ('alalus', 2),\n",
              " ('anaces', 2),\n",
              " ('aramus', 2),\n",
              " ('ascus', 2),\n",
              " ('astacus', 2),\n",
              " ('atavus', 2),\n",
              " ('attacus', 2),\n",
              " ('bacis', 2),\n",
              " ('bancus', 2),\n",
              " ('aaru', 3),\n",
              " ('aba', 3),\n",
              " ('abacate', 3),\n",
              " ('abaciscus', 3),\n",
              " ('abactor', 3),\n",
              " ('abaff', 3),\n",
              " ('abaft', 3),\n",
              " ('abama', 3),\n",
              " ('abanic', 3),\n",
              " ('abantes', 3),\n",
              " ('abase', 3),\n",
              " ('abased', 3),\n",
              " ('abaser', 3),\n",
              " ('abasgi', 3),\n",
              " ('abash', 3),\n",
              " ('abasia', 3),\n",
              " ('abasic', 3),\n",
              " ('abask', 3),\n",
              " ('abate', 3),\n",
              " ('abater', 3),\n",
              " ('abaton', 3),\n",
              " ('abator', 3),\n",
              " ('abature', 3),\n",
              " ('abave', 3),\n",
              " ('abaze', 3),\n",
              " ('abbacy', 3),\n",
              " ('abbas', 3),\n",
              " ('abbess', 3),\n",
              " ('abies', 3),\n",
              " ('abigeus', 3),\n",
              " ('abkhas', 3),\n",
              " ('ablach', 3),\n",
              " ('ablaut', 3),\n",
              " ('ablins', 3),\n",
              " ('ablush', 3),\n",
              " ('abomasus', 3),\n",
              " ('abortus', 3),\n",
              " ('about', 3),\n",
              " ('abouts', 3),\n",
              " ('abramis', 3),\n",
              " ('abraum', 3),\n",
              " ('abraxas', 3),\n",
              " ('abscess', 3),\n",
              " ('abscise', 3),\n",
              " ('absciss', 3),\n",
              " ('abu', 3),\n",
              " ('abucco', 3),\n",
              " ('abuse', 3),\n",
              " ('abut', 3),\n",
              " ('abyss', 3),\n",
              " ('acacia', 3),\n",
              " ('acacin', 3),\n",
              " ('acapu', 3),\n",
              " ('acastus', 3),\n",
              " ('accuse', 3),\n",
              " ('acinus', 3),\n",
              " ('acis', 3),\n",
              " ('acorus', 3),\n",
              " ('acts', 3),\n",
              " ('adamas', 3),\n",
              " ('adapis', 3),\n",
              " ('adays', 3),\n",
              " ('aditus', 3),\n",
              " ('aface', 3),\n",
              " ('agamous', 3),\n",
              " ('agaricus', 3),\n",
              " ('agarum', 3),\n",
              " ('agau', 3),\n",
              " ('agnus', 3),\n",
              " ('aias', 3),\n",
              " ('alacha', 3),\n",
              " ('alack', 3),\n",
              " ('alans', 3),\n",
              " ('alarbus', 3),\n",
              " ('alares', 3),\n",
              " ('alarum', 3),\n",
              " ('alas', 3),\n",
              " ('albus', 3),\n",
              " ('alces', 3),\n",
              " ('aldus', 3),\n",
              " ('alecup', 3),\n",
              " ('algous', 3),\n",
              " ('almous', 3),\n",
              " ('alnus', 3),\n",
              " ('alveus', 3),\n",
              " ('alvus', 3),\n",
              " ('amaas', 3),\n",
              " ('amadis', 3),\n",
              " ('amandus', 3),\n",
              " ('amanous', 3),\n",
              " ('amass', 3),\n",
              " ('ambitus', 3),\n",
              " ('amelus', 3),\n",
              " ('amotus', 3),\n",
              " ('amyous', 3),\n",
              " ('anabas', 3),\n",
              " ('anacid', 3),\n",
              " ('anacusia', 3),\n",
              " ('anacusic', 3),\n",
              " ('anacusis', 3),\n",
              " ('anagua', 3),\n",
              " ('anakes', 3),\n",
              " ('ananas', 3),\n",
              " ('anaqua', 3),\n",
              " ('anas', 3),\n",
              " ('anatum', 3),\n",
              " ('angus', 3),\n",
              " ('anicut', 3),\n",
              " ('animus', 3),\n",
              " ('ankus', 3),\n",
              " ('anotus', 3),\n",
              " ('anous', 3),\n",
              " ('antaeus', 3),\n",
              " ('anthus', 3),\n",
              " ('anus', 3),\n",
              " ('aotus', 3),\n",
              " ('apace', 3),\n",
              " ('apache', 3),\n",
              " ('apathus', 3),\n",
              " ('apices', 3),\n",
              " ('appius', 3),\n",
              " ('apus', 3),\n",
              " ('arabis', 3),\n",
              " ('araca', 3),\n",
              " ('araceous', 3),\n",
              " ('arachis', 3),\n",
              " ('arains', 3),\n",
              " ('arales', 3),\n",
              " ('aramis', 3),\n",
              " ('aramu', 3),\n",
              " ('araua', 3),\n",
              " ('arbacia', 3),\n",
              " ('arbacin', 3),\n",
              " ('arbutus', 3),\n",
              " ('arcos', 3),\n",
              " ('argus', 3),\n",
              " ('arius', 3),\n",
              " ('artamus', 3),\n",
              " ('aruncus', 3),\n",
              " ('asaphus', 3),\n",
              " ('asarum', 3),\n",
              " ('asilus', 3),\n",
              " ('assacu', 3),\n",
              " ('atrous', 3),\n",
              " ('aumous', 3),\n",
              " ('aureus', 3),\n",
              " ('aurous', 3),\n",
              " ('aus', 3),\n",
              " ('avars', 3),\n",
              " ('awmous', 3),\n",
              " ('ayous', 3),\n",
              " ('babs', 3),\n",
              " ('babu', 3),\n",
              " ('babua', 3),\n",
              " ('babul', 3),\n",
              " ('bac', 3),\n",
              " ('bacao', 3),\n",
              " ('bacca', 3),\n",
              " ('bacchus', 3),\n",
              " ('bach', 3),\n",
              " ('bache', 3),\n",
              " ('back', 3),\n",
              " ('backup', 3),\n",
              " ('bacon', 3),\n",
              " ('bacula', 3),\n",
              " ('bacule', 3),\n",
              " ('baculi', 3),\n",
              " ('baculus', 3),\n",
              " ('bacury', 3),\n",
              " ('bahur', 3),\n",
              " ('bahut', 3),\n",
              " ('bais', 3),\n",
              " ('baku', 3),\n",
              " ('balanus', 3),\n",
              " ('balas', 3),\n",
              " ('balu', 3),\n",
              " ('balut', 3),\n",
              " ('banns', 3),\n",
              " ('baris', 3),\n",
              " ('baru', 3),\n",
              " ('bas', 3),\n",
              " ('bases', 3),\n",
              " ('basis', 3),\n",
              " ('basos', 3),\n",
              " ('bass', 3),\n",
              " ('bassus', 3),\n",
              " ('batis', 3),\n",
              " ('bats', 3),\n",
              " ('baud', 3),\n",
              " ('baul', 3),\n",
              " ('baun', 3),\n",
              " ('bavius', 3),\n",
              " ('beatus', 3),\n",
              " ('becut', 3),\n",
              " ('aa', 4),\n",
              " ('aal', 4),\n",
              " ('aalii', 4),\n",
              " ('aam', 4),\n",
              " ('aani', 4),\n",
              " ('aaron', 4),\n",
              " ('ab', 4),\n",
              " ('ababdeh', 4),\n",
              " ('abaction', 4),\n",
              " ('abadite', 4),\n",
              " ('abaiser', 4),\n",
              " ('abaissed', 4),\n",
              " ('abalone', 4),\n",
              " ('abandon', 4),\n",
              " ('abashed', 4),\n",
              " ('abassin', 4),\n",
              " ('abatised', 4),\n",
              " ('abaxial', 4),\n",
              " ('abaxile', 4),\n",
              " ('abb', 4),\n",
              " ('abba', 4),\n",
              " ('abbacomes', 4),\n",
              " ('abbasi', 4),\n",
              " ('abbassi', 4),\n",
              " ('abbey', 4),\n",
              " ('abbie', 4),\n",
              " ('abbot', 4),\n",
              " ('abby', 4),\n",
              " ('abdal', 4),\n",
              " ('abdat', 4),\n",
              " ('abdest', 4),\n",
              " ('abdiel', 4),\n",
              " ('abduce', 4),\n",
              " ('abducens', 4),\n",
              " ('abduct', 4),\n",
              " ('abe', 4),\n",
              " ('abeam', 4),\n",
              " ('abear', 4),\n",
              " ('abed', 4),\n",
              " ('abeigh', 4),\n",
              " ('abel', 4),\n",
              " ('abele', 4),\n",
              " ('abelia', 4),\n",
              " ('aberia', 4),\n",
              " ('abet', 4),\n",
              " ('abey', 4),\n",
              " ('abfarad', 4),\n",
              " ('abhor', 4),\n",
              " ('abidal', 4),\n",
              " ('abide', 4),\n",
              " ('abider', 4),\n",
              " ('abidi', 4),\n",
              " ('abie', 4),\n",
              " ('abilao', 4),\n",
              " ('abilla', 4),\n",
              " ('abilo', 4),\n",
              " ('abiosis', 4),\n",
              " ('abipon', 4),\n",
              " ('abir', 4),\n",
              " ('abject', 4),\n",
              " ('abjure', 4),\n",
              " ('abkar', 4),\n",
              " ('abkari', 4),\n",
              " ('ablare', 4),\n",
              " ('ablastous', 4),\n",
              " ('ablate', 4),\n",
              " ('ablator', 4),\n",
              " ('ablaze', 4),\n",
              " ('able', 4),\n",
              " ('abler', 4),\n",
              " ('ablest', 4),\n",
              " ('abloom', 4),\n",
              " ('ablow', 4),\n",
              " ('ablude', 4),\n",
              " ('ably', 4),\n",
              " ('abmho', 4),\n",
              " ('abnaki', 4),\n",
              " ('abner', 4),\n",
              " ('abnet', 4),\n",
              " ('abo', 4),\n",
              " ('aboard', 4),\n",
              " ('abobra', 4),\n",
              " ('abode', 4),\n",
              " ('abody', 4),\n",
              " ('abohm', 4),\n",
              " ('aboil', 4),\n",
              " ('abolish', 4),\n",
              " ('abolla', 4),\n",
              " ('aboma', 4),\n",
              " ('abomasum', 4),\n",
              " ('abongo', 4),\n",
              " ('aboon', 4),\n",
              " ('aborad', 4),\n",
              " ('aboral', 4),\n",
              " ('abord', 4),\n",
              " ('abort', 4),\n",
              " ('abound', 4),\n",
              " ('above', 4),\n",
              " ('abox', 4),\n",
              " ('abrachia', 4),\n",
              " ('abrade', 4),\n",
              " ('abrader', 4),\n",
              " ('abraham', 4),\n",
              " ('abraid', 4),\n",
              " ('abram', 4),\n",
              " ('abrasax', 4),\n",
              " ('abrase', 4),\n",
              " ('abrash', 4),\n",
              " ('abreact', 4),\n",
              " ('abreast', 4),\n",
              " ('abret', 4),\n",
              " ('abrico', 4),\n",
              " ('abrim', 4),\n",
              " ('abrin', 4),\n",
              " ('abroach', 4),\n",
              " ('abroad', 4),\n",
              " ('abroma', 4),\n",
              " ('abrook', 4),\n",
              " ('abrupt', 4),\n",
              " ('absalom', 4),\n",
              " ('abscind', 4),\n",
              " ('abscissa', 4),\n",
              " ('abscisse', 4),\n",
              " ('abscond', 4),\n",
              " ('absconsa', 4),\n",
              " ('absent', 4),\n",
              " ('absi', 4),\n",
              " ('absit', 4),\n",
              " ('absmho', 4),\n",
              " ('absohm', 4),\n",
              " ('absonous', 4),\n",
              " ('absorb', 4),\n",
              " ('abstruse', 4),\n",
              " ('absume', 4),\n",
              " ('absurd', 4),\n",
              " ('absyrtus', 4),\n",
              " ('abulia', 4),\n",
              " ('abulic', 4),\n",
              " ('abuna', 4),\n",
              " ('abura', 4),\n",
              " ('aburst', 4),\n",
              " ('abusee', 4),\n",
              " ('abuser', 4),\n",
              " ('abusious', 4),\n",
              " ('abuta', 4),\n",
              " ('abuzz', 4),\n",
              " ('abvolt', 4),\n",
              " ('abwab', 4),\n",
              " ('aby', 4),\n",
              " ('abysm', 4),\n",
              " ('acacian', 4),\n",
              " ('acaciin', 4),\n",
              " ('academus', 4),\n",
              " ('acadia', 4),\n",
              " ('acadie', 4),\n",
              " ('acaena', 4),\n",
              " ('acajou', 4),\n",
              " ('acamar', 4),\n",
              " ('acana', 4),\n",
              " ('acanth', 4),\n",
              " ('acanthus', 4),\n",
              " ('acara', 4),\n",
              " ('acari', 4),\n",
              " ('acarid', 4),\n",
              " ('acarol', 4),\n",
              " ('acarpous', 4),\n",
              " ('acate', 4),\n",
              " ('acaulous', 4),\n",
              " ('acca', 4),\n",
              " ('access', 4),\n",
              " ('accost', 4),\n",
              " ('accoy', 4),\n",
              " ('accrue', 4),\n",
              " ('accurse', 4),\n",
              " ('accusal', 4),\n",
              " ('accused', 4),\n",
              " ('accuser', 4),\n",
              " ('ace', 4),\n",
              " ('acer', 4),\n",
              " ('acerous', 4),\n",
              " ('acetous', 4),\n",
              " ('acetum', 4),\n",
              " ('ach', 4),\n",
              " ('achagua', 4),\n",
              " ('achates', 4),\n",
              " ('ache', 4),\n",
              " ('achras', 4),\n",
              " ('achuas', 4),\n",
              " ('achy', 4),\n",
              " ('acicula', 4),\n",
              " ('acid', 4),\n",
              " ('acilius', 4),\n",
              " ('acinaces', 4),\n",
              " ('acinous', 4),\n",
              " ('acle', 4),\n",
              " ('acloud', 4),\n",
              " ('aclys', 4),\n",
              " ('acme', 4),\n",
              " ('acne', 4),\n",
              " ('acock', 4),\n",
              " ('acolous', 4),\n",
              " ('acomous', 4),\n",
              " ('acor', 4),\n",
              " ('acracy', 4),\n",
              " ('acre', 4),\n",
              " ('acrodus', 4),\n",
              " ('across', 4),\n",
              " ('acrux', 4),\n",
              " ('act', 4),\n",
              " ('acta', 4),\n",
              " ('actium', 4),\n",
              " ('actu', 4),\n",
              " ('acuan', 4),\n",
              " ('aculeus', 4),\n",
              " ('acute', 4),\n",
              " ('acyl', 4),\n",
              " ('ada', 4),\n",
              " ('adactyl', 4),\n",
              " ('adad', 4),\n",
              " ('adage', 4),\n",
              " ('adagio', 4),\n",
              " ('adai', 4),\n",
              " ('adaize', 4),\n",
              " ('adam', 4),\n",
              " ('adamic', 4),\n",
              " ('adance', 4),\n",
              " ('adapa', 4),\n",
              " ('adapid', 4),\n",
              " ('adapt', 4),\n",
              " ('adar', 4),\n",
              " ('adarme', 4),\n",
              " ('adat', 4),\n",
              " ('adati', 4),\n",
              " ('adatom', 4),\n",
              " ('adaunt', 4),\n",
              " ('adaw', 4),\n",
              " ('adawe', 4),\n",
              " ('adawlut', 4),\n",
              " ('adawn', 4),\n",
              " ('aday', 4),\n",
              " ('addu', 4),\n",
              " ('adicea', 4),\n",
              " ('adieu', 4),\n",
              " ('adieux', 4),\n",
              " ('adipous', 4),\n",
              " ('adjust', 4),\n",
              " ('adless', 4),\n",
              " ('adnoun', 4),\n",
              " ('adonis', 4),\n",
              " ('adradius', 4),\n",
              " ('adrue', 4),\n",
              " ('adsbud', 4),\n",
              " ('aduncous', 4),\n",
              " ('adusk', 4),\n",
              " ('adust', 4),\n",
              " ('adytum', 4),\n",
              " ('aeacides', 4),\n",
              " ('aeaean', 4),\n",
              " ('aecium', 4),\n",
              " ('aedeagus', 4),\n",
              " ('aedes', 4),\n",
              " ('aegagrus', 4),\n",
              " ('aegis', 4),\n",
              " ('aenach', 4),\n",
              " ('aeneous', 4),\n",
              " ('aeolis', 4),\n",
              " ('aequi', 4),\n",
              " ('aerobus', 4),\n",
              " ('aes', 4),\n",
              " ('aesculus', 4),\n",
              " ('aethusa', 4),\n",
              " ('aetobatus', 4),\n",
              " ('afaint', 4),\n",
              " ('afar', 4),\n",
              " ('afara', 4),\n",
              " ('afflatus', 4),\n",
              " ('afflux', 4),\n",
              " ('affuse', 4),\n",
              " ('aflush', 4),\n",
              " ('afoul', 4),\n",
              " ('aga', 4),\n",
              " ('agade', 4),\n",
              " ('agag', 4),\n",
              " ('again', 4),\n",
              " ('against', 4),\n",
              " ('agal', 4),\n",
              " ('agalma', 4),\n",
              " ('agama', 4),\n",
              " ('agamae', 4),\n",
              " ('agami', 4),\n",
              " ('agamic', 4),\n",
              " ('agamid', 4),\n",
              " ('agamy', 4),\n",
              " ('agao', 4),\n",
              " ('agape', 4),\n",
              " ('agar', 4),\n",
              " ('agaric', 4),\n",
              " ('agasp', 4),\n",
              " ('agate', 4),\n",
              " ('agatha', 4),\n",
              " ('agathis', 4),\n",
              " ('agaty', 4),\n",
              " ('agave', 4),\n",
              " ('agavose', 4),\n",
              " ('agawam', 4),\n",
              " ('agaz', 4),\n",
              " ('agaze', 4),\n",
              " ('agazed', 4),\n",
              " ('agelaius', 4),\n",
              " ('agelaus', 4),\n",
              " ('aggur', 4),\n",
              " ('aglaos', 4),\n",
              " ('agnes', 4),\n",
              " ('agrilus', 4),\n",
              " ('agua', 4),\n",
              " ('ague', 4),\n",
              " ('agush', 4),\n",
              " ('agust', 4),\n",
              " ('agyieus', 4),\n",
              " ('agynous', 4),\n",
              " ('aha', 4),\n",
              " ('ahu', 4),\n",
              " ('ahum', 4),\n",
              " ('ahush', 4),\n",
              " ('aides', 4),\n",
              " ('aidful', 4),\n",
              " ('ailurus', 4),\n",
              " ('aimful', 4),\n",
              " ('ainhum', 4),\n",
              " ('ainu', 4),\n",
              " ('aitch', 4),\n",
              " ('ajaja', 4),\n",
              " ('ajar', 4),\n",
              " ('ajari', 4),\n",
              " ('ajava', 4),\n",
              " ('aka', 4),\n",
              " ('akal', 4),\n",
              " ('akala', 4),\n",
              " ('akali', 4),\n",
              " ('akan', 4),\n",
              " ('akania', 4),\n",
              " ('akaroa', 4),\n",
              " ('akasa', 4),\n",
              " ('akawai', 4),\n",
              " ('akazga', 4),\n",
              " ('aku', 4),\n",
              " ('ala', 4),\n",
              " ('alada', 4),\n",
              " ('alaihi', 4),\n",
              " ('alain', 4),\n",
              " ('alaite', 4),\n",
              " ('alaki', 4),\n",
              " ('alala', 4),\n",
              " ('alamo', 4),\n",
              " ('alan', 4),\n",
              " ('aland', 4),\n",
              " ('alani', 4),\n",
              " ('alanyl', 4),\n",
              " ('alar', 4),\n",
              " ('alaria', 4),\n",
              " ('alaric', 4),\n",
              " ('alarm', 4),\n",
              " ('alary', 4),\n",
              " ('alascan', 4),\n",
              " ('alaska', 4),\n",
              " ('alate', 4),\n",
              " ('alated', 4),\n",
              " ('alauda', 4),\n",
              " ('alawi', 4),\n",
              " ('alba', 4),\n",
              " ('albacore', 4),\n",
              " ('albainn', 4),\n",
              " ('alban', 4),\n",
              " ('albania', 4),\n",
              " ('albany', 4),\n",
              " ('albarco', 4),\n",
              " ('albarium', 4),\n",
              " ('albata', 4),\n",
              " ('albatros', 4),\n",
              " ('albicans', 4),\n",
              " ('albiculi', 4),\n",
              " ('albuca', 4),\n",
              " ('album', 4),\n",
              " ('alca', 4),\n",
              " ('alcae', 4),\n",
              " ('alco', 4),\n",
              " ('alcor', 4),\n",
              " ('alec', 4),\n",
              " ('aleck', 4),\n",
              " ('alecost', 4),\n",
              " ('alephs', 4),\n",
              " ('aleut', 4),\n",
              " ('alexas', 4),\n",
              " ('alexis', 4),\n",
              " ('alexius', 4),\n",
              " ('alfaqui', 4),\n",
              " ('alfur', 4),\n",
              " ('algum', 4),\n",
              " ('alias', 4),\n",
              " ('alibamu', 4),\n",
              " ('alice', 4),\n",
              " ('alicia', 4),\n",
              " ('alick', 4),\n",
              " ('alids', 4),\n",
              " ('alkalous', 4),\n",
              " ('alkes', 4),\n",
              " ('allies', 4),\n",
              " ('allium', 4),\n",
              " ('alltud', 4),\n",
              " ('almach', 4),\n",
              " ('alms', 4),\n",
              " ('almud', 4),\n",
              " ('almug', 4),\n",
              " ('alois', 4),\n",
              " ('aloud', 4),\n",
              " ('alpaca', 4),\n",
              " ('alphos', 4),\n",
              " ('alraun', 4),\n",
              " ('altoun', 4),\n",
              " ('altun', 4),\n",
              " ('aluco', 4),\n",
              " ('alum', 4),\n",
              " ('alumnus', 4),\n",
              " ('alur', 4),\n",
              " ('always', 4),\n",
              " ('alytes', 4),\n",
              " ('ama', 4),\n",
              " ('amabel', 4),\n",
              " ('amadi', 4),\n",
              " ('amadou', 4),\n",
              " ('amaga', 4),\n",
              " ('amah', 4),\n",
              " ('amain', 4),\n",
              " ('amakosa', 4),\n",
              " ('amala', 4),\n",
              " ('amaltas', 4),\n",
              " ('amamau', 4),\n",
              " ('amanda', 4),\n",
              " ('amang', 4),\n",
              " ('amani', 4),\n",
              " ('amania', 4),\n",
              " ('amanist', 4),\n",
              " ('amapa', 4),\n",
              " ('amar', 4),\n",
              " ('amara', 4),\n",
              " ('amarin', 4),\n",
              " ('amarth', 4),\n",
              " ('amasta', 4),\n",
              " ('amasty', 4),\n",
              " ('amateur', 4),\n",
              " ('amati', 4),\n",
              " ('amatol', 4),\n",
              " ('amaze', 4),\n",
              " ('amazed', 4),\n",
              " ('amazia', 4),\n",
              " ('amazon', 4),\n",
              " ('amazulu', 4),\n",
              " ('amba', 4),\n",
              " ('ambage', 4),\n",
              " ('ambagious', 4),\n",
              " ('ambalam', 4),\n",
              " ('amban', 4),\n",
              " ('ambar', 4),\n",
              " ('ambaree', 4),\n",
              " ('ambary', 4),\n",
              " ('ambash', 4),\n",
              " ('ambassy', 4),\n",
              " ('ambatch', 4),\n",
              " ('ambay', 4),\n",
              " ('amberous', 4),\n",
              " ('ambiens', 4),\n",
              " ('ambos', 4),\n",
              " ('ambsace', 4),\n",
              " ('ambush', 4),\n",
              " ('amellus', 4),\n",
              " ('amelu', 4),\n",
              " ('amends', 4),\n",
              " ('amic', 4),\n",
              " ('amical', 4),\n",
              " ('amice', 4),\n",
              " ('amiced', 4),\n",
              " ('amiles', 4),\n",
              " ('amiss', 4),\n",
              " ('ammu', 4),\n",
              " ('amomis', 4),\n",
              " ('amomum', 4),\n",
              " ('amores', 4),\n",
              " ('amorous', 4),\n",
              " ('amorua', 4),\n",
              " ('amos', 4),\n",
              " ('amour', 4),\n",
              " ('ampul', 4),\n",
              " ('amuck', 4),\n",
              " ('amuguis', 4),\n",
              " ('amurcous', 4),\n",
              " ('amuse', 4),\n",
              " ('amvis', 4),\n",
              " ('amyclas', 4),\n",
              " ('amylum', 4),\n",
              " ('amyris', 4),\n",
              " ('ana', 4),\n",
              " ('anabasis', 4),\n",
              " ('anabo', 4),\n",
              " ('anacara', 4),\n",
              " ('anacard', 4),\n",
              " ('anacrusis', 4),\n",
              " ('anacyclus', 4),\n",
              " ('anadem', 4),\n",
              " ('anagap', 4),\n",
              " ('anagep', 4),\n",
              " ('anahau', 4),\n",
              " ('anaitis', 4),\n",
              " ('anal', 4),\n",
              " ('analav', 4),\n",
              " ('analects', 4),\n",
              " ('anally', 4),\n",
              " ('analyse', 4),\n",
              " ('analyst', 4),\n",
              " ('anam', 4),\n",
              " ('anama', 4),\n",
              " ('anan', 4),\n",
              " ('anana', 4),\n",
              " ('ananda', 4),\n",
              " ('ananias', 4),\n",
              " ('ananism', 4),\n",
              " ('anansi', 4),\n",
              " ('ananta', 4),\n",
              " ('ananym', 4),\n",
              " ('anaphe', 4),\n",
              " ('anarch', 4),\n",
              " ('anarchy', 4),\n",
              " ('anarya', 4),\n",
              " ('anasa', 4),\n",
              " ('anat', 4),\n",
              " ('anatase', 4),\n",
              " ('anatox', 4),\n",
              " ('anax', 4),\n",
              " ('anaxon', 4),\n",
              " ('anay', 4),\n",
              " ('anba', 4),\n",
              " ('ancha', 4),\n",
              " ('anchusa', 4),\n",
              " ('ancon', 4),\n",
              " ('ancylus', 4),\n",
              " ('andaqui', 4),\n",
              " ('anes', 4),\n",
              " ('anesis', 4),\n",
              " ('angelus', 4),\n",
              " ('angers', 4),\n",
              " ('angles', 4),\n",
              " ('anguis', 4),\n",
              " ('anice', 4),\n",
              " ('animous', 4),\n",
              " ('anis', 4),\n",
              " ('anisum', 4),\n",
              " ('anjou', 4),\n",
              " ('ankou', 4),\n",
              " ('anlace', 4),\n",
              " ('anlaut', 4),\n",
              " ('annals', 4),\n",
              " ('annates', 4),\n",
              " ('annul', 4),\n",
              " ('annulus', 4),\n",
              " ('anodos', 4),\n",
              " ('anolis', 4),\n",
              " ('anorchus', 4),\n",
              " ('anseis', 4),\n",
              " ('ansu', 4),\n",
              " ('antacid', 4),\n",
              " ('antaios', 4),\n",
              " ('antares', 4),\n",
              " ('antes', 4),\n",
              " ('anticous', 4),\n",
              " ('anticum', 4),\n",
              " ('antrum', 4),\n",
              " ('antu', 4),\n",
              " ('antum', 4),\n",
              " ('anubis', 4),\n",
              " ('anurous', 4),\n",
              " ('anxious', 4),\n",
              " ('anzac', 4),\n",
              " ('aonach', 4),\n",
              " ('aotes', 4),\n",
              " ('aoul', 4),\n",
              " ('apa', 4),\n",
              " ('apachism', 4),\n",
              " ('apaid', 4),\n",
              " ('apalit', 4),\n",
              " ('apama', 4),\n",
              " ('apar', 4),\n",
              " ('aparai', 4),\n",
              " ('apart', 4),\n",
              " ('apatan', 4),\n",
              " ('apathy', 4),\n",
              " ('apayao', 4),\n",
              " ('aperu', 4),\n",
              " ('aphanes', 4),\n",
              " ('aphis', 4),\n",
              " ('aphodus', 4),\n",
              " ('apiaca', 4),\n",
              " ('apiaceous', 4),\n",
              " ('apiales', 4),\n",
              " ('apicad', 4),\n",
              " ('apical', 4),\n",
              " ('apicula', 4),\n",
              " ('apiculus', 4),\n",
              " ('apieces', 4),\n",
              " ('apios', 4),\n",
              " ('apis', 4),\n",
              " ('apium', 4),\n",
              " ('apocha', 4),\n",
              " ('apodes', 4),\n",
              " ('apodous', 4),\n",
              " ('apout', 4),\n",
              " ('apsis', 4),\n",
              " ('aptychus', 4),\n",
              " ('apyrous', 4),\n",
              " ('aqua', 4),\n",
              " ('aquarius', 4),\n",
              " ('aqueous', 4),\n",
              " ('aquo', 4),\n",
              " ('ara', 4),\n",
              " ('arab', 4),\n",
              " ('araba', 4),\n",
              " ('araban', 4),\n",
              " ('arabic', 4),\n",
              " ('arabin', 4),\n",
              " ('arabism', 4),\n",
              " ('arabist', 4),\n",
              " ('arabit', 4),\n",
              " ('arable', 4),\n",
              " ('araby', 4),\n",
              " ('aracana', 4),\n",
              " ('aracari', 4),\n",
              " ('araceae', 4),\n",
              " ('arachic', 4),\n",
              " ('arachin', 4),\n",
              " ('arachne', 4),\n",
              " ('arad', 4),\n",
              " ('arado', 4),\n",
              " ('arain', 4),\n",
              " ('arake', 4),\n",
              " ('aralia', 4),\n",
              " ('aralie', 4),\n",
              " ('aranea', 4),\n",
              " ('araneous', 4),\n",
              " ('aranga', 4),\n",
              " ('arango', 4),\n",
              " ('arar', 4),\n",
              " ('arara', 4),\n",
              " ('ararao', 4),\n",
              " ('arati', 4),\n",
              " ('arauan', 4),\n",
              " ('araucan', 4),\n",
              " ('arauna', 4),\n",
              " ('arawa', 4),\n",
              " ('arawak', 4),\n",
              " ('arba', 4),\n",
              " ('arbalest', 4),\n",
              " ('arbalist', 4),\n",
              " ('arbalo', 4),\n",
              " ('arborous', 4),\n",
              " ('arc', 4),\n",
              " ('arca', 4),\n",
              " ('arcacea', 4),\n",
              " ('arcanum', 4),\n",
              " ('arch', 4),\n",
              " ('arche', 4),\n",
              " ('arches', 4),\n",
              " ('archeus', 4),\n",
              " ('archy', 4),\n",
              " ('arctos', 4),\n",
              " ('arcual', 4),\n",
              " ('arcula', 4),\n",
              " ('ardu', 4),\n",
              " ('arduous', 4),\n",
              " ('areach', 4),\n",
              " ('areca', 4),\n",
              " ('arecuna', 4),\n",
              " ('argans', 4),\n",
              " ('argas', 4),\n",
              " ('argue', 4),\n",
              " ('argulus', 4),\n",
              " ('aries', 4),\n",
              " ('arigue', 4),\n",
              " ('arillus', 4),\n",
              " ('arjun', 4),\n",
              " ('arles', 4),\n",
              " ('armful', 4),\n",
              " ('arms', 4),\n",
              " ('arnaut', 4),\n",
              " ('arnut', 4),\n",
              " ('arock', 4),\n",
              " ('aroras', 4),\n",
              " ('arouse', 4),\n",
              " ('arrack', 4),\n",
              " ('arras', 4),\n",
              " ('arrau', 4),\n",
              " ('arris', 4),\n",
              " ('arsacid', 4),\n",
              " ('arses', 4),\n",
              " ('arsis', 4),\n",
              " ('artful', 4),\n",
              " ('artgum', 4),\n",
              " ('arthur', 4),\n",
              " ('aru', 4),\n",
              " ('aruac', 4),\n",
              " ('arui', 4),\n",
              " ('arum', 4),\n",
              " ('arusa', 4),\n",
              " ('aryballus', 4),\n",
              " ('arzun', 4),\n",
              " ('as', 4),\n",
              " ('asa', 4),\n",
              " ('asahel', 4),\n",
              " ('asak', 4),\n",
              " ('asale', 4),\n",
              " ('asana', 4),\n",
              " ('asaph', 4),\n",
              " ('asarh', 4),\n",
              " ('asaron', 4),\n",
              " ('asbestus', 4),\n",
              " ('ascan', 4),\n",
              " ('ascanius', 4),\n",
              " ('ascaris', 4),\n",
              " ('asci', 4),\n",
              " ('ascii', 4),\n",
              " ('ascon', 4),\n",
              " ('ascot', 4),\n",
              " ('ascry', 4),\n",
              " ('ascula', 4),\n",
              " ('asellus', 4),\n",
              " ('ashes', 4),\n",
              " ('ashur', 4),\n",
              " ('askos', 4),\n",
              " ('asmack', 4),\n",
              " ('aspace', 4),\n",
              " ('aspout', 4),\n",
              " ('ass', 4),\n",
              " ('assaut', 4),\n",
              " ('assess', 4),\n",
              " ('assets', 4),\n",
              " ('assis', 4),\n",
              " ('astrut', 4),\n",
              " ('astur', 4),\n",
              " ('asylum', 4),\n",
              " ('ata', 4),\n",
              " ('atabal', 4),\n",
              " ('atabeg', 4),\n",
              " ('atabek', 4),\n",
              " ('atactic', 4),\n",
              " ('atalan', 4),\n",
              " ('ataman', 4),\n",
              " ('atap', 4),\n",
              " ('ataunt', 4),\n",
              " ('atavi', 4),\n",
              " ('atavic', 4),\n",
              " ('atavism', 4),\n",
              " ('atavist', 4),\n",
              " ('ataxia', 4),\n",
              " ('ataxic', 4),\n",
              " ('ataxy', 4),\n",
              " ('atazir', 4),\n",
              " ('atbash', 4),\n",
              " ('ateles', 4),\n",
              " ('ates', 4),\n",
              " ('ateuchus', 4),\n",
              " ('athens', 4),\n",
              " ('atheous', 4),\n",
              " ('atis', 4),\n",
              " ('atlas', 4),\n",
              " ('atmos', 4),\n",
              " ('atocha', 4),\n",
              " ('atocia', 4),\n",
              " ('atokous', 4),\n",
              " ('atour', 4),\n",
              " ('atrium', 4),\n",
              " ('attacco', 4),\n",
              " ('attach', 4),\n",
              " ('attache', 4),\n",
              " ('attack', 4),\n",
              " ...]"
            ]
          },
          "metadata": {},
          "execution_count": 20
        }
      ]
    },
    {
      "cell_type": "code",
      "source": [
        "get_correct_term(\"abacus\")"
      ],
      "metadata": {
        "colab": {
          "base_uri": "https://localhost:8080/",
          "height": 35
        },
        "id": "Z-ex7sO7nf8m",
        "outputId": "ec62aa4a-7db5-4e53-ad46-cabb71d4cc08"
      },
      "execution_count": 17,
      "outputs": [
        {
          "output_type": "execute_result",
          "data": {
            "text/plain": [
              "'abacus'"
            ],
            "application/vnd.google.colaboratory.intrinsic+json": {
              "type": "string"
            }
          },
          "metadata": {},
          "execution_count": 17
        }
      ]
    },
    {
      "cell_type": "code",
      "source": [
        "get_correct_term(\"abocus\")"
      ],
      "metadata": {
        "colab": {
          "base_uri": "https://localhost:8080/",
          "height": 35
        },
        "id": "Ggx43GlTnufR",
        "outputId": "0299377f-42dd-4952-f737-58123f4894d0"
      },
      "execution_count": 18,
      "outputs": [
        {
          "output_type": "execute_result",
          "data": {
            "text/plain": [
              "'abacus'"
            ],
            "application/vnd.google.colaboratory.intrinsic+json": {
              "type": "string"
            }
          },
          "metadata": {},
          "execution_count": 18
        }
      ]
    },
    {
      "cell_type": "markdown",
      "source": [
        "**Write the commands to tokenize after lowering case for any given input sentence**\n",
        "\n",
        "* Use NLTKs word_tokenize for this"
      ],
      "metadata": {
        "id": "_J8oS1F6qXww"
      }
    },
    {
      "cell_type": "code",
      "source": [
        "inp_sent = \"The new abacos is great\""
      ],
      "metadata": {
        "id": "jJZAgxgEoMmJ"
      },
      "execution_count": 21,
      "outputs": []
    },
    {
      "cell_type": "code",
      "source": [
        "nltk.download('punkt_tab')\n",
        "res = word_tokenize(inp_sent.lower())"
      ],
      "metadata": {
        "colab": {
          "base_uri": "https://localhost:8080/"
        },
        "id": "hmnocnQIqcyK",
        "outputId": "aa895441-03d3-4702-ecda-b2eb01513f50"
      },
      "execution_count": 23,
      "outputs": [
        {
          "output_type": "stream",
          "name": "stderr",
          "text": [
            "[nltk_data] Downloading package punkt_tab to /root/nltk_data...\n",
            "[nltk_data]   Unzipping tokenizers/punkt_tab.zip.\n"
          ]
        }
      ]
    },
    {
      "cell_type": "code",
      "source": [
        "res"
      ],
      "metadata": {
        "colab": {
          "base_uri": "https://localhost:8080/"
        },
        "id": "_4xZcjKpqhI6",
        "outputId": "79a7b9f6-b737-408c-9366-e4a5038a52a2"
      },
      "execution_count": 24,
      "outputs": [
        {
          "output_type": "execute_result",
          "data": {
            "text/plain": [
              "['the', 'new', 'abacos', 'is', 'great']"
            ]
          },
          "metadata": {},
          "execution_count": 24
        }
      ]
    },
    {
      "cell_type": "markdown",
      "source": [
        "**Make a set from valid_words, for faster lookup to check if word is in valid list or not.**\n",
        "\n",
        "Only those words which are not in the valid list need to be corrected."
      ],
      "metadata": {
        "id": "Jp6qeCGwqv_G"
      }
    },
    {
      "cell_type": "code",
      "source": [
        "valid_words_set = set(valid_words)"
      ],
      "metadata": {
        "id": "UE5tpOcLqk4V"
      },
      "execution_count": 25,
      "outputs": []
    },
    {
      "cell_type": "markdown",
      "source": [
        "**Define a function for spell correcting any given input sentence**\n",
        "\n",
        "1. tokenize after doing lower case\n",
        "\n",
        "2. For each term in the tokenized sentence +\n",
        "\n",
        "* check if the term is in the list of valid words (valid_words_set)\n",
        "\n",
        "* if yes, return the word as is\n",
        "\n",
        "* if no, get the correct word using get_correct_term function\n",
        "\n",
        "3. Return the joined string as output"
      ],
      "metadata": {
        "id": "ziz6SZ3KrKg5"
      }
    },
    {
      "cell_type": "code",
      "source": [
        "inp_sent"
      ],
      "metadata": {
        "colab": {
          "base_uri": "https://localhost:8080/",
          "height": 35
        },
        "id": "XktGzXXLq9iz",
        "outputId": "5901040f-df24-4935-afb0-146f0e92758f"
      },
      "execution_count": 26,
      "outputs": [
        {
          "output_type": "execute_result",
          "data": {
            "text/plain": [
              "'The new abacos is great'"
            ],
            "application/vnd.google.colaboratory.intrinsic+json": {
              "type": "string"
            }
          },
          "metadata": {},
          "execution_count": 26
        }
      ]
    },
    {
      "cell_type": "code",
      "source": [
        "def correct_set(inp_sent):\n",
        "  inp_tokens = word_tokenize(inp_sent.lower())\n",
        "  corrected_tokens = [term if ((term in valid_words_set) or (term in stop_final)) else get_correct_term(term) for term in inp_tokens]\n",
        "  return \" \".join(corrected_tokens)"
      ],
      "metadata": {
        "id": "czdWtFrjrPUc"
      },
      "execution_count": 27,
      "outputs": []
    },
    {
      "cell_type": "code",
      "source": [
        "# Test the function for the input sentence \"The new abacos is great\n",
        "correct_set('The new abacos is great')"
      ],
      "metadata": {
        "colab": {
          "base_uri": "https://localhost:8080/",
          "height": 35
        },
        "id": "-25NiBgQrjrv",
        "outputId": "e87ec45c-c199-42cd-9091-313cc3f22026"
      },
      "execution_count": 28,
      "outputs": [
        {
          "output_type": "execute_result",
          "data": {
            "text/plain": [
              "'the new abacus is great'"
            ],
            "application/vnd.google.colaboratory.intrinsic+json": {
              "type": "string"
            }
          },
          "metadata": {},
          "execution_count": 28
        }
      ]
    },
    {
      "cell_type": "code",
      "source": [],
      "metadata": {
        "id": "LmqXLMZnrus3"
      },
      "execution_count": null,
      "outputs": []
    }
  ]
}